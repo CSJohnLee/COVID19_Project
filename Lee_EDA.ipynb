{
 "cells": [
  {
   "cell_type": "markdown",
   "metadata": {},
   "source": [
    "# John's EDA"
   ]
  },
  {
   "cell_type": "markdown",
   "metadata": {},
   "source": [
    "### **Importing Modules**"
   ]
  },
  {
   "cell_type": "code",
   "execution_count": 2,
   "metadata": {},
   "outputs": [],
   "source": [
    "#Importing Modules\n",
    "import numpy as np\n",
    "import pandas as pd\n",
    "pd.options.display.float_format = '{:,.0f}'.format\n",
    "import matplotlib.pyplot as plt\n",
    "%matplotlib inline\n",
    "from datetime import datetime"
   ]
  },
  {
   "cell_type": "markdown",
   "metadata": {},
   "source": [
    "# **1. Working on Cases/Deaths per State Data over time**"
   ]
  },
  {
   "cell_type": "markdown",
   "metadata": {},
   "source": [
    "Action Plan:\n",
    "1) Load COVID19 cases/deaths/state/over time data.  \n",
    "2) Create dataframe with columns for each state's cases or deaths over time  \n",
    "3) Pickle and simple plot"
   ]
  },
  {
   "cell_type": "markdown",
   "metadata": {},
   "source": [
    "## *Retrieving data and Formatting*"
   ]
  },
  {
   "cell_type": "code",
   "execution_count": 3,
   "metadata": {},
   "outputs": [
    {
     "data": {
      "text/html": [
       "<div>\n",
       "<style scoped>\n",
       "    .dataframe tbody tr th:only-of-type {\n",
       "        vertical-align: middle;\n",
       "    }\n",
       "\n",
       "    .dataframe tbody tr th {\n",
       "        vertical-align: top;\n",
       "    }\n",
       "\n",
       "    .dataframe thead th {\n",
       "        text-align: right;\n",
       "    }\n",
       "</style>\n",
       "<table border=\"1\" class=\"dataframe\">\n",
       "  <thead>\n",
       "    <tr style=\"text-align: right;\">\n",
       "      <th></th>\n",
       "      <th>county</th>\n",
       "      <th>state</th>\n",
       "      <th>fips</th>\n",
       "      <th>cases</th>\n",
       "      <th>deaths</th>\n",
       "    </tr>\n",
       "    <tr>\n",
       "      <th>date</th>\n",
       "      <th></th>\n",
       "      <th></th>\n",
       "      <th></th>\n",
       "      <th></th>\n",
       "      <th></th>\n",
       "    </tr>\n",
       "  </thead>\n",
       "  <tbody>\n",
       "    <tr>\n",
       "      <th>January-21</th>\n",
       "      <td>Snohomish</td>\n",
       "      <td>Washington</td>\n",
       "      <td>53,061</td>\n",
       "      <td>1</td>\n",
       "      <td>0</td>\n",
       "    </tr>\n",
       "    <tr>\n",
       "      <th>January-22</th>\n",
       "      <td>Snohomish</td>\n",
       "      <td>Washington</td>\n",
       "      <td>53,061</td>\n",
       "      <td>1</td>\n",
       "      <td>0</td>\n",
       "    </tr>\n",
       "    <tr>\n",
       "      <th>January-23</th>\n",
       "      <td>Snohomish</td>\n",
       "      <td>Washington</td>\n",
       "      <td>53,061</td>\n",
       "      <td>1</td>\n",
       "      <td>0</td>\n",
       "    </tr>\n",
       "    <tr>\n",
       "      <th>January-24</th>\n",
       "      <td>Cook</td>\n",
       "      <td>Illinois</td>\n",
       "      <td>17,031</td>\n",
       "      <td>1</td>\n",
       "      <td>0</td>\n",
       "    </tr>\n",
       "    <tr>\n",
       "      <th>January-24</th>\n",
       "      <td>Snohomish</td>\n",
       "      <td>Washington</td>\n",
       "      <td>53,061</td>\n",
       "      <td>1</td>\n",
       "      <td>0</td>\n",
       "    </tr>\n",
       "  </tbody>\n",
       "</table>\n",
       "</div>"
      ],
      "text/plain": [
       "               county       state   fips  cases  deaths\n",
       "date                                                   \n",
       "January-21  Snohomish  Washington 53,061      1       0\n",
       "January-22  Snohomish  Washington 53,061      1       0\n",
       "January-23  Snohomish  Washington 53,061      1       0\n",
       "January-24       Cook    Illinois 17,031      1       0\n",
       "January-24  Snohomish  Washington 53,061      1       0"
      ]
     },
     "execution_count": 3,
     "metadata": {},
     "output_type": "execute_result"
    }
   ],
   "source": [
    "#Reading and Filtering Files\n",
    "counties = pd.read_csv(\"Data_Raw\\\\us-counties.csv\", index_col=['date'])\n",
    "header=['date', 'county', 'state', 'fips', 'cases', 'deaths']\n",
    "dates = pd.DatetimeIndex(counties.index)\n",
    "dates=dates.strftime('%B-%d')\n",
    "counties.index=dates\n",
    "counties.head()\n",
    "#len(counties)"
   ]
  },
  {
   "cell_type": "markdown",
   "metadata": {},
   "source": [
    "## *Generating Data Frame for Cases by State*"
   ]
  },
  {
   "cell_type": "code",
   "execution_count": 4,
   "metadata": {},
   "outputs": [
    {
     "name": "stdout",
     "output_type": "stream",
     "text": [
      "Cases in California on April 15: 27107\n"
     ]
    }
   ],
   "source": [
    "#Step 1: Summing all the cases on April 15 in California\n",
    "total = 0\n",
    "filtered = counties[(counties.index=='April-15')&(counties['state']=='California')]['cases']\n",
    "for i in range(0,len(filtered)):\n",
    "    #print(counties[(counties.index==each)&(counties['state']=='California')]['cases'][i])\n",
    "    total += counties[(counties.index=='April-15')&(counties['state']=='California')]['cases'][i]\n",
    "print(\"Cases in California on April 15:\", total)"
   ]
  },
  {
   "cell_type": "markdown",
   "metadata": {},
   "source": [
    "#### Instruction -> turn this cell to code, when running, expect waiting time  \n",
    "#Step 2: Summing all the cases on all dates in 5 states (took John 1+ minutes to load)\n",
    "\n",
    "states = ['California', 'Colorado', 'Kansas', 'New York', 'Washington']\n",
    "#states = ['California']  <- tried it on California first to match step 1\n",
    "cases={}\n",
    "for state in states:\n",
    "    cases_list=[]\n",
    "    for each in counties.index.unique():\n",
    "        total = 0\n",
    "        filtered = counties[(counties.index==each)&(counties['state']==state)]['cases']\n",
    "        for i in range(0,len(filtered)):\n",
    "            total += counties[(counties.index==each)&(counties['state']==state)]['cases'][i]\n",
    "        cases_list.append(total)\n",
    "    cases[state]=cases_list"
   ]
  },
  {
   "cell_type": "markdown",
   "metadata": {},
   "source": [
    "#### Instruction -> turn this cell to code, when running, expect waiting time  \n",
    "#Step 3: Summing all the cases on all dates in all states (took John 7+ minutes to load)\n",
    "\n",
    "states = list(counties.state.unique())\n",
    "#states = ['California', 'Colorado', 'Kansas', 'New York', 'Washington'] #<- this was used in step 2\n",
    "#states = ['California']  #<- tried it on California first to match step 1\n",
    "cases={}\n",
    "for state in states:\n",
    "    cases_list=[]\n",
    "    for each in counties.index.unique():\n",
    "        total = 0\n",
    "        filtered = counties[(counties.index==each)&(counties['state']==state)]['cases']\n",
    "        for i in range(0,len(filtered)):\n",
    "            total += counties[(counties.index==each)&(counties['state']==state)]['cases'][i]\n",
    "        cases_list.append(total)\n",
    "    cases[state]=cases_list\n"
   ]
  },
  {
   "cell_type": "markdown",
   "metadata": {},
   "source": [
    "#### Instruction -> this cell needs the previous 2 cells  \n",
    "#Creating a separate data frame for Date and number of cases reported in each of the 55 unique states\n",
    "states = list(counties.state.unique())\n",
    "\n",
    "data = {'calendar':list(counties.index.unique())}\n",
    "for state in states:\n",
    "    data[state] = cases[state]\n",
    "    \n",
    "cases_by_state = pd.DataFrame(data)\n",
    "cases_by_state"
   ]
  },
  {
   "cell_type": "markdown",
   "metadata": {},
   "source": [
    "## *Generating Data Frame for Deaths by State*"
   ]
  },
  {
   "cell_type": "markdown",
   "metadata": {},
   "source": [
    "#### Instruction -> turn this cell to code, when running, expect waiting time  \n",
    "#Repeat previous section for cases but for deaths\n",
    "\n",
    "states = list(counties.state.unique())\n",
    "deaths={}\n",
    "for state in states:\n",
    "    deaths_list=[]\n",
    "    for each in counties.index.unique():\n",
    "        total = 0\n",
    "        filtered = counties[(counties.index==each)&(counties['state']==state)]['deaths']\n",
    "        for i in range(0,len(filtered)):\n",
    "            total += counties[(counties.index==each)&(counties['state']==state)]['deaths'][i]\n",
    "        deaths_list.append(total)\n",
    "    deaths[state]=deaths_list\n"
   ]
  },
  {
   "cell_type": "markdown",
   "metadata": {},
   "source": [
    "#### Instruction -> this cell needs the previous cell ran\n",
    "#Creating a separate data frame for Date and number of cases reported in each of the 55 unique states\n",
    "states = list(counties.state.unique())\n",
    "data2 = {'calendar':list(counties.index.unique())}\n",
    "for state in states:\n",
    "    data2[state] = deaths[state]\n",
    "    \n",
    "deaths_by_state = pd.DataFrame(data2)\n",
    "deaths_by_state"
   ]
  },
  {
   "cell_type": "markdown",
   "metadata": {},
   "source": [
    "## *Data Minification*\n",
    "Save the final dataframes as pickle files."
   ]
  },
  {
   "cell_type": "markdown",
   "metadata": {},
   "source": [
    "#### This cell requires previous cell to be ran.\n",
    "cases_by_state.to_pickle('Data_pkl\\\\cases_by_state.pkl')\n",
    "deaths_by_state.to_pickle('Data_pkl\\\\deaths_by_state.pkl')"
   ]
  },
  {
   "cell_type": "markdown",
   "metadata": {},
   "source": [
    "Read Pickle Files"
   ]
  },
  {
   "cell_type": "code",
   "execution_count": 7,
   "metadata": {},
   "outputs": [],
   "source": [
    "df1 = pd.read_pickle('Data_pkl\\\\cases_by_state.pkl')\n",
    "df2 = pd.read_pickle('Data_pkl\\\\deaths_by_state.pkl')"
   ]
  },
  {
   "cell_type": "markdown",
   "metadata": {},
   "source": [
    "## *Initial Plots*"
   ]
  },
  {
   "cell_type": "code",
   "execution_count": 47,
   "metadata": {},
   "outputs": [
    {
     "data": {
      "text/plain": [
       "<matplotlib.legend.Legend at 0x21488187308>"
      ]
     },
     "execution_count": 47,
     "metadata": {},
     "output_type": "execute_result"
    },
    {
     "data": {
      "image/png": "[encoded data removed]",
      "text/plain": [
       "<Figure size 648x648 with 1 Axes>"
      ]
     },
     "metadata": {
      "needs_background": "light"
     },
     "output_type": "display_data"
    }
   ],
   "source": [
    "# Cases by State Plots\n",
    "fig, axs = plt.subplots(figsize=(9,9))\n",
    "\n",
    "#scatter of each of the 5 states\n",
    "axs.scatter(df1.calendar,df1.California)\n",
    "axs.scatter(df1.calendar,df1.Colorado)\n",
    "axs.scatter(df1.calendar,df1.Kansas)\n",
    "axs.scatter(df1.calendar,df1['New York'])\n",
    "axs.scatter(df1.calendar,df1.Washington)\n",
    "\n",
    "#Labeling\n",
    "axs.set_title(\"Number of Cases by State\", fontsize=20)\n",
    "axs.set_ylabel('# of Cases', fontsize=15)\n",
    "axs.set_xlabel('Date', fontsize=15)\n",
    "axs.xaxis.set_major_locator(plt.MaxNLocator(5))\n",
    "plt.legend(['CA', 'CO', 'KS', 'NY', 'WA'])"
   ]
  },
  {
   "cell_type": "code",
   "execution_count": 48,
   "metadata": {},
   "outputs": [
    {
     "data": {
      "text/plain": [
       "<matplotlib.legend.Legend at 0x214883c0388>"
      ]
     },
     "execution_count": 48,
     "metadata": {},
     "output_type": "execute_result"
    },
    {
     "data": {
      "image/png": "[encoded data removed]",
      "text/plain": [
       "<Figure size 648x648 with 1 Axes>"
      ]
     },
     "metadata": {
      "needs_background": "light"
     },
     "output_type": "display_data"
    }
   ],
   "source": [
    "# Deaths by State Plots\n",
    "fig, axs = plt.subplots(figsize=(9,9))\n",
    "\n",
    "#scatter of each of the 5 states\n",
    "axs.scatter(df2.calendar,df2.California)\n",
    "axs.scatter(df2.calendar,df2.Colorado)\n",
    "axs.scatter(df2.calendar,df2.Kansas)\n",
    "axs.scatter(df2.calendar,df2['New York'])\n",
    "axs.scatter(df2.calendar,df2.Washington)\n",
    "\n",
    "#Labeling\n",
    "axs.set_title(\"Number of Deaths by State\", fontsize=20)\n",
    "axs.set_ylabel('# of Deaths', fontsize=15)\n",
    "axs.set_xlabel('Date', fontsize=15)\n",
    "axs.xaxis.set_major_locator(plt.MaxNLocator(5))\n",
    "plt.legend(['CA', 'CO', 'KS', 'NY', 'WA'])"
   ]
  },
  {
   "cell_type": "markdown",
   "metadata": {},
   "source": [
    "# **Working on Population & Density Cases/Deaths on April 15th**"
   ]
  },
  {
   "cell_type": "markdown",
   "metadata": {},
   "source": [
    "Action Plan:\n",
    "1) Gather datasets needed to find Population Versus Cases and Deaths.  \n",
    "2) Merge three data tables together: Population/ZipCode;  FIPS/ZIP Conversion;  COVID19 cases/death data  \n",
    "3) Pickle and simple plot\n",
    "\n",
    "**note:** FIPS = County Code"
   ]
  },
  {
   "cell_type": "markdown",
   "metadata": {},
   "source": [
    "## *Retrieving data and Formatting - Population (& later-on add Density)*"
   ]
  },
  {
   "cell_type": "code",
   "execution_count": 122,
   "metadata": {},
   "outputs": [],
   "source": [
    "#Reading and Filtering Files\n",
    "population = pd.read_csv(\"Data_Raw\\\\population_by_zip_2010.csv\")   #Population by Zip Code Data\n",
    "fips_zip = pd.read_excel(\"Data_Raw\\\\fips_zip\\ZIP_COUNTY_032020.xlsx\")  #Conversion between FIPS and ZIP Data\n",
    "counties_2 = pd.read_csv(\"Data_Raw\\\\us-counties.csv\")                  #COVID19 cases/deaths data\n",
    "counties_2[\"date\"] = pd.to_datetime(counties_2[\"date\"])\n",
    "counties_2[\"date\"] = counties_2[\"date\"].dt.strftime('%B-%d')\n",
    "\n",
    "#population.head()\n",
    "#fips_zip.head()\n",
    "#counties_2.head()"
   ]
  },
  {
   "cell_type": "code",
   "execution_count": 124,
   "metadata": {},
   "outputs": [
    {
     "data": {
      "text/html": [
       "<div>\n",
       "<style scoped>\n",
       "    .dataframe tbody tr th:only-of-type {\n",
       "        vertical-align: middle;\n",
       "    }\n",
       "\n",
       "    .dataframe tbody tr th {\n",
       "        vertical-align: top;\n",
       "    }\n",
       "\n",
       "    .dataframe thead th {\n",
       "        text-align: right;\n",
       "    }\n",
       "</style>\n",
       "<table border=\"1\" class=\"dataframe\">\n",
       "  <thead>\n",
       "    <tr style=\"text-align: right;\">\n",
       "      <th></th>\n",
       "      <th>population</th>\n",
       "    </tr>\n",
       "    <tr>\n",
       "      <th>zipcode</th>\n",
       "      <th></th>\n",
       "    </tr>\n",
       "  </thead>\n",
       "  <tbody>\n",
       "    <tr>\n",
       "      <th>602</th>\n",
       "      <td>124560</td>\n",
       "    </tr>\n",
       "    <tr>\n",
       "      <th>603</th>\n",
       "      <td>164067</td>\n",
       "    </tr>\n",
       "    <tr>\n",
       "      <th>606</th>\n",
       "      <td>19845</td>\n",
       "    </tr>\n",
       "    <tr>\n",
       "      <th>610</th>\n",
       "      <td>87048</td>\n",
       "    </tr>\n",
       "    <tr>\n",
       "      <th>612</th>\n",
       "      <td>201030</td>\n",
       "    </tr>\n",
       "  </tbody>\n",
       "</table>\n",
       "</div>"
      ],
      "text/plain": [
       "         population\n",
       "zipcode            \n",
       "602          124560\n",
       "603          164067\n",
       "606           19845\n",
       "610           87048\n",
       "612          201030"
      ]
     },
     "execution_count": 124,
     "metadata": {},
     "output_type": "execute_result"
    }
   ],
   "source": [
    "#Formatting Population by Zip Code Data\n",
    "population_byzip = population[['zipcode','population']]     #Only need zip code and population columns\n",
    "\n",
    "#Since there are multiple zipcodes with population (males,females,etc..), sum up the population of each zip code and group\n",
    "population_byzip = population_byzip.groupby('zipcode').agg('sum')    \n",
    "population_byzip.head()\n",
    "#len(population_byzip)\n",
    "#population_byzip[population_byzip.index==66503]     #test out to see your LOCAL zipcode population, 66503 (Manhattan, KS) has 42k people in 2010, sounds reasonable."
   ]
  },
  {
   "cell_type": "code",
   "execution_count": 123,
   "metadata": {},
   "outputs": [
    {
     "data": {
      "text/html": [
       "<div>\n",
       "<style scoped>\n",
       "    .dataframe tbody tr th:only-of-type {\n",
       "        vertical-align: middle;\n",
       "    }\n",
       "\n",
       "    .dataframe tbody tr th {\n",
       "        vertical-align: top;\n",
       "    }\n",
       "\n",
       "    .dataframe thead th {\n",
       "        text-align: right;\n",
       "    }\n",
       "</style>\n",
       "<table border=\"1\" class=\"dataframe\">\n",
       "  <thead>\n",
       "    <tr style=\"text-align: right;\">\n",
       "      <th></th>\n",
       "      <th>ZIP</th>\n",
       "      <th>COUNTY</th>\n",
       "    </tr>\n",
       "  </thead>\n",
       "  <tbody>\n",
       "    <tr>\n",
       "      <th>0</th>\n",
       "      <td>501</td>\n",
       "      <td>36103</td>\n",
       "    </tr>\n",
       "    <tr>\n",
       "      <th>1</th>\n",
       "      <td>601</td>\n",
       "      <td>72113</td>\n",
       "    </tr>\n",
       "    <tr>\n",
       "      <th>2</th>\n",
       "      <td>601</td>\n",
       "      <td>72001</td>\n",
       "    </tr>\n",
       "    <tr>\n",
       "      <th>3</th>\n",
       "      <td>602</td>\n",
       "      <td>72003</td>\n",
       "    </tr>\n",
       "    <tr>\n",
       "      <th>4</th>\n",
       "      <td>602</td>\n",
       "      <td>72005</td>\n",
       "    </tr>\n",
       "  </tbody>\n",
       "</table>\n",
       "</div>"
      ],
      "text/plain": [
       "   ZIP  COUNTY\n",
       "0  501   36103\n",
       "1  601   72113\n",
       "2  601   72001\n",
       "3  602   72003\n",
       "4  602   72005"
      ]
     },
     "execution_count": 123,
     "metadata": {},
     "output_type": "execute_result"
    }
   ],
   "source": [
    "#Formatting FIPS/ZIP Data\n",
    "fips_zip = fips_zip[['ZIP','COUNTY']]   #Only need ZIP and COUNTY (same as fips) columns\n",
    "fips_zip.head()\n",
    "#len(fips_zip)"
   ]
  },
  {
   "cell_type": "code",
   "execution_count": null,
   "metadata": {},
   "outputs": [],
   "source": [
    "#Formatting COVID19 cases/deaths Data\n",
    "counties_2_apr15 = counties_2[counties_2.date=='April-15'][['fips','cases','deaths']]   #only need latest (APril-15) data for FIPS, cases, deaths\n",
    "counties_2_apr15 = counties_2_apr15.dropna()  #need to drop NA\n",
    "counties_2_apr15.head()\n",
    "#len(counties_2_apr15.fips)"
   ]
  },
  {
   "cell_type": "markdown",
   "metadata": {},
   "source": [
    "## *MERGING Data*\n"
   ]
  },
  {
   "cell_type": "code",
   "execution_count": 126,
   "metadata": {},
   "outputs": [
    {
     "data": {
      "text/html": [
       "<div>\n",
       "<style scoped>\n",
       "    .dataframe tbody tr th:only-of-type {\n",
       "        vertical-align: middle;\n",
       "    }\n",
       "\n",
       "    .dataframe tbody tr th {\n",
       "        vertical-align: top;\n",
       "    }\n",
       "\n",
       "    .dataframe thead th {\n",
       "        text-align: right;\n",
       "    }\n",
       "</style>\n",
       "<table border=\"1\" class=\"dataframe\">\n",
       "  <thead>\n",
       "    <tr style=\"text-align: right;\">\n",
       "      <th></th>\n",
       "      <th>population</th>\n",
       "    </tr>\n",
       "    <tr>\n",
       "      <th>COUNTY</th>\n",
       "      <th></th>\n",
       "    </tr>\n",
       "  </thead>\n",
       "  <tbody>\n",
       "    <tr>\n",
       "      <th>1,001</th>\n",
       "      <td>253557</td>\n",
       "    </tr>\n",
       "    <tr>\n",
       "      <th>1,003</th>\n",
       "      <td>606642</td>\n",
       "    </tr>\n",
       "    <tr>\n",
       "      <th>1,005</th>\n",
       "      <td>97455</td>\n",
       "    </tr>\n",
       "    <tr>\n",
       "      <th>1,007</th>\n",
       "      <td>228414</td>\n",
       "    </tr>\n",
       "    <tr>\n",
       "      <th>1,009</th>\n",
       "      <td>471114</td>\n",
       "    </tr>\n",
       "  </tbody>\n",
       "</table>\n",
       "</div>"
      ],
      "text/plain": [
       "        population\n",
       "COUNTY            \n",
       "1,001       253557\n",
       "1,003       606642\n",
       "1,005        97455\n",
       "1,007       228414\n",
       "1,009       471114"
      ]
     },
     "execution_count": 126,
     "metadata": {},
     "output_type": "execute_result"
    }
   ],
   "source": [
    "#Merge population by zip with FIPS/ZIPs data to get population by FIPS\n",
    "\n",
    "pop_zipfips = population_byzip.merge(fips_zip, how='left', left_on='zipcode', right_on='ZIP')    #Merging data\n",
    "#pop_zipfips.head()\n",
    "population_byfips = pop_zipfips[['population','COUNTY']]                  #drop zip code now, not needed anymore\n",
    "\n",
    "#Since population data was based on zip codes, there are multiple zip codes per FIPS/County Code.\n",
    "#Therefore, group by FIPS code and sum up the population in each FIPS code\n",
    "population_byfips = population_byfips.groupby('COUNTY').agg('sum')        \n",
    "population_byfips.head()\n",
    "#len(population_byfips.index.unique())"
   ]
  },
  {
   "cell_type": "code",
   "execution_count": 127,
   "metadata": {},
   "outputs": [
    {
     "data": {
      "text/html": [
       "<div>\n",
       "<style scoped>\n",
       "    .dataframe tbody tr th:only-of-type {\n",
       "        vertical-align: middle;\n",
       "    }\n",
       "\n",
       "    .dataframe tbody tr th {\n",
       "        vertical-align: top;\n",
       "    }\n",
       "\n",
       "    .dataframe thead th {\n",
       "        text-align: right;\n",
       "    }\n",
       "</style>\n",
       "<table border=\"1\" class=\"dataframe\">\n",
       "  <thead>\n",
       "    <tr style=\"text-align: right;\">\n",
       "      <th></th>\n",
       "      <th>fips</th>\n",
       "      <th>cases</th>\n",
       "      <th>deaths</th>\n",
       "      <th>population</th>\n",
       "    </tr>\n",
       "  </thead>\n",
       "  <tbody>\n",
       "    <tr>\n",
       "      <th>0</th>\n",
       "      <td>1,001</td>\n",
       "      <td>25</td>\n",
       "      <td>1</td>\n",
       "      <td>253,557</td>\n",
       "    </tr>\n",
       "    <tr>\n",
       "      <th>1</th>\n",
       "      <td>1,003</td>\n",
       "      <td>98</td>\n",
       "      <td>2</td>\n",
       "      <td>606,642</td>\n",
       "    </tr>\n",
       "    <tr>\n",
       "      <th>2</th>\n",
       "      <td>1,005</td>\n",
       "      <td>13</td>\n",
       "      <td>0</td>\n",
       "      <td>97,455</td>\n",
       "    </tr>\n",
       "    <tr>\n",
       "      <th>3</th>\n",
       "      <td>1,007</td>\n",
       "      <td>19</td>\n",
       "      <td>0</td>\n",
       "      <td>228,414</td>\n",
       "    </tr>\n",
       "    <tr>\n",
       "      <th>4</th>\n",
       "      <td>1,009</td>\n",
       "      <td>17</td>\n",
       "      <td>0</td>\n",
       "      <td>471,114</td>\n",
       "    </tr>\n",
       "  </tbody>\n",
       "</table>\n",
       "</div>"
      ],
      "text/plain": [
       "   fips  cases  deaths  population\n",
       "0 1,001     25       1     253,557\n",
       "1 1,003     98       2     606,642\n",
       "2 1,005     13       0      97,455\n",
       "3 1,007     19       0     228,414\n",
       "4 1,009     17       0     471,114"
      ]
     },
     "execution_count": 127,
     "metadata": {},
     "output_type": "execute_result"
    }
   ],
   "source": [
    "#Merge population by FIPS with COVID19 cases/deaths data to get population versus deaths/cases\n",
    "\n",
    "casedeath_pop = counties_2_apr15.merge(population_byfips, how='left', left_on = 'fips', right_on = 'COUNTY')   #Merging data\n",
    "casedeath_pop.head()\n",
    "#len(casedeath_pop)"
   ]
  },
  {
   "cell_type": "markdown",
   "metadata": {},
   "source": [
    "## *Data Minification*\n",
    "Save the final dataframes as pickle files."
   ]
  },
  {
   "cell_type": "code",
   "execution_count": 129,
   "metadata": {},
   "outputs": [],
   "source": [
    "casedeath_pop.to_pickle('Data_pkl\\\\cases_deaths_population.pkl')"
   ]
  },
  {
   "cell_type": "code",
   "execution_count": 130,
   "metadata": {},
   "outputs": [],
   "source": [
    "df3 = pd.read_pickle('Data_pkl\\\\cases_deaths_population.pkl')"
   ]
  },
  {
   "cell_type": "markdown",
   "metadata": {},
   "source": [
    "## *Initial Plot*"
   ]
  },
  {
   "cell_type": "code",
   "execution_count": 132,
   "metadata": {},
   "outputs": [
    {
     "data": {
      "image/png": "[encoded data removed]",
      "text/plain": [
       "<Figure size 648x648 with 2 Axes>"
      ]
     },
     "metadata": {
      "needs_background": "light"
     },
     "output_type": "display_data"
    }
   ],
   "source": [
    "# Cases by Population\n",
    "fig, axs = plt.subplots(figsize=(9,9))\n",
    "\n",
    "#scatterplot\n",
    "axs.scatter(df3.population,df3.deaths, color='r')\n",
    "axs2 = axs.twinx()\n",
    "axs2.scatter(df3.population,df3.cases, color='b')\n",
    "axs.legend(['Deaths'], loc = 'upper left', shadow=True)\n",
    "axs2.legend(['Cases'], shadow=True)\n",
    "\n",
    "#Labeling\n",
    "axs.set_title(\"Cases and Deaths (Apr-15-2020) Versus Population (2010)\", fontsize=20)\n",
    "axs.set_ylabel('Deaths', fontsize=15, color = 'r')\n",
    "axs2.set_ylabel('Cases', fontsize=15, color = 'b')\n",
    "axs.set_xlabel('Population', fontsize=15)\n",
    "axs.xaxis.set_major_locator(plt.MaxNLocator(5))\n"
   ]
  }
 ],
 "metadata": {
  "kernelspec": {
   "display_name": "Python 3",
   "language": "python",
   "name": "python3"
  },
  "language_info": {
   "codemirror_mode": {
    "name": "ipython",
    "version": 3
   },
   "file_extension": ".py",
   "mimetype": "text/x-python",
   "name": "python",
   "nbconvert_exporter": "python",
   "pygments_lexer": "ipython3",
   "version": "3.7.4"
  }
 },
 "nbformat": 4,
 "nbformat_minor": 4
}
