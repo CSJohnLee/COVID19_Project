{
 "cells": [
  {
   "cell_type": "markdown",
   "metadata": {},
   "source": [
    "# COVID-19 MIDS Collaboration \n",
    "\n",
    "## Data Sourcing: COVID Tracking Project \n",
    "\n",
    "This Jupyter Notebook reads in raw data as csv files from a website and exports them as [pickle files for faster loading](https://medium.com/better-programming/load-fast-load-big-with-compressed-pickles-5f311584507e). \n",
    "\n",
    "This code was adapted from a script provided to us by Professor Kevin Crook of the Berkeley MIDS program during our W205 (Data Engineering) class. "
   ]
  },
  {
   "cell_type": "markdown",
   "metadata": {},
   "source": [
    "### Data sources\n",
    "\n",
    "US COVID-19 data (historical, at state level) from the COVID tracking project: https://usafacts.org/visualizations/coronavirus-covid-19-spread-map/\n"
   ]
  },
  {
   "cell_type": "markdown",
   "metadata": {},
   "source": [
    "### Set up environment "
   ]
  },
  {
   "cell_type": "code",
   "execution_count": 1,
   "metadata": {},
   "outputs": [],
   "source": [
    "# Import packages\n",
    "import pandas as pd\n",
    "import numpy as np\n",
    "import io\n",
    "import requests\n",
    "import pickle "
   ]
  },
  {
   "cell_type": "markdown",
   "metadata": {},
   "source": [
    "### Retrieve data"
   ]
  },
  {
   "cell_type": "markdown",
   "metadata": {},
   "source": [
    "#### Cases"
   ]
  },
  {
   "cell_type": "code",
   "execution_count": 2,
   "metadata": {},
   "outputs": [],
   "source": [
    "# get data at URL - this URL is for the state historical data, updated daily at 4pm ET\n",
    "cases = requests.get(\"https://usafactsstatic.blob.core.windows.net/public/data/covid-19/covid_confirmed_usafacts.csv\")"
   ]
  },
  {
   "cell_type": "code",
   "execution_count": 3,
   "metadata": {},
   "outputs": [
    {
     "data": {
      "text/plain": [
       "200"
      ]
     },
     "execution_count": 3,
     "metadata": {},
     "output_type": "execute_result"
    }
   ],
   "source": [
    "# check HTTP request status\n",
    "cases.status_code"
   ]
  },
  {
   "cell_type": "code",
   "execution_count": 4,
   "metadata": {},
   "outputs": [
    {
     "data": {
      "text/plain": [
       "'\\ufeffcountyFIPS,County Name,State,stateFIPS,1/22/20,1/23/20,1/24/20,1/25/20,1/26/20,1/27/20,1/28/20,1/29/20,1/30/20,1/31/20,2/1/20,2/2/20,2/3/20,2/4/20,2/5/20,2/6/20,2/7/20,2/8/20,2/9/20,2/10/20,2/11/20,2/12/20,2/13/20,2/14/20,2/15/20,2/16/20,2/17/20,2/18/20,2/19/20,2/20/20,2/21/20,2/22/20,2/23/20,2/24/20,2/25/20,2/26/20,2/27/20,2/28/20,2/29/20,3/1/20,3/2/20,3/3/20,3/4/20,3/5/20,3/6/20,3/7/20,3/8/20,3/9/20,3/10/20,3/11/20,3/12/20,3/13/20,3/14/20,3/15/20,3/16/20,3/17/20,3/18/20,3/19/20,3/20/20,3/21/20,3/22/20,3/23/20,3/24/20,3/25/20,3/26/20,3/27/20,3/28/20,3/29/20,3/30/20,3/31/20,4/1/20,4/2/20,4/3/20,4/4/20,4/5/20,4/6/20,4/7/20,4/8/20,4/9/20,4/10/20,4/11/20,4/12/20,4/13/20,4/14/20,4/15/20,4/16/20,4/17/20,4/18/20,4/19/20,4/20/20,4/21/20,4/22/20,4/23/20,4/24/20,4/25/20,4/26/20,4/27/20,4/28/20,4/29/20,4/30/20,5/1/20,5/2/20,5/3/20,5/4/20,5/5/20,5/6/20,5/7/20,5/8/20,5/9/20,5/10/20,5/11/20,5/12/20,5/13/20,5/14/20,5/15/20,5/16/20,5/17/20,5/18/20,5/19/20,5/20/20,5/21/20,5/22/20,5/23/20,5/24/20,5/25/20,5/26/20,5/27/20,5/28/20,5/29/20,5/30/20,5/31/20,6/1/20,6/2/20,6/3/20,6/4/20,6/5/20,6/6/20,6/7/20,6/8/20,6/9/20,6/10/20,6/11/20,6/12/20,6/13/20,6/14/20,6/15/20,6/16/20,6/17/20,6/18/20,6/19/20,6/20/20,6/21/20,6/22/20,6/23/20,6/24/20,6/25/20,6/26/20,6/27/20,6/28/20,6/29/20,6/30/20,7/1/20,7/2/20,7/3/20,7/4/20,7/5/20,7/6/20,7/7/20,7/8/20,7/9/20,7/10/20,7/11/20,7/12/20,7/13/20,7/14/20,7/15/20,7/16/20,7/17/20,7/18/20,7/19/20,7/20/20,7/21/20,7/22/20,7/23/20,7/24/20,7/25/20,7/26/20,7/27/20,7/28/20,7/29/20,7/30/20,7/31/20,8/1/20,8/2/20,8/3/20,8/4/20,8/5/20,8/6/20,8/7/20,8/8/20,8/9/20,8/10/20,8/11/20,8/12/20,8/13/20,8/14/20,8/15/20,8/16/20,8/17/20,8/18/20,8/19/20,8/20/20,8/21/20,8/22/20,8/23/20,8/24/20,8/25/20,8/26/20,8/27/20,8/28/20,8/29/20,8/30/20,8/31/20,9/1/20,9/2/20,9/3/20,9/4/20,9/5/20,9/6/20,9/7/20,9/8/20,9/9/20,9/10/20,9/11/20,9/12/20,9/13/20,9/14/20,9/15/20,9/16/20,9/17/20,9/18/20,9/19/20,9/20/20,9/21/20,9/22/20,9/23/20,9/24/20,9/25/20,9/26/20,9/27/20,9/28/20,9/29/20,9/30/20,10/1/20,'"
      ]
     },
     "execution_count": 4,
     "metadata": {},
     "output_type": "execute_result"
    }
   ],
   "source": [
    "# just show the first 2000 characters, the text is really long otherwise\n",
    "cases.text[0:2000]"
   ]
  },
  {
   "cell_type": "code",
   "execution_count": 5,
   "metadata": {},
   "outputs": [
    {
     "data": {
      "text/html": [
       "<div>\n",
       "<style scoped>\n",
       "    .dataframe tbody tr th:only-of-type {\n",
       "        vertical-align: middle;\n",
       "    }\n",
       "\n",
       "    .dataframe tbody tr th {\n",
       "        vertical-align: top;\n",
       "    }\n",
       "\n",
       "    .dataframe thead th {\n",
       "        text-align: right;\n",
       "    }\n",
       "</style>\n",
       "<table border=\"1\" class=\"dataframe\">\n",
       "  <thead>\n",
       "    <tr style=\"text-align: right;\">\n",
       "      <th></th>\n",
       "      <th>countyFIPS</th>\n",
       "      <th>County Name</th>\n",
       "      <th>State</th>\n",
       "      <th>stateFIPS</th>\n",
       "      <th>1/22/20</th>\n",
       "      <th>1/23/20</th>\n",
       "      <th>1/24/20</th>\n",
       "      <th>1/25/20</th>\n",
       "      <th>1/26/20</th>\n",
       "      <th>1/27/20</th>\n",
       "      <th>...</th>\n",
       "      <th>12/15/20</th>\n",
       "      <th>12/16/20</th>\n",
       "      <th>12/17/20</th>\n",
       "      <th>12/18/20</th>\n",
       "      <th>12/19/20</th>\n",
       "      <th>12/20/20</th>\n",
       "      <th>12/21/20</th>\n",
       "      <th>12/22/20</th>\n",
       "      <th>12/23/20</th>\n",
       "      <th>12/24/20</th>\n",
       "    </tr>\n",
       "  </thead>\n",
       "  <tbody>\n",
       "    <tr>\n",
       "      <th>0</th>\n",
       "      <td>0</td>\n",
       "      <td>Statewide Unallocated</td>\n",
       "      <td>AL</td>\n",
       "      <td>1</td>\n",
       "      <td>0</td>\n",
       "      <td>0</td>\n",
       "      <td>0</td>\n",
       "      <td>0</td>\n",
       "      <td>0</td>\n",
       "      <td>0</td>\n",
       "      <td>...</td>\n",
       "      <td>0</td>\n",
       "      <td>0</td>\n",
       "      <td>0</td>\n",
       "      <td>0</td>\n",
       "      <td>0</td>\n",
       "      <td>0</td>\n",
       "      <td>0</td>\n",
       "      <td>0</td>\n",
       "      <td>0</td>\n",
       "      <td>0</td>\n",
       "    </tr>\n",
       "    <tr>\n",
       "      <th>1</th>\n",
       "      <td>1001</td>\n",
       "      <td>Autauga County</td>\n",
       "      <td>AL</td>\n",
       "      <td>1</td>\n",
       "      <td>0</td>\n",
       "      <td>0</td>\n",
       "      <td>0</td>\n",
       "      <td>0</td>\n",
       "      <td>0</td>\n",
       "      <td>0</td>\n",
       "      <td>...</td>\n",
       "      <td>3426</td>\n",
       "      <td>3510</td>\n",
       "      <td>3570</td>\n",
       "      <td>3647</td>\n",
       "      <td>3698</td>\n",
       "      <td>3741</td>\n",
       "      <td>3780</td>\n",
       "      <td>3841</td>\n",
       "      <td>3889</td>\n",
       "      <td>3942</td>\n",
       "    </tr>\n",
       "    <tr>\n",
       "      <th>2</th>\n",
       "      <td>1003</td>\n",
       "      <td>Baldwin County</td>\n",
       "      <td>AL</td>\n",
       "      <td>1</td>\n",
       "      <td>0</td>\n",
       "      <td>0</td>\n",
       "      <td>0</td>\n",
       "      <td>0</td>\n",
       "      <td>0</td>\n",
       "      <td>0</td>\n",
       "      <td>...</td>\n",
       "      <td>11061</td>\n",
       "      <td>11212</td>\n",
       "      <td>11364</td>\n",
       "      <td>11556</td>\n",
       "      <td>11722</td>\n",
       "      <td>11827</td>\n",
       "      <td>11952</td>\n",
       "      <td>12155</td>\n",
       "      <td>12321</td>\n",
       "      <td>12521</td>\n",
       "    </tr>\n",
       "    <tr>\n",
       "      <th>3</th>\n",
       "      <td>1005</td>\n",
       "      <td>Barbour County</td>\n",
       "      <td>AL</td>\n",
       "      <td>1</td>\n",
       "      <td>0</td>\n",
       "      <td>0</td>\n",
       "      <td>0</td>\n",
       "      <td>0</td>\n",
       "      <td>0</td>\n",
       "      <td>0</td>\n",
       "      <td>...</td>\n",
       "      <td>1292</td>\n",
       "      <td>1296</td>\n",
       "      <td>1309</td>\n",
       "      <td>1318</td>\n",
       "      <td>1330</td>\n",
       "      <td>1336</td>\n",
       "      <td>1336</td>\n",
       "      <td>1363</td>\n",
       "      <td>1383</td>\n",
       "      <td>1390</td>\n",
       "    </tr>\n",
       "    <tr>\n",
       "      <th>4</th>\n",
       "      <td>1007</td>\n",
       "      <td>Bibb County</td>\n",
       "      <td>AL</td>\n",
       "      <td>1</td>\n",
       "      <td>0</td>\n",
       "      <td>0</td>\n",
       "      <td>0</td>\n",
       "      <td>0</td>\n",
       "      <td>0</td>\n",
       "      <td>0</td>\n",
       "      <td>...</td>\n",
       "      <td>1504</td>\n",
       "      <td>1520</td>\n",
       "      <td>1548</td>\n",
       "      <td>1577</td>\n",
       "      <td>1601</td>\n",
       "      <td>1613</td>\n",
       "      <td>1628</td>\n",
       "      <td>1660</td>\n",
       "      <td>1683</td>\n",
       "      <td>1711</td>\n",
       "    </tr>\n",
       "    <tr>\n",
       "      <th>...</th>\n",
       "      <td>...</td>\n",
       "      <td>...</td>\n",
       "      <td>...</td>\n",
       "      <td>...</td>\n",
       "      <td>...</td>\n",
       "      <td>...</td>\n",
       "      <td>...</td>\n",
       "      <td>...</td>\n",
       "      <td>...</td>\n",
       "      <td>...</td>\n",
       "      <td>...</td>\n",
       "      <td>...</td>\n",
       "      <td>...</td>\n",
       "      <td>...</td>\n",
       "      <td>...</td>\n",
       "      <td>...</td>\n",
       "      <td>...</td>\n",
       "      <td>...</td>\n",
       "      <td>...</td>\n",
       "      <td>...</td>\n",
       "      <td>...</td>\n",
       "    </tr>\n",
       "    <tr>\n",
       "      <th>3190</th>\n",
       "      <td>56037</td>\n",
       "      <td>Sweetwater County</td>\n",
       "      <td>WY</td>\n",
       "      <td>56</td>\n",
       "      <td>0</td>\n",
       "      <td>0</td>\n",
       "      <td>0</td>\n",
       "      <td>0</td>\n",
       "      <td>0</td>\n",
       "      <td>0</td>\n",
       "      <td>...</td>\n",
       "      <td>2544</td>\n",
       "      <td>2574</td>\n",
       "      <td>2649</td>\n",
       "      <td>2696</td>\n",
       "      <td>2702</td>\n",
       "      <td>2718</td>\n",
       "      <td>2762</td>\n",
       "      <td>2780</td>\n",
       "      <td>2820</td>\n",
       "      <td>2820</td>\n",
       "    </tr>\n",
       "    <tr>\n",
       "      <th>3191</th>\n",
       "      <td>56039</td>\n",
       "      <td>Teton County</td>\n",
       "      <td>WY</td>\n",
       "      <td>56</td>\n",
       "      <td>0</td>\n",
       "      <td>0</td>\n",
       "      <td>0</td>\n",
       "      <td>0</td>\n",
       "      <td>0</td>\n",
       "      <td>0</td>\n",
       "      <td>...</td>\n",
       "      <td>1940</td>\n",
       "      <td>1958</td>\n",
       "      <td>1974</td>\n",
       "      <td>1990</td>\n",
       "      <td>1992</td>\n",
       "      <td>2002</td>\n",
       "      <td>2019</td>\n",
       "      <td>2033</td>\n",
       "      <td>2039</td>\n",
       "      <td>2039</td>\n",
       "    </tr>\n",
       "    <tr>\n",
       "      <th>3192</th>\n",
       "      <td>56041</td>\n",
       "      <td>Uinta County</td>\n",
       "      <td>WY</td>\n",
       "      <td>56</td>\n",
       "      <td>0</td>\n",
       "      <td>0</td>\n",
       "      <td>0</td>\n",
       "      <td>0</td>\n",
       "      <td>0</td>\n",
       "      <td>0</td>\n",
       "      <td>...</td>\n",
       "      <td>1352</td>\n",
       "      <td>1363</td>\n",
       "      <td>1372</td>\n",
       "      <td>1399</td>\n",
       "      <td>1406</td>\n",
       "      <td>1416</td>\n",
       "      <td>1446</td>\n",
       "      <td>1460</td>\n",
       "      <td>1475</td>\n",
       "      <td>1475</td>\n",
       "    </tr>\n",
       "    <tr>\n",
       "      <th>3193</th>\n",
       "      <td>56043</td>\n",
       "      <td>Washakie County</td>\n",
       "      <td>WY</td>\n",
       "      <td>56</td>\n",
       "      <td>0</td>\n",
       "      <td>0</td>\n",
       "      <td>0</td>\n",
       "      <td>0</td>\n",
       "      <td>0</td>\n",
       "      <td>0</td>\n",
       "      <td>...</td>\n",
       "      <td>659</td>\n",
       "      <td>662</td>\n",
       "      <td>665</td>\n",
       "      <td>690</td>\n",
       "      <td>695</td>\n",
       "      <td>699</td>\n",
       "      <td>713</td>\n",
       "      <td>720</td>\n",
       "      <td>726</td>\n",
       "      <td>726</td>\n",
       "    </tr>\n",
       "    <tr>\n",
       "      <th>3194</th>\n",
       "      <td>56045</td>\n",
       "      <td>Weston County</td>\n",
       "      <td>WY</td>\n",
       "      <td>56</td>\n",
       "      <td>0</td>\n",
       "      <td>0</td>\n",
       "      <td>0</td>\n",
       "      <td>0</td>\n",
       "      <td>0</td>\n",
       "      <td>0</td>\n",
       "      <td>...</td>\n",
       "      <td>436</td>\n",
       "      <td>436</td>\n",
       "      <td>438</td>\n",
       "      <td>443</td>\n",
       "      <td>443</td>\n",
       "      <td>446</td>\n",
       "      <td>447</td>\n",
       "      <td>455</td>\n",
       "      <td>460</td>\n",
       "      <td>460</td>\n",
       "    </tr>\n",
       "  </tbody>\n",
       "</table>\n",
       "<p>3195 rows × 342 columns</p>\n",
       "</div>"
      ],
      "text/plain": [
       "      countyFIPS            County Name State  stateFIPS  1/22/20  1/23/20  \\\n",
       "0              0  Statewide Unallocated    AL          1        0        0   \n",
       "1           1001         Autauga County    AL          1        0        0   \n",
       "2           1003         Baldwin County    AL          1        0        0   \n",
       "3           1005         Barbour County    AL          1        0        0   \n",
       "4           1007            Bibb County    AL          1        0        0   \n",
       "...          ...                    ...   ...        ...      ...      ...   \n",
       "3190       56037      Sweetwater County    WY         56        0        0   \n",
       "3191       56039           Teton County    WY         56        0        0   \n",
       "3192       56041           Uinta County    WY         56        0        0   \n",
       "3193       56043        Washakie County    WY         56        0        0   \n",
       "3194       56045          Weston County    WY         56        0        0   \n",
       "\n",
       "      1/24/20  1/25/20  1/26/20  1/27/20  ...  12/15/20  12/16/20  12/17/20  \\\n",
       "0           0        0        0        0  ...         0         0         0   \n",
       "1           0        0        0        0  ...      3426      3510      3570   \n",
       "2           0        0        0        0  ...     11061     11212     11364   \n",
       "3           0        0        0        0  ...      1292      1296      1309   \n",
       "4           0        0        0        0  ...      1504      1520      1548   \n",
       "...       ...      ...      ...      ...  ...       ...       ...       ...   \n",
       "3190        0        0        0        0  ...      2544      2574      2649   \n",
       "3191        0        0        0        0  ...      1940      1958      1974   \n",
       "3192        0        0        0        0  ...      1352      1363      1372   \n",
       "3193        0        0        0        0  ...       659       662       665   \n",
       "3194        0        0        0        0  ...       436       436       438   \n",
       "\n",
       "      12/18/20  12/19/20  12/20/20  12/21/20  12/22/20  12/23/20  12/24/20  \n",
       "0            0         0         0         0         0         0         0  \n",
       "1         3647      3698      3741      3780      3841      3889      3942  \n",
       "2        11556     11722     11827     11952     12155     12321     12521  \n",
       "3         1318      1330      1336      1336      1363      1383      1390  \n",
       "4         1577      1601      1613      1628      1660      1683      1711  \n",
       "...        ...       ...       ...       ...       ...       ...       ...  \n",
       "3190      2696      2702      2718      2762      2780      2820      2820  \n",
       "3191      1990      1992      2002      2019      2033      2039      2039  \n",
       "3192      1399      1406      1416      1446      1460      1475      1475  \n",
       "3193       690       695       699       713       720       726       726  \n",
       "3194       443       443       446       447       455       460       460  \n",
       "\n",
       "[3195 rows x 342 columns]"
      ]
     },
     "execution_count": 5,
     "metadata": {},
     "output_type": "execute_result"
    }
   ],
   "source": [
    "# load into a Pandas dataframe\n",
    "cases_covid_df = pd.read_csv(io.StringIO(cases.text))\n",
    "\n",
    "cases_covid_df"
   ]
  },
  {
   "cell_type": "markdown",
   "metadata": {},
   "source": [
    "We can see that the format is not ideal - this is a wide dataset with columns tracking cases for every date. Below we convert the dataframe to a long format."
   ]
  },
  {
   "cell_type": "code",
   "execution_count": 6,
   "metadata": {},
   "outputs": [
    {
     "data": {
      "text/html": [
       "<div>\n",
       "<style scoped>\n",
       "    .dataframe tbody tr th:only-of-type {\n",
       "        vertical-align: middle;\n",
       "    }\n",
       "\n",
       "    .dataframe tbody tr th {\n",
       "        vertical-align: top;\n",
       "    }\n",
       "\n",
       "    .dataframe thead th {\n",
       "        text-align: right;\n",
       "    }\n",
       "</style>\n",
       "<table border=\"1\" class=\"dataframe\">\n",
       "  <thead>\n",
       "    <tr style=\"text-align: right;\">\n",
       "      <th></th>\n",
       "      <th>countyFIPS</th>\n",
       "      <th>County Name</th>\n",
       "      <th>State</th>\n",
       "      <th>stateFIPS</th>\n",
       "      <th>date</th>\n",
       "      <th>cases</th>\n",
       "    </tr>\n",
       "  </thead>\n",
       "  <tbody>\n",
       "    <tr>\n",
       "      <th>0</th>\n",
       "      <td>0</td>\n",
       "      <td>Statewide Unallocated</td>\n",
       "      <td>AL</td>\n",
       "      <td>1</td>\n",
       "      <td>1/22/20</td>\n",
       "      <td>0</td>\n",
       "    </tr>\n",
       "    <tr>\n",
       "      <th>1</th>\n",
       "      <td>1001</td>\n",
       "      <td>Autauga County</td>\n",
       "      <td>AL</td>\n",
       "      <td>1</td>\n",
       "      <td>1/22/20</td>\n",
       "      <td>0</td>\n",
       "    </tr>\n",
       "    <tr>\n",
       "      <th>2</th>\n",
       "      <td>1003</td>\n",
       "      <td>Baldwin County</td>\n",
       "      <td>AL</td>\n",
       "      <td>1</td>\n",
       "      <td>1/22/20</td>\n",
       "      <td>0</td>\n",
       "    </tr>\n",
       "    <tr>\n",
       "      <th>3</th>\n",
       "      <td>1005</td>\n",
       "      <td>Barbour County</td>\n",
       "      <td>AL</td>\n",
       "      <td>1</td>\n",
       "      <td>1/22/20</td>\n",
       "      <td>0</td>\n",
       "    </tr>\n",
       "    <tr>\n",
       "      <th>4</th>\n",
       "      <td>1007</td>\n",
       "      <td>Bibb County</td>\n",
       "      <td>AL</td>\n",
       "      <td>1</td>\n",
       "      <td>1/22/20</td>\n",
       "      <td>0</td>\n",
       "    </tr>\n",
       "    <tr>\n",
       "      <th>...</th>\n",
       "      <td>...</td>\n",
       "      <td>...</td>\n",
       "      <td>...</td>\n",
       "      <td>...</td>\n",
       "      <td>...</td>\n",
       "      <td>...</td>\n",
       "    </tr>\n",
       "    <tr>\n",
       "      <th>1076710</th>\n",
       "      <td>56037</td>\n",
       "      <td>Sweetwater County</td>\n",
       "      <td>WY</td>\n",
       "      <td>56</td>\n",
       "      <td>12/23/20</td>\n",
       "      <td>2820</td>\n",
       "    </tr>\n",
       "    <tr>\n",
       "      <th>1076711</th>\n",
       "      <td>56039</td>\n",
       "      <td>Teton County</td>\n",
       "      <td>WY</td>\n",
       "      <td>56</td>\n",
       "      <td>12/23/20</td>\n",
       "      <td>2039</td>\n",
       "    </tr>\n",
       "    <tr>\n",
       "      <th>1076712</th>\n",
       "      <td>56041</td>\n",
       "      <td>Uinta County</td>\n",
       "      <td>WY</td>\n",
       "      <td>56</td>\n",
       "      <td>12/23/20</td>\n",
       "      <td>1475</td>\n",
       "    </tr>\n",
       "    <tr>\n",
       "      <th>1076713</th>\n",
       "      <td>56043</td>\n",
       "      <td>Washakie County</td>\n",
       "      <td>WY</td>\n",
       "      <td>56</td>\n",
       "      <td>12/23/20</td>\n",
       "      <td>726</td>\n",
       "    </tr>\n",
       "    <tr>\n",
       "      <th>1076714</th>\n",
       "      <td>56045</td>\n",
       "      <td>Weston County</td>\n",
       "      <td>WY</td>\n",
       "      <td>56</td>\n",
       "      <td>12/23/20</td>\n",
       "      <td>460</td>\n",
       "    </tr>\n",
       "  </tbody>\n",
       "</table>\n",
       "<p>1076715 rows × 6 columns</p>\n",
       "</div>"
      ],
      "text/plain": [
       "         countyFIPS            County Name State  stateFIPS      date  cases\n",
       "0                 0  Statewide Unallocated    AL          1   1/22/20      0\n",
       "1              1001         Autauga County    AL          1   1/22/20      0\n",
       "2              1003         Baldwin County    AL          1   1/22/20      0\n",
       "3              1005         Barbour County    AL          1   1/22/20      0\n",
       "4              1007            Bibb County    AL          1   1/22/20      0\n",
       "...             ...                    ...   ...        ...       ...    ...\n",
       "1076710       56037      Sweetwater County    WY         56  12/23/20   2820\n",
       "1076711       56039           Teton County    WY         56  12/23/20   2039\n",
       "1076712       56041           Uinta County    WY         56  12/23/20   1475\n",
       "1076713       56043        Washakie County    WY         56  12/23/20    726\n",
       "1076714       56045          Weston County    WY         56  12/23/20    460\n",
       "\n",
       "[1076715 rows x 6 columns]"
      ]
     },
     "execution_count": 6,
     "metadata": {},
     "output_type": "execute_result"
    }
   ],
   "source": [
    "# get names of date columns\n",
    "date_cols = list(cases_covid_df.columns)[4:len(list(cases_covid_df.columns)) - 1]\n",
    "\n",
    "# convert wide to long\n",
    "long_cases_covid_df = pd.melt(cases_covid_df, \n",
    "        id_vars = [\"countyFIPS\", \"County Name\", \"State\", \"stateFIPS\"], value_vars = date_cols, \n",
    "        var_name='date', value_name='cases')\n",
    "\n",
    "# inspect\n",
    "long_cases_covid_df"
   ]
  },
  {
   "cell_type": "markdown",
   "metadata": {},
   "source": [
    "#### Deaths"
   ]
  },
  {
   "cell_type": "code",
   "execution_count": 7,
   "metadata": {},
   "outputs": [],
   "source": [
    "# get data at URL - this URL is for the state historical data, updated daily at 4pm ET\n",
    "deaths = requests.get(\"https://usafactsstatic.blob.core.windows.net/public/data/covid-19/covid_deaths_usafacts.csv\")"
   ]
  },
  {
   "cell_type": "code",
   "execution_count": 8,
   "metadata": {},
   "outputs": [
    {
     "data": {
      "text/plain": [
       "200"
      ]
     },
     "execution_count": 8,
     "metadata": {},
     "output_type": "execute_result"
    }
   ],
   "source": [
    "# check HTTP request status \n",
    "deaths.status_code"
   ]
  },
  {
   "cell_type": "code",
   "execution_count": 9,
   "metadata": {},
   "outputs": [
    {
     "data": {
      "text/plain": [
       "'\\ufeffcountyFIPS,County Name,State,stateFIPS,1/22/20,1/23/20,1/24/20,1/25/20,1/26/20,1/27/20,1/28/20,1/29/20,1/30/20,1/31/20,2/1/20,2/2/20,2/3/20,2/4/20,2/5/20,2/6/20,2/7/20,2/8/20,2/9/20,2/10/20,2/11/20,2/12/20,2/13/20,2/14/20,2/15/20,2/16/20,2/17/20,2/18/20,2/19/20,2/20/20,2/21/20,2/22/20,2/23/20,2/24/20,2/25/20,2/26/20,2/27/20,2/28/20,2/29/20,3/1/20,3/2/20,3/3/20,3/4/20,3/5/20,3/6/20,3/7/20,3/8/20,3/9/20,3/10/20,3/11/20,3/12/20,3/13/20,3/14/20,3/15/20,3/16/20,3/17/20,3/18/20,3/19/20,3/20/20,3/21/20,3/22/20,3/23/20,3/24/20,3/25/20,3/26/20,3/27/20,3/28/20,3/29/20,3/30/20,3/31/20,4/1/20,4/2/20,4/3/20,4/4/20,4/5/20,4/6/20,4/7/20,4/8/20,4/9/20,4/10/20,4/11/20,4/12/20,4/13/20,4/14/20,4/15/20,4/16/20,4/17/20,4/18/20,4/19/20,4/20/20,4/21/20,4/22/20,4/23/20,4/24/20,4/25/20,4/26/20,4/27/20,4/28/20,4/29/20,4/30/20,5/1/20,5/2/20,5/3/20,5/4/20,5/5/20,5/6/20,5/7/20,5/8/20,5/9/20,5/10/20,5/11/20,5/12/20,5/13/20,5/14/20,5/15/20,5/16/20,5/17/20,5/18/20,5/19/20,5/20/20,5/21/20,5/22/20,5/23/20,5/24/20,5/25/20,5/26/20,5/27/20,5/28/20,5/29/20,5/30/20,5/31/20,6/1/20,6/2/20,6/3/20,6/4/20,6/5/20,6/6/20,6/7/20,6/8/20,6/9/20,6/10/20,6/11/20,6/12/20,6/13/20,6/14/20,6/15/20,6/16/20,6/17/20,6/18/20,6/19/20,6/20/20,6/21/20,6/22/20,6/23/20,6/24/20,6/25/20,6/26/20,6/27/20,6/28/20,6/29/20,6/30/20,7/1/20,7/2/20,7/3/20,7/4/20,7/5/20,7/6/20,7/7/20,7/8/20,7/9/20,7/10/20,7/11/20,7/12/20,7/13/20,7/14/20,7/15/20,7/16/20,7/17/20,7/18/20,7/19/20,7/20/20,7/21/20,7/22/20,7/23/20,7/24/20,7/25/20,7/26/20,7/27/20,7/28/20,7/29/20,7/30/20,7/31/20,8/1/20,8/2/20,8/3/20,8/4/20,8/5/20,8/6/20,8/7/20,8/8/20,8/9/20,8/10/20,8/11/20,8/12/20,8/13/20,8/14/20,8/15/20,8/16/20,8/17/20,8/18/20,8/19/20,8/20/20,8/21/20,8/22/20,8/23/20,8/24/20,8/25/20,8/26/20,8/27/20,8/28/20,8/29/20,8/30/20,8/31/20,9/1/20,9/2/20,9/3/20,9/4/20,9/5/20,9/6/20,9/7/20,9/8/20,9/9/20,9/10/20,9/11/20,9/12/20,9/13/20,9/14/20,9/15/20,9/16/20,9/17/20,9/18/20,9/19/20,9/20/20,9/21/20,9/22/20,9/23/20,9/24/20,9/25/20,9/26/20,9/27/20,9/28/20,9/29/20,9/30/20,10/1/20,'"
      ]
     },
     "execution_count": 9,
     "metadata": {},
     "output_type": "execute_result"
    }
   ],
   "source": [
    "# just show the first 2000 characters, the text is really long otherwise\n",
    "deaths.text[0:2000]"
   ]
  },
  {
   "cell_type": "code",
   "execution_count": 10,
   "metadata": {
    "scrolled": true
   },
   "outputs": [
    {
     "data": {
      "text/html": [
       "<div>\n",
       "<style scoped>\n",
       "    .dataframe tbody tr th:only-of-type {\n",
       "        vertical-align: middle;\n",
       "    }\n",
       "\n",
       "    .dataframe tbody tr th {\n",
       "        vertical-align: top;\n",
       "    }\n",
       "\n",
       "    .dataframe thead th {\n",
       "        text-align: right;\n",
       "    }\n",
       "</style>\n",
       "<table border=\"1\" class=\"dataframe\">\n",
       "  <thead>\n",
       "    <tr style=\"text-align: right;\">\n",
       "      <th></th>\n",
       "      <th>countyFIPS</th>\n",
       "      <th>County Name</th>\n",
       "      <th>State</th>\n",
       "      <th>stateFIPS</th>\n",
       "      <th>1/22/20</th>\n",
       "      <th>1/23/20</th>\n",
       "      <th>1/24/20</th>\n",
       "      <th>1/25/20</th>\n",
       "      <th>1/26/20</th>\n",
       "      <th>1/27/20</th>\n",
       "      <th>...</th>\n",
       "      <th>12/15/20</th>\n",
       "      <th>12/16/20</th>\n",
       "      <th>12/17/20</th>\n",
       "      <th>12/18/20</th>\n",
       "      <th>12/19/20</th>\n",
       "      <th>12/20/20</th>\n",
       "      <th>12/21/20</th>\n",
       "      <th>12/22/20</th>\n",
       "      <th>12/23/20</th>\n",
       "      <th>12/24/20</th>\n",
       "    </tr>\n",
       "  </thead>\n",
       "  <tbody>\n",
       "    <tr>\n",
       "      <th>0</th>\n",
       "      <td>0</td>\n",
       "      <td>Statewide Unallocated</td>\n",
       "      <td>AL</td>\n",
       "      <td>1</td>\n",
       "      <td>0</td>\n",
       "      <td>0</td>\n",
       "      <td>0</td>\n",
       "      <td>0</td>\n",
       "      <td>0</td>\n",
       "      <td>0</td>\n",
       "      <td>...</td>\n",
       "      <td>0</td>\n",
       "      <td>0</td>\n",
       "      <td>0</td>\n",
       "      <td>0</td>\n",
       "      <td>0</td>\n",
       "      <td>0</td>\n",
       "      <td>0</td>\n",
       "      <td>0</td>\n",
       "      <td>0</td>\n",
       "      <td>0</td>\n",
       "    </tr>\n",
       "    <tr>\n",
       "      <th>1</th>\n",
       "      <td>1001</td>\n",
       "      <td>Autauga County</td>\n",
       "      <td>AL</td>\n",
       "      <td>1</td>\n",
       "      <td>0</td>\n",
       "      <td>0</td>\n",
       "      <td>0</td>\n",
       "      <td>0</td>\n",
       "      <td>0</td>\n",
       "      <td>0</td>\n",
       "      <td>...</td>\n",
       "      <td>43</td>\n",
       "      <td>43</td>\n",
       "      <td>43</td>\n",
       "      <td>44</td>\n",
       "      <td>44</td>\n",
       "      <td>44</td>\n",
       "      <td>44</td>\n",
       "      <td>44</td>\n",
       "      <td>46</td>\n",
       "      <td>46</td>\n",
       "    </tr>\n",
       "    <tr>\n",
       "      <th>2</th>\n",
       "      <td>1003</td>\n",
       "      <td>Baldwin County</td>\n",
       "      <td>AL</td>\n",
       "      <td>1</td>\n",
       "      <td>0</td>\n",
       "      <td>0</td>\n",
       "      <td>0</td>\n",
       "      <td>0</td>\n",
       "      <td>0</td>\n",
       "      <td>0</td>\n",
       "      <td>...</td>\n",
       "      <td>141</td>\n",
       "      <td>145</td>\n",
       "      <td>145</td>\n",
       "      <td>146</td>\n",
       "      <td>147</td>\n",
       "      <td>147</td>\n",
       "      <td>147</td>\n",
       "      <td>149</td>\n",
       "      <td>151</td>\n",
       "      <td>151</td>\n",
       "    </tr>\n",
       "    <tr>\n",
       "      <th>3</th>\n",
       "      <td>1005</td>\n",
       "      <td>Barbour County</td>\n",
       "      <td>AL</td>\n",
       "      <td>1</td>\n",
       "      <td>0</td>\n",
       "      <td>0</td>\n",
       "      <td>0</td>\n",
       "      <td>0</td>\n",
       "      <td>0</td>\n",
       "      <td>0</td>\n",
       "      <td>...</td>\n",
       "      <td>30</td>\n",
       "      <td>30</td>\n",
       "      <td>30</td>\n",
       "      <td>30</td>\n",
       "      <td>32</td>\n",
       "      <td>32</td>\n",
       "      <td>32</td>\n",
       "      <td>32</td>\n",
       "      <td>32</td>\n",
       "      <td>32</td>\n",
       "    </tr>\n",
       "    <tr>\n",
       "      <th>4</th>\n",
       "      <td>1007</td>\n",
       "      <td>Bibb County</td>\n",
       "      <td>AL</td>\n",
       "      <td>1</td>\n",
       "      <td>0</td>\n",
       "      <td>0</td>\n",
       "      <td>0</td>\n",
       "      <td>0</td>\n",
       "      <td>0</td>\n",
       "      <td>0</td>\n",
       "      <td>...</td>\n",
       "      <td>39</td>\n",
       "      <td>42</td>\n",
       "      <td>42</td>\n",
       "      <td>42</td>\n",
       "      <td>42</td>\n",
       "      <td>42</td>\n",
       "      <td>42</td>\n",
       "      <td>42</td>\n",
       "      <td>42</td>\n",
       "      <td>42</td>\n",
       "    </tr>\n",
       "    <tr>\n",
       "      <th>...</th>\n",
       "      <td>...</td>\n",
       "      <td>...</td>\n",
       "      <td>...</td>\n",
       "      <td>...</td>\n",
       "      <td>...</td>\n",
       "      <td>...</td>\n",
       "      <td>...</td>\n",
       "      <td>...</td>\n",
       "      <td>...</td>\n",
       "      <td>...</td>\n",
       "      <td>...</td>\n",
       "      <td>...</td>\n",
       "      <td>...</td>\n",
       "      <td>...</td>\n",
       "      <td>...</td>\n",
       "      <td>...</td>\n",
       "      <td>...</td>\n",
       "      <td>...</td>\n",
       "      <td>...</td>\n",
       "      <td>...</td>\n",
       "      <td>...</td>\n",
       "    </tr>\n",
       "    <tr>\n",
       "      <th>3190</th>\n",
       "      <td>56037</td>\n",
       "      <td>Sweetwater County</td>\n",
       "      <td>WY</td>\n",
       "      <td>56</td>\n",
       "      <td>0</td>\n",
       "      <td>0</td>\n",
       "      <td>0</td>\n",
       "      <td>0</td>\n",
       "      <td>0</td>\n",
       "      <td>0</td>\n",
       "      <td>...</td>\n",
       "      <td>15</td>\n",
       "      <td>15</td>\n",
       "      <td>15</td>\n",
       "      <td>15</td>\n",
       "      <td>15</td>\n",
       "      <td>15</td>\n",
       "      <td>15</td>\n",
       "      <td>15</td>\n",
       "      <td>15</td>\n",
       "      <td>15</td>\n",
       "    </tr>\n",
       "    <tr>\n",
       "      <th>3191</th>\n",
       "      <td>56039</td>\n",
       "      <td>Teton County</td>\n",
       "      <td>WY</td>\n",
       "      <td>56</td>\n",
       "      <td>0</td>\n",
       "      <td>0</td>\n",
       "      <td>0</td>\n",
       "      <td>0</td>\n",
       "      <td>0</td>\n",
       "      <td>0</td>\n",
       "      <td>...</td>\n",
       "      <td>2</td>\n",
       "      <td>2</td>\n",
       "      <td>2</td>\n",
       "      <td>2</td>\n",
       "      <td>2</td>\n",
       "      <td>2</td>\n",
       "      <td>2</td>\n",
       "      <td>2</td>\n",
       "      <td>2</td>\n",
       "      <td>2</td>\n",
       "    </tr>\n",
       "    <tr>\n",
       "      <th>3192</th>\n",
       "      <td>56041</td>\n",
       "      <td>Uinta County</td>\n",
       "      <td>WY</td>\n",
       "      <td>56</td>\n",
       "      <td>0</td>\n",
       "      <td>0</td>\n",
       "      <td>0</td>\n",
       "      <td>0</td>\n",
       "      <td>0</td>\n",
       "      <td>0</td>\n",
       "      <td>...</td>\n",
       "      <td>7</td>\n",
       "      <td>7</td>\n",
       "      <td>7</td>\n",
       "      <td>7</td>\n",
       "      <td>7</td>\n",
       "      <td>7</td>\n",
       "      <td>7</td>\n",
       "      <td>7</td>\n",
       "      <td>7</td>\n",
       "      <td>7</td>\n",
       "    </tr>\n",
       "    <tr>\n",
       "      <th>3193</th>\n",
       "      <td>56043</td>\n",
       "      <td>Washakie County</td>\n",
       "      <td>WY</td>\n",
       "      <td>56</td>\n",
       "      <td>0</td>\n",
       "      <td>0</td>\n",
       "      <td>0</td>\n",
       "      <td>0</td>\n",
       "      <td>0</td>\n",
       "      <td>0</td>\n",
       "      <td>...</td>\n",
       "      <td>11</td>\n",
       "      <td>11</td>\n",
       "      <td>11</td>\n",
       "      <td>11</td>\n",
       "      <td>11</td>\n",
       "      <td>11</td>\n",
       "      <td>11</td>\n",
       "      <td>11</td>\n",
       "      <td>11</td>\n",
       "      <td>11</td>\n",
       "    </tr>\n",
       "    <tr>\n",
       "      <th>3194</th>\n",
       "      <td>56045</td>\n",
       "      <td>Weston County</td>\n",
       "      <td>WY</td>\n",
       "      <td>56</td>\n",
       "      <td>0</td>\n",
       "      <td>0</td>\n",
       "      <td>0</td>\n",
       "      <td>0</td>\n",
       "      <td>0</td>\n",
       "      <td>0</td>\n",
       "      <td>...</td>\n",
       "      <td>2</td>\n",
       "      <td>2</td>\n",
       "      <td>2</td>\n",
       "      <td>2</td>\n",
       "      <td>2</td>\n",
       "      <td>2</td>\n",
       "      <td>2</td>\n",
       "      <td>2</td>\n",
       "      <td>2</td>\n",
       "      <td>2</td>\n",
       "    </tr>\n",
       "  </tbody>\n",
       "</table>\n",
       "<p>3195 rows × 342 columns</p>\n",
       "</div>"
      ],
      "text/plain": [
       "      countyFIPS            County Name State  stateFIPS  1/22/20  1/23/20  \\\n",
       "0              0  Statewide Unallocated    AL          1        0        0   \n",
       "1           1001         Autauga County    AL          1        0        0   \n",
       "2           1003         Baldwin County    AL          1        0        0   \n",
       "3           1005         Barbour County    AL          1        0        0   \n",
       "4           1007            Bibb County    AL          1        0        0   \n",
       "...          ...                    ...   ...        ...      ...      ...   \n",
       "3190       56037      Sweetwater County    WY         56        0        0   \n",
       "3191       56039           Teton County    WY         56        0        0   \n",
       "3192       56041           Uinta County    WY         56        0        0   \n",
       "3193       56043        Washakie County    WY         56        0        0   \n",
       "3194       56045          Weston County    WY         56        0        0   \n",
       "\n",
       "      1/24/20  1/25/20  1/26/20  1/27/20  ...  12/15/20  12/16/20  12/17/20  \\\n",
       "0           0        0        0        0  ...         0         0         0   \n",
       "1           0        0        0        0  ...        43        43        43   \n",
       "2           0        0        0        0  ...       141       145       145   \n",
       "3           0        0        0        0  ...        30        30        30   \n",
       "4           0        0        0        0  ...        39        42        42   \n",
       "...       ...      ...      ...      ...  ...       ...       ...       ...   \n",
       "3190        0        0        0        0  ...        15        15        15   \n",
       "3191        0        0        0        0  ...         2         2         2   \n",
       "3192        0        0        0        0  ...         7         7         7   \n",
       "3193        0        0        0        0  ...        11        11        11   \n",
       "3194        0        0        0        0  ...         2         2         2   \n",
       "\n",
       "      12/18/20  12/19/20  12/20/20  12/21/20  12/22/20  12/23/20  12/24/20  \n",
       "0            0         0         0         0         0         0         0  \n",
       "1           44        44        44        44        44        46        46  \n",
       "2          146       147       147       147       149       151       151  \n",
       "3           30        32        32        32        32        32        32  \n",
       "4           42        42        42        42        42        42        42  \n",
       "...        ...       ...       ...       ...       ...       ...       ...  \n",
       "3190        15        15        15        15        15        15        15  \n",
       "3191         2         2         2         2         2         2         2  \n",
       "3192         7         7         7         7         7         7         7  \n",
       "3193        11        11        11        11        11        11        11  \n",
       "3194         2         2         2         2         2         2         2  \n",
       "\n",
       "[3195 rows x 342 columns]"
      ]
     },
     "execution_count": 10,
     "metadata": {},
     "output_type": "execute_result"
    }
   ],
   "source": [
    "# load into a Pandas dataframe\n",
    "deaths_covid_df = pd.read_csv(io.StringIO(deaths.text))\n",
    "\n",
    "deaths_covid_df"
   ]
  },
  {
   "cell_type": "markdown",
   "metadata": {},
   "source": [
    "We can see that the format is not ideal - this is a wide dataset with columns tracking cases for every date. Below we convert the dataframe to a long format."
   ]
  },
  {
   "cell_type": "code",
   "execution_count": 11,
   "metadata": {},
   "outputs": [
    {
     "data": {
      "text/html": [
       "<div>\n",
       "<style scoped>\n",
       "    .dataframe tbody tr th:only-of-type {\n",
       "        vertical-align: middle;\n",
       "    }\n",
       "\n",
       "    .dataframe tbody tr th {\n",
       "        vertical-align: top;\n",
       "    }\n",
       "\n",
       "    .dataframe thead th {\n",
       "        text-align: right;\n",
       "    }\n",
       "</style>\n",
       "<table border=\"1\" class=\"dataframe\">\n",
       "  <thead>\n",
       "    <tr style=\"text-align: right;\">\n",
       "      <th></th>\n",
       "      <th>countyFIPS</th>\n",
       "      <th>County Name</th>\n",
       "      <th>State</th>\n",
       "      <th>stateFIPS</th>\n",
       "      <th>date</th>\n",
       "      <th>deaths</th>\n",
       "    </tr>\n",
       "  </thead>\n",
       "  <tbody>\n",
       "    <tr>\n",
       "      <th>0</th>\n",
       "      <td>0</td>\n",
       "      <td>Statewide Unallocated</td>\n",
       "      <td>AL</td>\n",
       "      <td>1</td>\n",
       "      <td>1/22/20</td>\n",
       "      <td>0</td>\n",
       "    </tr>\n",
       "    <tr>\n",
       "      <th>1</th>\n",
       "      <td>1001</td>\n",
       "      <td>Autauga County</td>\n",
       "      <td>AL</td>\n",
       "      <td>1</td>\n",
       "      <td>1/22/20</td>\n",
       "      <td>0</td>\n",
       "    </tr>\n",
       "    <tr>\n",
       "      <th>2</th>\n",
       "      <td>1003</td>\n",
       "      <td>Baldwin County</td>\n",
       "      <td>AL</td>\n",
       "      <td>1</td>\n",
       "      <td>1/22/20</td>\n",
       "      <td>0</td>\n",
       "    </tr>\n",
       "    <tr>\n",
       "      <th>3</th>\n",
       "      <td>1005</td>\n",
       "      <td>Barbour County</td>\n",
       "      <td>AL</td>\n",
       "      <td>1</td>\n",
       "      <td>1/22/20</td>\n",
       "      <td>0</td>\n",
       "    </tr>\n",
       "    <tr>\n",
       "      <th>4</th>\n",
       "      <td>1007</td>\n",
       "      <td>Bibb County</td>\n",
       "      <td>AL</td>\n",
       "      <td>1</td>\n",
       "      <td>1/22/20</td>\n",
       "      <td>0</td>\n",
       "    </tr>\n",
       "    <tr>\n",
       "      <th>...</th>\n",
       "      <td>...</td>\n",
       "      <td>...</td>\n",
       "      <td>...</td>\n",
       "      <td>...</td>\n",
       "      <td>...</td>\n",
       "      <td>...</td>\n",
       "    </tr>\n",
       "    <tr>\n",
       "      <th>1076710</th>\n",
       "      <td>56037</td>\n",
       "      <td>Sweetwater County</td>\n",
       "      <td>WY</td>\n",
       "      <td>56</td>\n",
       "      <td>12/23/20</td>\n",
       "      <td>15</td>\n",
       "    </tr>\n",
       "    <tr>\n",
       "      <th>1076711</th>\n",
       "      <td>56039</td>\n",
       "      <td>Teton County</td>\n",
       "      <td>WY</td>\n",
       "      <td>56</td>\n",
       "      <td>12/23/20</td>\n",
       "      <td>2</td>\n",
       "    </tr>\n",
       "    <tr>\n",
       "      <th>1076712</th>\n",
       "      <td>56041</td>\n",
       "      <td>Uinta County</td>\n",
       "      <td>WY</td>\n",
       "      <td>56</td>\n",
       "      <td>12/23/20</td>\n",
       "      <td>7</td>\n",
       "    </tr>\n",
       "    <tr>\n",
       "      <th>1076713</th>\n",
       "      <td>56043</td>\n",
       "      <td>Washakie County</td>\n",
       "      <td>WY</td>\n",
       "      <td>56</td>\n",
       "      <td>12/23/20</td>\n",
       "      <td>11</td>\n",
       "    </tr>\n",
       "    <tr>\n",
       "      <th>1076714</th>\n",
       "      <td>56045</td>\n",
       "      <td>Weston County</td>\n",
       "      <td>WY</td>\n",
       "      <td>56</td>\n",
       "      <td>12/23/20</td>\n",
       "      <td>2</td>\n",
       "    </tr>\n",
       "  </tbody>\n",
       "</table>\n",
       "<p>1076715 rows × 6 columns</p>\n",
       "</div>"
      ],
      "text/plain": [
       "         countyFIPS            County Name State  stateFIPS      date  deaths\n",
       "0                 0  Statewide Unallocated    AL          1   1/22/20       0\n",
       "1              1001         Autauga County    AL          1   1/22/20       0\n",
       "2              1003         Baldwin County    AL          1   1/22/20       0\n",
       "3              1005         Barbour County    AL          1   1/22/20       0\n",
       "4              1007            Bibb County    AL          1   1/22/20       0\n",
       "...             ...                    ...   ...        ...       ...     ...\n",
       "1076710       56037      Sweetwater County    WY         56  12/23/20      15\n",
       "1076711       56039           Teton County    WY         56  12/23/20       2\n",
       "1076712       56041           Uinta County    WY         56  12/23/20       7\n",
       "1076713       56043        Washakie County    WY         56  12/23/20      11\n",
       "1076714       56045          Weston County    WY         56  12/23/20       2\n",
       "\n",
       "[1076715 rows x 6 columns]"
      ]
     },
     "execution_count": 11,
     "metadata": {},
     "output_type": "execute_result"
    }
   ],
   "source": [
    "# get names of date columns\n",
    "deaths_date_cols = list(deaths_covid_df.columns)[4:len(list(deaths_covid_df.columns)) - 1]\n",
    "\n",
    "# convert wide to long\n",
    "long_deaths_covid_df = pd.melt(deaths_covid_df, \n",
    "        id_vars = [\"countyFIPS\", \"County Name\", \"State\", \"stateFIPS\"], value_vars = date_cols, \n",
    "        var_name='date', value_name='deaths')\n",
    "\n",
    "# inspect\n",
    "long_deaths_covid_df"
   ]
  },
  {
   "cell_type": "markdown",
   "metadata": {},
   "source": [
    "#### Population"
   ]
  },
  {
   "cell_type": "code",
   "execution_count": 12,
   "metadata": {},
   "outputs": [],
   "source": [
    "# get data at URL - this URL is for the state historical data, updated daily at 4pm ET\n",
    "pop = requests.get(\"https://usafactsstatic.blob.core.windows.net/public/data/covid-19/covid_county_population_usafacts.csv\")\n"
   ]
  },
  {
   "cell_type": "code",
   "execution_count": 13,
   "metadata": {},
   "outputs": [
    {
     "data": {
      "text/plain": [
       "200"
      ]
     },
     "execution_count": 13,
     "metadata": {},
     "output_type": "execute_result"
    }
   ],
   "source": [
    "# check HTTP request status \n",
    "pop.status_code"
   ]
  },
  {
   "cell_type": "code",
   "execution_count": 14,
   "metadata": {},
   "outputs": [
    {
     "data": {
      "text/plain": [
       "'\\ufeffcountyFIPS,County Name,State,population\\r\\n0,Statewide Unallocated,AL,0\\r\\n1001,Autauga County,AL,55869\\r\\n1003,Baldwin County,AL,223234\\r\\n1005,Barbour County,AL,24686\\r\\n1007,Bibb County,AL,22394\\r\\n1009,Blount County,AL,57826\\r\\n1011,Bullock County,AL,10101\\r\\n1013,Butler County,AL,19448\\r\\n1015,Calhoun County,AL,113605\\r\\n1017,Chambers County,AL,33254\\r\\n1019,Cherokee County,AL,26196\\r\\n1021,Chilton County,AL,44428\\r\\n1023,Choctaw County,AL,12589\\r\\n1025,Clarke County,AL,23622\\r\\n1027,Clay County,AL,13235\\r\\n1029,Cleburne County,AL,14910\\r\\n1031,Coffee County,AL,52342\\r\\n1033,Colbert County,AL,55241\\r\\n1035,Conecuh County,AL,12067\\r\\n1037,Coosa County,AL,10663\\r\\n1039,Covington County,AL,37049\\r\\n1041,Crenshaw County,AL,13772\\r\\n1043,Cullman County,AL,83768\\r\\n1045,Dale County,AL,49172\\r\\n1047,Dallas County,AL,37196\\r\\n1049,DeKalb County,AL,71513\\r\\n1051,Elmore County,AL,81209\\r\\n1053,Escambia County,AL,36633\\r\\n1055,Etowah County,AL,102268\\r\\n1057,Fayette County,AL,16302\\r\\n1059,Franklin County,AL,31362\\r\\n1061,Geneva County,AL,26271\\r\\n1063,Greene County,AL,8111\\r\\n1065,Hale County,AL,14651\\r\\n1067,Henry County,AL,17205\\r\\n1069,Houston County,AL,105882\\r\\n1071,Jackson County,AL,51626\\r\\n1073,Jefferson County,AL,658573\\r\\n1075,Lamar County,AL,13805\\r\\n1077,Lauderdale County,AL,92729\\r\\n1079,Lawrence County,AL,32924\\r\\n1081,Lee County,AL,164542\\r\\n1083,Limestone County,AL,98915\\r\\n1085,Lowndes County,AL,9726\\r\\n1087,Macon County,AL,18068\\r\\n1089,Madison County,AL,372909\\r\\n1091,Marengo County,AL,18863\\r\\n1093,Marion County,AL,29709\\r\\n1095,Marshall County,AL,96774\\r\\n1097,Mobile County,AL,413210\\r\\n1099,Monroe County,AL,20733\\r\\n1101,Montgomery County,AL,226486\\r\\n1103,Morgan County,AL,119679\\r\\n1105,Perry County,AL,8923\\r\\n1107,Pickens County,AL,19930\\r\\n1109,Pike County,AL,33114\\r\\n1111,Randolph County,AL,22722\\r\\n1113,Russell County,AL,57961\\r\\n1115,St. Clair County,AL,89512\\r\\n1117,Shelby County,AL,217702\\r\\n1119,Sumter County,AL,12427\\r\\n1121,Talladega County,AL,79978\\r\\n1123,Tallapoosa County,AL,40367\\r\\n1125,Tuscaloosa County,AL,209355\\r\\n1127,Walker County,AL,63521\\r\\n1129,Washingto'"
      ]
     },
     "execution_count": 14,
     "metadata": {},
     "output_type": "execute_result"
    }
   ],
   "source": [
    "# just show the first 2000 characters, the text is really long otherwise\n",
    "pop.text[0:2000]"
   ]
  },
  {
   "cell_type": "code",
   "execution_count": 15,
   "metadata": {
    "scrolled": true
   },
   "outputs": [
    {
     "data": {
      "text/html": [
       "<div>\n",
       "<style scoped>\n",
       "    .dataframe tbody tr th:only-of-type {\n",
       "        vertical-align: middle;\n",
       "    }\n",
       "\n",
       "    .dataframe tbody tr th {\n",
       "        vertical-align: top;\n",
       "    }\n",
       "\n",
       "    .dataframe thead th {\n",
       "        text-align: right;\n",
       "    }\n",
       "</style>\n",
       "<table border=\"1\" class=\"dataframe\">\n",
       "  <thead>\n",
       "    <tr style=\"text-align: right;\">\n",
       "      <th></th>\n",
       "      <th>countyFIPS</th>\n",
       "      <th>County Name</th>\n",
       "      <th>State</th>\n",
       "      <th>population</th>\n",
       "    </tr>\n",
       "  </thead>\n",
       "  <tbody>\n",
       "    <tr>\n",
       "      <th>0</th>\n",
       "      <td>0</td>\n",
       "      <td>Statewide Unallocated</td>\n",
       "      <td>AL</td>\n",
       "      <td>0</td>\n",
       "    </tr>\n",
       "    <tr>\n",
       "      <th>1</th>\n",
       "      <td>1001</td>\n",
       "      <td>Autauga County</td>\n",
       "      <td>AL</td>\n",
       "      <td>55869</td>\n",
       "    </tr>\n",
       "    <tr>\n",
       "      <th>2</th>\n",
       "      <td>1003</td>\n",
       "      <td>Baldwin County</td>\n",
       "      <td>AL</td>\n",
       "      <td>223234</td>\n",
       "    </tr>\n",
       "    <tr>\n",
       "      <th>3</th>\n",
       "      <td>1005</td>\n",
       "      <td>Barbour County</td>\n",
       "      <td>AL</td>\n",
       "      <td>24686</td>\n",
       "    </tr>\n",
       "    <tr>\n",
       "      <th>4</th>\n",
       "      <td>1007</td>\n",
       "      <td>Bibb County</td>\n",
       "      <td>AL</td>\n",
       "      <td>22394</td>\n",
       "    </tr>\n",
       "    <tr>\n",
       "      <th>...</th>\n",
       "      <td>...</td>\n",
       "      <td>...</td>\n",
       "      <td>...</td>\n",
       "      <td>...</td>\n",
       "    </tr>\n",
       "    <tr>\n",
       "      <th>3190</th>\n",
       "      <td>56037</td>\n",
       "      <td>Sweetwater County</td>\n",
       "      <td>WY</td>\n",
       "      <td>42343</td>\n",
       "    </tr>\n",
       "    <tr>\n",
       "      <th>3191</th>\n",
       "      <td>56039</td>\n",
       "      <td>Teton County</td>\n",
       "      <td>WY</td>\n",
       "      <td>23464</td>\n",
       "    </tr>\n",
       "    <tr>\n",
       "      <th>3192</th>\n",
       "      <td>56041</td>\n",
       "      <td>Uinta County</td>\n",
       "      <td>WY</td>\n",
       "      <td>20226</td>\n",
       "    </tr>\n",
       "    <tr>\n",
       "      <th>3193</th>\n",
       "      <td>56043</td>\n",
       "      <td>Washakie County</td>\n",
       "      <td>WY</td>\n",
       "      <td>7805</td>\n",
       "    </tr>\n",
       "    <tr>\n",
       "      <th>3194</th>\n",
       "      <td>56045</td>\n",
       "      <td>Weston County</td>\n",
       "      <td>WY</td>\n",
       "      <td>6927</td>\n",
       "    </tr>\n",
       "  </tbody>\n",
       "</table>\n",
       "<p>3195 rows × 4 columns</p>\n",
       "</div>"
      ],
      "text/plain": [
       "      countyFIPS            County Name State  population\n",
       "0              0  Statewide Unallocated    AL           0\n",
       "1           1001         Autauga County    AL       55869\n",
       "2           1003         Baldwin County    AL      223234\n",
       "3           1005         Barbour County    AL       24686\n",
       "4           1007            Bibb County    AL       22394\n",
       "...          ...                    ...   ...         ...\n",
       "3190       56037      Sweetwater County    WY       42343\n",
       "3191       56039           Teton County    WY       23464\n",
       "3192       56041           Uinta County    WY       20226\n",
       "3193       56043        Washakie County    WY        7805\n",
       "3194       56045          Weston County    WY        6927\n",
       "\n",
       "[3195 rows x 4 columns]"
      ]
     },
     "execution_count": 15,
     "metadata": {},
     "output_type": "execute_result"
    }
   ],
   "source": [
    "# load into a Pandas dataframe\n",
    "pop_df = pd.read_csv(io.StringIO(pop.text))\n",
    "\n",
    "# fix column name error\n",
    "pop_df.columns = ['countyFIPS', 'County Name', 'State', 'population']\n",
    "\n",
    "pop_df"
   ]
  },
  {
   "cell_type": "markdown",
   "metadata": {},
   "source": [
    "### Merge data"
   ]
  },
  {
   "cell_type": "code",
   "execution_count": 16,
   "metadata": {},
   "outputs": [
    {
     "data": {
      "text/plain": [
       "(1076715, 6)"
      ]
     },
     "execution_count": 16,
     "metadata": {},
     "output_type": "execute_result"
    }
   ],
   "source": [
    "# check shape\n",
    "long_cases_covid_df.shape"
   ]
  },
  {
   "cell_type": "code",
   "execution_count": 17,
   "metadata": {},
   "outputs": [
    {
     "data": {
      "text/plain": [
       "(1076715, 6)"
      ]
     },
     "execution_count": 17,
     "metadata": {},
     "output_type": "execute_result"
    }
   ],
   "source": [
    "# check shape\n",
    "long_deaths_covid_df.shape"
   ]
  },
  {
   "cell_type": "code",
   "execution_count": null,
   "metadata": {},
   "outputs": [],
   "source": [
    "# merge 3 datasets\n",
    "covid_df = long_cases_covid_df.merge(long_deaths_covid_df, \n",
    "                                         left_on = [\"countyFIPS\", \"County Name\", \"State\", \"stateFIPS\", \"date\"],\n",
    "                                         right_on = [\"countyFIPS\", \"County Name\", \"State\", \"stateFIPS\", \"date\"],\n",
    "                                         how = 'left').merge(pop_df, \n",
    "                                                             left_on = [\"countyFIPS\", \"County Name\", \"State\"], \n",
    "                                                             right_on = [\"countyFIPS\", \"County Name\", \"State\"], \n",
    "                                                             how = 'left').add_prefix('o_') \n",
    "# inspect\n",
    "covid_df.shape"
   ]
  },
  {
   "cell_type": "code",
   "execution_count": null,
   "metadata": {},
   "outputs": [],
   "source": [
    "covid_df.head()"
   ]
  },
  {
   "cell_type": "markdown",
   "metadata": {},
   "source": [
    "### Convert datatypes"
   ]
  },
  {
   "cell_type": "markdown",
   "metadata": {},
   "source": [
    "#### Count records"
   ]
  },
  {
   "cell_type": "code",
   "execution_count": null,
   "metadata": {},
   "outputs": [],
   "source": [
    "# count rows and columns\n",
    "covid_df.shape"
   ]
  },
  {
   "cell_type": "markdown",
   "metadata": {},
   "source": [
    "#### Check and convert datatypes"
   ]
  },
  {
   "cell_type": "markdown",
   "metadata": {},
   "source": [
    "We have:\n",
    "\n",
    "* o_countyFIPS/ stateFIPS: FIPS codes, should be converted from integer to category \n",
    "* o_State/ County Name: state & county name; string\n",
    "* o_date: should be converted from string to date \n",
    "* o_cases: integer\n",
    "* o_deaths/ population: should be converted from float to integer\n"
   ]
  },
  {
   "cell_type": "code",
   "execution_count": null,
   "metadata": {},
   "outputs": [],
   "source": [
    "# check data types \n",
    "covid_df.dtypes"
   ]
  },
  {
   "cell_type": "code",
   "execution_count": null,
   "metadata": {},
   "outputs": [],
   "source": [
    "covid_df.head()"
   ]
  },
  {
   "cell_type": "markdown",
   "metadata": {},
   "source": [
    "##### String --> Date columns"
   ]
  },
  {
   "cell_type": "code",
   "execution_count": null,
   "metadata": {},
   "outputs": [],
   "source": [
    "# create new version of column as a datetime object - with ymd\n",
    "covid_df[\"date\"] = pd.to_datetime(covid_df[\"o_date\"])\n",
    "\n",
    "# check conversion \n",
    "covid_df[[\"o_date\", \"date\"]].head()"
   ]
  },
  {
   "cell_type": "markdown",
   "metadata": {},
   "source": [
    "##### Integer --> Categorical columns"
   ]
  },
  {
   "cell_type": "code",
   "execution_count": null,
   "metadata": {},
   "outputs": [],
   "source": [
    "# identify which columns to convert \n",
    "int_to_category = [\"o_countyFIPS\", \"o_stateFIPS\"]\n",
    "# create new column names\n",
    "int_to_category_new = list(map(lambda x: x.replace('o_', ''), int_to_category))\n",
    "# add new converted columns\n",
    "covid_df[int_to_category_new] = covid_df[int_to_category].apply(lambda x: x.astype('category'))\n",
    "# check conversion\n",
    "covid_df[int_to_category + int_to_category_new]\n"
   ]
  },
  {
   "cell_type": "code",
   "execution_count": null,
   "metadata": {},
   "outputs": [],
   "source": [
    "# check conversion\n",
    "covid_df[int_to_category + int_to_category_new].dtypes"
   ]
  },
  {
   "cell_type": "markdown",
   "metadata": {},
   "source": [
    "##### Float --> Integer columns"
   ]
  },
  {
   "cell_type": "code",
   "execution_count": null,
   "metadata": {},
   "outputs": [],
   "source": [
    "# identify which columns to convert \n",
    "to_int = list(covid_df.select_dtypes(include = [\"float64\"]).columns)\n",
    "# create new column names\n",
    "converted_to_int = list(map(lambda x: x.replace('o_', ''), to_int))\n",
    "# add new converted columns\n",
    "covid_df[converted_to_int] = covid_df[to_int].apply(lambda x: x.astype('Int64'))\n",
    "# check conversion\n",
    "covid_df[to_int + converted_to_int].head()\n"
   ]
  },
  {
   "cell_type": "code",
   "execution_count": null,
   "metadata": {},
   "outputs": [],
   "source": [
    "# check conversion\n",
    "covid_df[to_int + converted_to_int].dtypes"
   ]
  },
  {
   "cell_type": "markdown",
   "metadata": {},
   "source": [
    "### Check missingness"
   ]
  },
  {
   "cell_type": "markdown",
   "metadata": {},
   "source": [
    "We have a lot of missing data in the coumns that track COVID related things. However, we don't have any missing data in the ID columns (date, state, fips). Given the difficulty with retrieving these data, one would expect at least some missing data in these columns. \n",
    "\n",
    "These missingness counts are a further validation that the datatype conversions did not introduce additional NAs. "
   ]
  },
  {
   "cell_type": "code",
   "execution_count": null,
   "metadata": {},
   "outputs": [],
   "source": [
    "covid_df.isnull().sum(axis = 0)"
   ]
  },
  {
   "cell_type": "markdown",
   "metadata": {},
   "source": [
    "### Generate summary statistics"
   ]
  },
  {
   "cell_type": "markdown",
   "metadata": {},
   "source": [
    "The summary statistics of original and converted columns are another method for validating the column type conversion. We can see that the conversion did not appear to change summary statistics of the data so from now on we will use the converted columns. "
   ]
  },
  {
   "cell_type": "code",
   "execution_count": null,
   "metadata": {},
   "outputs": [],
   "source": [
    "# display summary statistics of original columns\n",
    "covid_df[covid_df.columns[pd.Series(covid_df.columns).str.startswith('o_')]].describe(include = 'all')"
   ]
  },
  {
   "cell_type": "code",
   "execution_count": null,
   "metadata": {},
   "outputs": [],
   "source": [
    "# extract converted columns & unconverted hash column\n",
    "converted_covid_df = covid_df[list(\n",
    "    map(lambda x: x.replace('o_', '') if (x != 'o_County Name') & (x != 'o_State') & (x != 'o_cases') else x, \n",
    "        list(covid_df[covid_df.columns[pd.Series(covid_df.columns).str.startswith('o_')]].columns)))]\n",
    "         \n",
    "# show summary statistics\n",
    "converted_covid_df.describe(include = 'all')"
   ]
  },
  {
   "cell_type": "markdown",
   "metadata": {},
   "source": [
    "#### Check duplicates"
   ]
  },
  {
   "cell_type": "markdown",
   "metadata": {},
   "source": [
    "There are no perfectly duplicated rows. "
   ]
  },
  {
   "cell_type": "code",
   "execution_count": null,
   "metadata": {},
   "outputs": [],
   "source": [
    "sum(converted_covid_df.duplicated())"
   ]
  },
  {
   "cell_type": "markdown",
   "metadata": {},
   "source": [
    "There are no duplications for the primary keys - as expected, there appears to be one column for every day, for every state (whether identified via state name or fips code)."
   ]
  },
  {
   "cell_type": "code",
   "execution_count": null,
   "metadata": {},
   "outputs": [],
   "source": [
    "# check duplication w/ date and state name\n",
    "converted_covid_df[converted_covid_df.duplicated(subset=['date','o_State', 'o_County Name'], keep=False)]"
   ]
  },
  {
   "cell_type": "code",
   "execution_count": null,
   "metadata": {},
   "outputs": [],
   "source": [
    "# check duplication w/ date and state fips code\n",
    "converted_covid_df[converted_covid_df.duplicated(subset=['date','countyFIPS', 'stateFIPS'], keep=False)]"
   ]
  },
  {
   "cell_type": "markdown",
   "metadata": {},
   "source": [
    "#### Recount records"
   ]
  },
  {
   "cell_type": "code",
   "execution_count": null,
   "metadata": {},
   "outputs": [],
   "source": [
    "# count rows \n",
    "covid_df.shape[0] == converted_covid_df.shape[0]"
   ]
  },
  {
   "cell_type": "markdown",
   "metadata": {},
   "source": [
    "#### Rename columns"
   ]
  },
  {
   "cell_type": "code",
   "execution_count": null,
   "metadata": {},
   "outputs": [],
   "source": [
    "covid_df.columns = ['countyFIPS', 'county', 'state', 'stateFIPS', 'date', 'cases',\n",
    "       'deaths', 'population', 'date', 'countyFIPS', 'stateFIPS', 'deaths',\n",
    "       'population']\n",
    "\n",
    "covid_df.head()"
   ]
  },
  {
   "cell_type": "markdown",
   "metadata": {},
   "source": [
    "### Pickle data "
   ]
  },
  {
   "cell_type": "code",
   "execution_count": null,
   "metadata": {},
   "outputs": [],
   "source": [
    "pickle.dump(converted_covid_df, open( \"../Data_pkl/covid19/usafacts_covid_df.pkl\", \"wb\" ) )\n"
   ]
  },
  {
   "cell_type": "code",
   "execution_count": null,
   "metadata": {},
   "outputs": [],
   "source": []
  }
 ],
 "metadata": {
  "kernelspec": {
   "display_name": "Python 3",
   "language": "python",
   "name": "python3"
  },
  "language_info": {
   "codemirror_mode": {
    "name": "ipython",
    "version": 3
   },
   "file_extension": ".py",
   "mimetype": "text/x-python",
   "name": "python",
   "nbconvert_exporter": "python",
   "pygments_lexer": "ipython3",
   "version": "3.7.4"
  }
 },
 "nbformat": 4,
 "nbformat_minor": 4
}
