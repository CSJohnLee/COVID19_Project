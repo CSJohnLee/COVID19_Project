{
 "cells": [
  {
   "cell_type": "markdown",
   "metadata": {},
   "source": [
    "# COVID-19 MIDS Collaboration \n",
    "\n",
    "## Data Import: Income data\n",
    "\n",
    "This Jupyter Notebook reads in raw data as csv files and exports them as [pickle files for faster loading](https://medium.com/better-programming/load-fast-load-big-with-compressed-pickles-5f311584507e). "
   ]
  },
  {
   "cell_type": "markdown",
   "metadata": {},
   "source": [
    "### Data sources\n",
    "\n",
    "Income data: "
   ]
  },
  {
   "cell_type": "markdown",
   "metadata": {},
   "source": [
    "### Set up environment "
   ]
  },
  {
   "cell_type": "code",
   "execution_count": 1,
   "metadata": {},
   "outputs": [],
   "source": [
    "# Import packages\n",
    "import pandas as pd # to read in csv\n",
    "import numpy as np # to process data\n",
    "import pickle # to pickle files\n"
   ]
  },
  {
   "cell_type": "markdown",
   "metadata": {},
   "source": [
    "Here, we import the dataset into a pandas dataframe and add a \"o_\" prefix to all columsn to demarcate which columns were the originals. "
   ]
  },
  {
   "cell_type": "code",
   "execution_count": 2,
   "metadata": {},
   "outputs": [],
   "source": [
    "#Read in data & add \"o_\" prefix to demarcate which columns were the originals \n",
    "income_df = pd.read_csv(\"../Data_raw/Kaggle_USHousehold_Income/kaggle_income.csv\", encoding='latin-1').add_prefix('o_') \n"
   ]
  },
  {
   "cell_type": "markdown",
   "metadata": {},
   "source": [
    "### Inspect data"
   ]
  },
  {
   "cell_type": "markdown",
   "metadata": {},
   "source": [
    "Our dataset tracking income has 32,526 rows and 19 columns. "
   ]
  },
  {
   "cell_type": "code",
   "execution_count": 3,
   "metadata": {},
   "outputs": [
    {
     "data": {
      "text/plain": [
       "(32526, 19)"
      ]
     },
     "execution_count": 3,
     "metadata": {},
     "output_type": "execute_result"
    }
   ],
   "source": [
    "# count rows and columns\n",
    "income_df.shape"
   ]
  },
  {
   "cell_type": "markdown",
   "metadata": {},
   "source": [
    "We have:\n",
    "\n",
    "* 2 integer columns tracking the ID, state codes, and zip codes; information about land and water; and mean/median/standard deviation of income.\n",
    "* 3 float columns tracking latitude & longitude and sum_w (unknown column)\n",
    "* 8 string columns tracking state name and abbreviation; county and city name; place, type and primary (unknown column); and area code.\n"
   ]
  },
  {
   "cell_type": "code",
   "execution_count": 4,
   "metadata": {},
   "outputs": [
    {
     "data": {
      "text/plain": [
       "o_id              int64\n",
       "o_State_Code      int64\n",
       "o_State_Name     object\n",
       "o_State_ab       object\n",
       "o_County         object\n",
       "o_City           object\n",
       "o_Place          object\n",
       "o_Type           object\n",
       "o_Primary        object\n",
       "o_Zip_Code        int64\n",
       "o_Area_Code      object\n",
       "o_ALand           int64\n",
       "o_AWater          int64\n",
       "o_Lat           float64\n",
       "o_Lon           float64\n",
       "o_Mean            int64\n",
       "o_Median          int64\n",
       "o_Stdev           int64\n",
       "o_sum_w         float64\n",
       "dtype: object"
      ]
     },
     "execution_count": 4,
     "metadata": {},
     "output_type": "execute_result"
    }
   ],
   "source": [
    "# check data types \n",
    "income_df.dtypes"
   ]
  },
  {
   "cell_type": "code",
   "execution_count": 5,
   "metadata": {
    "scrolled": true
   },
   "outputs": [
    {
     "data": {
      "text/html": [
       "<div>\n",
       "<style scoped>\n",
       "    .dataframe tbody tr th:only-of-type {\n",
       "        vertical-align: middle;\n",
       "    }\n",
       "\n",
       "    .dataframe tbody tr th {\n",
       "        vertical-align: top;\n",
       "    }\n",
       "\n",
       "    .dataframe thead th {\n",
       "        text-align: right;\n",
       "    }\n",
       "</style>\n",
       "<table border=\"1\" class=\"dataframe\">\n",
       "  <thead>\n",
       "    <tr style=\"text-align: right;\">\n",
       "      <th></th>\n",
       "      <th>o_id</th>\n",
       "      <th>o_State_Code</th>\n",
       "      <th>o_State_Name</th>\n",
       "      <th>o_State_ab</th>\n",
       "      <th>o_County</th>\n",
       "      <th>o_City</th>\n",
       "      <th>o_Place</th>\n",
       "      <th>o_Type</th>\n",
       "      <th>o_Primary</th>\n",
       "      <th>o_Zip_Code</th>\n",
       "      <th>o_Area_Code</th>\n",
       "      <th>o_ALand</th>\n",
       "      <th>o_AWater</th>\n",
       "      <th>o_Lat</th>\n",
       "      <th>o_Lon</th>\n",
       "      <th>o_Mean</th>\n",
       "      <th>o_Median</th>\n",
       "      <th>o_Stdev</th>\n",
       "      <th>o_sum_w</th>\n",
       "    </tr>\n",
       "  </thead>\n",
       "  <tbody>\n",
       "    <tr>\n",
       "      <td>0</td>\n",
       "      <td>1011000</td>\n",
       "      <td>1</td>\n",
       "      <td>Alabama</td>\n",
       "      <td>AL</td>\n",
       "      <td>Mobile County</td>\n",
       "      <td>Chickasaw</td>\n",
       "      <td>Chickasaw city</td>\n",
       "      <td>City</td>\n",
       "      <td>place</td>\n",
       "      <td>36611</td>\n",
       "      <td>251</td>\n",
       "      <td>10894952</td>\n",
       "      <td>909156</td>\n",
       "      <td>30.771450</td>\n",
       "      <td>-88.079697</td>\n",
       "      <td>38773</td>\n",
       "      <td>30506</td>\n",
       "      <td>33101</td>\n",
       "      <td>1638.260513</td>\n",
       "    </tr>\n",
       "    <tr>\n",
       "      <td>1</td>\n",
       "      <td>1011010</td>\n",
       "      <td>1</td>\n",
       "      <td>Alabama</td>\n",
       "      <td>AL</td>\n",
       "      <td>Barbour County</td>\n",
       "      <td>Louisville</td>\n",
       "      <td>Clio city</td>\n",
       "      <td>City</td>\n",
       "      <td>place</td>\n",
       "      <td>36048</td>\n",
       "      <td>334</td>\n",
       "      <td>26070325</td>\n",
       "      <td>23254</td>\n",
       "      <td>31.708516</td>\n",
       "      <td>-85.611039</td>\n",
       "      <td>37725</td>\n",
       "      <td>19528</td>\n",
       "      <td>43789</td>\n",
       "      <td>258.017685</td>\n",
       "    </tr>\n",
       "    <tr>\n",
       "      <td>2</td>\n",
       "      <td>1011020</td>\n",
       "      <td>1</td>\n",
       "      <td>Alabama</td>\n",
       "      <td>AL</td>\n",
       "      <td>Shelby County</td>\n",
       "      <td>Columbiana</td>\n",
       "      <td>Columbiana city</td>\n",
       "      <td>City</td>\n",
       "      <td>place</td>\n",
       "      <td>35051</td>\n",
       "      <td>205</td>\n",
       "      <td>44835274</td>\n",
       "      <td>261034</td>\n",
       "      <td>33.191452</td>\n",
       "      <td>-86.615618</td>\n",
       "      <td>54606</td>\n",
       "      <td>31930</td>\n",
       "      <td>57348</td>\n",
       "      <td>926.031000</td>\n",
       "    </tr>\n",
       "    <tr>\n",
       "      <td>3</td>\n",
       "      <td>1011030</td>\n",
       "      <td>1</td>\n",
       "      <td>Alabama</td>\n",
       "      <td>AL</td>\n",
       "      <td>Mobile County</td>\n",
       "      <td>Satsuma</td>\n",
       "      <td>Creola city</td>\n",
       "      <td>City</td>\n",
       "      <td>place</td>\n",
       "      <td>36572</td>\n",
       "      <td>251</td>\n",
       "      <td>36878729</td>\n",
       "      <td>2374530</td>\n",
       "      <td>30.874343</td>\n",
       "      <td>-88.009442</td>\n",
       "      <td>63919</td>\n",
       "      <td>52814</td>\n",
       "      <td>47707</td>\n",
       "      <td>378.114619</td>\n",
       "    </tr>\n",
       "    <tr>\n",
       "      <td>4</td>\n",
       "      <td>1011040</td>\n",
       "      <td>1</td>\n",
       "      <td>Alabama</td>\n",
       "      <td>AL</td>\n",
       "      <td>Mobile County</td>\n",
       "      <td>Dauphin Island</td>\n",
       "      <td>Dauphin Island</td>\n",
       "      <td>Town</td>\n",
       "      <td>place</td>\n",
       "      <td>36528</td>\n",
       "      <td>251</td>\n",
       "      <td>16204185</td>\n",
       "      <td>413605152</td>\n",
       "      <td>30.250913</td>\n",
       "      <td>-88.171268</td>\n",
       "      <td>77948</td>\n",
       "      <td>67225</td>\n",
       "      <td>54270</td>\n",
       "      <td>282.320328</td>\n",
       "    </tr>\n",
       "  </tbody>\n",
       "</table>\n",
       "</div>"
      ],
      "text/plain": [
       "      o_id  o_State_Code o_State_Name o_State_ab        o_County  \\\n",
       "0  1011000             1      Alabama         AL   Mobile County   \n",
       "1  1011010             1      Alabama         AL  Barbour County   \n",
       "2  1011020             1      Alabama         AL   Shelby County   \n",
       "3  1011030             1      Alabama         AL   Mobile County   \n",
       "4  1011040             1      Alabama         AL   Mobile County   \n",
       "\n",
       "           o_City          o_Place o_Type o_Primary  o_Zip_Code o_Area_Code  \\\n",
       "0       Chickasaw   Chickasaw city   City     place       36611         251   \n",
       "1      Louisville        Clio city   City     place       36048         334   \n",
       "2      Columbiana  Columbiana city   City     place       35051         205   \n",
       "3         Satsuma      Creola city   City     place       36572         251   \n",
       "4  Dauphin Island   Dauphin Island   Town     place       36528         251   \n",
       "\n",
       "    o_ALand   o_AWater      o_Lat      o_Lon  o_Mean  o_Median  o_Stdev  \\\n",
       "0  10894952     909156  30.771450 -88.079697   38773     30506    33101   \n",
       "1  26070325      23254  31.708516 -85.611039   37725     19528    43789   \n",
       "2  44835274     261034  33.191452 -86.615618   54606     31930    57348   \n",
       "3  36878729    2374530  30.874343 -88.009442   63919     52814    47707   \n",
       "4  16204185  413605152  30.250913 -88.171268   77948     67225    54270   \n",
       "\n",
       "       o_sum_w  \n",
       "0  1638.260513  \n",
       "1   258.017685  \n",
       "2   926.031000  \n",
       "3   378.114619  \n",
       "4   282.320328  "
      ]
     },
     "execution_count": 5,
     "metadata": {},
     "output_type": "execute_result"
    }
   ],
   "source": [
    "income_df.head()"
   ]
  },
  {
   "cell_type": "markdown",
   "metadata": {},
   "source": [
    "# CODE BELOW TO PULL FROM TO FINISH THE REST"
   ]
  },
  {
   "cell_type": "markdown",
   "metadata": {},
   "source": [
    "# CONVERT DATA TYPES"
   ]
  },
  {
   "cell_type": "markdown",
   "metadata": {},
   "source": [
    "# CHECK CONVERSION"
   ]
  },
  {
   "cell_type": "markdown",
   "metadata": {},
   "source": [
    "# CHECK SUMMARY STATS "
   ]
  },
  {
   "cell_type": "markdown",
   "metadata": {},
   "source": [
    "# CHECK DUPLICATES"
   ]
  },
  {
   "cell_type": "markdown",
   "metadata": {},
   "source": [
    "# CONVERT TO APPROPRIATE LEVEL"
   ]
  },
  {
   "cell_type": "markdown",
   "metadata": {},
   "source": [
    "# PICKLE AND EXPORT NEW DATASET"
   ]
  },
  {
   "cell_type": "code",
   "execution_count": null,
   "metadata": {},
   "outputs": [],
   "source": []
  },
  {
   "cell_type": "code",
   "execution_count": null,
   "metadata": {},
   "outputs": [],
   "source": []
  },
  {
   "cell_type": "code",
   "execution_count": 6,
   "metadata": {},
   "outputs": [
    {
     "data": {
      "text/plain": [
       "o_date              object\n",
       "o_county            object\n",
       "o_state             object\n",
       "o_fips             float64\n",
       "o_cases              int64\n",
       "o_deaths             int64\n",
       "date        datetime64[ns]\n",
       "dtype: object"
      ]
     },
     "execution_count": 6,
     "metadata": {},
     "output_type": "execute_result"
    }
   ],
   "source": [
    "# create new version of column as a datetime object\n",
    "covid_df[\"date\"] = pd.to_datetime(covid_df[\"o_date\"])\n",
    "# check conversion \n",
    "covid_df.dtypes"
   ]
  },
  {
   "cell_type": "code",
   "execution_count": 68,
   "metadata": {},
   "outputs": [
    {
     "data": {
      "text/plain": [
       "o_date                 object\n",
       "o_county               object\n",
       "o_state                object\n",
       "o_fips                float64\n",
       "o_cases                 int64\n",
       "o_deaths                int64\n",
       "date           datetime64[ns]\n",
       "fips                 category\n",
       "county                 object\n",
       "fips_str               object\n",
       "state_fips             object\n",
       "county_fips          category\n",
       "dtype: object"
      ]
     },
     "execution_count": 68,
     "metadata": {},
     "output_type": "execute_result"
    }
   ],
   "source": [
    "# create new version of fips column as nullable integer\n",
    "covid_df[\"fips\"] = covid_df[\"o_fips\"].astype('category')\n",
    "# create new version of fips column as string \n",
    "covid_df[\"fips_str\"] = covid_df[\"o_fips\"].astype('Int64').astype('str')\n",
    "# check conversion \n",
    "covid_df.dtypes"
   ]
  },
  {
   "cell_type": "code",
   "execution_count": 65,
   "metadata": {},
   "outputs": [
    {
     "data": {
      "text/plain": [
       "0    53\n",
       "1    53\n",
       "2    53\n",
       "3    17\n",
       "4    53\n",
       "Name: state_fips, dtype: object"
      ]
     },
     "execution_count": 65,
     "metadata": {},
     "output_type": "execute_result"
    }
   ],
   "source": [
    "# extract state FIPS and convert to category \n",
    "covid_df[\"state_fips\"] = covid_df[\"fips_str\"].apply(lambda x: x[:-3]).astype('category')\n",
    "covid_df[\"state_fips\"].head()"
   ]
  },
  {
   "cell_type": "code",
   "execution_count": 66,
   "metadata": {},
   "outputs": [
    {
     "data": {
      "text/plain": [
       "0    061\n",
       "1    061\n",
       "2    061\n",
       "3    031\n",
       "4    061\n",
       "Name: county_fips, dtype: category\n",
       "Categories (284, object): [001, 003, 005, 006, ..., 820, 830, 840, nan]"
      ]
     },
     "execution_count": 66,
     "metadata": {},
     "output_type": "execute_result"
    }
   ],
   "source": [
    "# extract county FIPS and convert to category \n",
    "covid_df[\"county_fips\"] = covid_df[\"fips_str\"].apply(lambda x: x[-3:]).astype('category')\n",
    "covid_df[\"county_fips\"].head()"
   ]
  },
  {
   "cell_type": "code",
   "execution_count": 8,
   "metadata": {},
   "outputs": [
    {
     "data": {
      "text/html": [
       "<div>\n",
       "<style scoped>\n",
       "    .dataframe tbody tr th:only-of-type {\n",
       "        vertical-align: middle;\n",
       "    }\n",
       "\n",
       "    .dataframe tbody tr th {\n",
       "        vertical-align: top;\n",
       "    }\n",
       "\n",
       "    .dataframe thead th {\n",
       "        text-align: right;\n",
       "    }\n",
       "</style>\n",
       "<table border=\"1\" class=\"dataframe\">\n",
       "  <thead>\n",
       "    <tr style=\"text-align: right;\">\n",
       "      <th></th>\n",
       "      <th>o_date</th>\n",
       "      <th>o_county</th>\n",
       "      <th>o_state</th>\n",
       "      <th>o_fips</th>\n",
       "      <th>o_cases</th>\n",
       "      <th>o_deaths</th>\n",
       "      <th>date</th>\n",
       "      <th>fips</th>\n",
       "    </tr>\n",
       "  </thead>\n",
       "  <tbody>\n",
       "    <tr>\n",
       "      <td>0</td>\n",
       "      <td>2020-01-21</td>\n",
       "      <td>Snohomish</td>\n",
       "      <td>Washington</td>\n",
       "      <td>53061.0</td>\n",
       "      <td>1</td>\n",
       "      <td>0</td>\n",
       "      <td>2020-01-21</td>\n",
       "      <td>53061.0</td>\n",
       "    </tr>\n",
       "    <tr>\n",
       "      <td>1</td>\n",
       "      <td>2020-01-22</td>\n",
       "      <td>Snohomish</td>\n",
       "      <td>Washington</td>\n",
       "      <td>53061.0</td>\n",
       "      <td>1</td>\n",
       "      <td>0</td>\n",
       "      <td>2020-01-22</td>\n",
       "      <td>53061.0</td>\n",
       "    </tr>\n",
       "    <tr>\n",
       "      <td>2</td>\n",
       "      <td>2020-01-23</td>\n",
       "      <td>Snohomish</td>\n",
       "      <td>Washington</td>\n",
       "      <td>53061.0</td>\n",
       "      <td>1</td>\n",
       "      <td>0</td>\n",
       "      <td>2020-01-23</td>\n",
       "      <td>53061.0</td>\n",
       "    </tr>\n",
       "    <tr>\n",
       "      <td>3</td>\n",
       "      <td>2020-01-24</td>\n",
       "      <td>Cook</td>\n",
       "      <td>Illinois</td>\n",
       "      <td>17031.0</td>\n",
       "      <td>1</td>\n",
       "      <td>0</td>\n",
       "      <td>2020-01-24</td>\n",
       "      <td>17031.0</td>\n",
       "    </tr>\n",
       "    <tr>\n",
       "      <td>4</td>\n",
       "      <td>2020-01-24</td>\n",
       "      <td>Snohomish</td>\n",
       "      <td>Washington</td>\n",
       "      <td>53061.0</td>\n",
       "      <td>1</td>\n",
       "      <td>0</td>\n",
       "      <td>2020-01-24</td>\n",
       "      <td>53061.0</td>\n",
       "    </tr>\n",
       "  </tbody>\n",
       "</table>\n",
       "</div>"
      ],
      "text/plain": [
       "       o_date   o_county     o_state   o_fips  o_cases  o_deaths       date  \\\n",
       "0  2020-01-21  Snohomish  Washington  53061.0        1         0 2020-01-21   \n",
       "1  2020-01-22  Snohomish  Washington  53061.0        1         0 2020-01-22   \n",
       "2  2020-01-23  Snohomish  Washington  53061.0        1         0 2020-01-23   \n",
       "3  2020-01-24       Cook    Illinois  17031.0        1         0 2020-01-24   \n",
       "4  2020-01-24  Snohomish  Washington  53061.0        1         0 2020-01-24   \n",
       "\n",
       "      fips  \n",
       "0  53061.0  \n",
       "1  53061.0  \n",
       "2  53061.0  \n",
       "3  17031.0  \n",
       "4  53061.0  "
      ]
     },
     "execution_count": 8,
     "metadata": {},
     "output_type": "execute_result"
    }
   ],
   "source": [
    "# visual check of column conversions - these worked \n",
    "covid_df.head()"
   ]
  },
  {
   "cell_type": "markdown",
   "metadata": {},
   "source": [
    "We have 807 missing FIPS codes, but no other missing data (at least that is coded as NaNs)."
   ]
  },
  {
   "cell_type": "code",
   "execution_count": 9,
   "metadata": {},
   "outputs": [
    {
     "data": {
      "text/plain": [
       "o_date        0\n",
       "o_county      0\n",
       "o_state       0\n",
       "o_fips      807\n",
       "o_cases       0\n",
       "o_deaths      0\n",
       "date          0\n",
       "fips        807\n",
       "dtype: int64"
      ]
     },
     "execution_count": 9,
     "metadata": {},
     "output_type": "execute_result"
    }
   ],
   "source": [
    "covid_df.isnull().sum(axis = 0)"
   ]
  },
  {
   "cell_type": "markdown",
   "metadata": {},
   "source": [
    "3 counties have missing FIPS codes."
   ]
  },
  {
   "cell_type": "code",
   "execution_count": 10,
   "metadata": {},
   "outputs": [
    {
     "data": {
      "text/plain": [
       "array(['New York City', 'Unknown', 'Kansas City'], dtype=object)"
      ]
     },
     "execution_count": 10,
     "metadata": {},
     "output_type": "execute_result"
    }
   ],
   "source": [
    "covid_df[\"o_county\"][covid_df[\"o_fips\"].isnull()].unique()"
   ]
  },
  {
   "cell_type": "markdown",
   "metadata": {},
   "source": [
    "New York City is comprised of 5 counties (1 for each of the 5 boroughs); these each have their own FIPS codes: New York County (Manhattan), Kings County (Brooklyn), Bronx County (The Bronx), Richmond County (Staten Island), and Queens County (Queens). "
   ]
  },
  {
   "cell_type": "code",
   "execution_count": 11,
   "metadata": {},
   "outputs": [
    {
     "data": {
      "text/plain": [
       "array(['New York'], dtype=object)"
      ]
     },
     "execution_count": 11,
     "metadata": {},
     "output_type": "execute_result"
    }
   ],
   "source": [
    "# show unique state for counties coded as \"Unknown\"\n",
    "covid_df[\"o_state\"][covid_df[\"o_county\"] == \"New York City\"].unique()"
   ]
  },
  {
   "cell_type": "code",
   "execution_count": 12,
   "metadata": {},
   "outputs": [
    {
     "data": {
      "text/plain": [
       "array([nan])"
      ]
     },
     "execution_count": 12,
     "metadata": {},
     "output_type": "execute_result"
    }
   ],
   "source": [
    "# show unique fips codes for counties coded as \"New York City\"\n",
    "covid_df[\"o_fips\"][covid_df[\"o_county\"] == \"New York City\"].unique()"
   ]
  },
  {
   "cell_type": "markdown",
   "metadata": {},
   "source": [
    "Kansas City, Missouri also straddles multiple counties which would explain why it does not have a FIPS code. "
   ]
  },
  {
   "cell_type": "code",
   "execution_count": 13,
   "metadata": {},
   "outputs": [
    {
     "data": {
      "text/plain": [
       "array(['Missouri'], dtype=object)"
      ]
     },
     "execution_count": 13,
     "metadata": {},
     "output_type": "execute_result"
    }
   ],
   "source": [
    "# show unique states for counties coded as \"Kansas City\"\n",
    "covid_df[\"o_state\"][covid_df[\"o_county\"] == \"Kansas City\"].unique()"
   ]
  },
  {
   "cell_type": "code",
   "execution_count": 14,
   "metadata": {},
   "outputs": [
    {
     "data": {
      "text/plain": [
       "array([nan])"
      ]
     },
     "execution_count": 14,
     "metadata": {},
     "output_type": "execute_result"
    }
   ],
   "source": [
    "# show unique fips codes for counties coded as \"Kansas City\"\n",
    "covid_df[\"o_fips\"][covid_df[\"o_county\"] == \"Kansas City\"].unique()"
   ]
  },
  {
   "cell_type": "markdown",
   "metadata": {},
   "source": [
    "Other rows are missing FIPS codes because they lack a county (it is marked as \"Unknown\"). Some would make sense - for example, Puerto Rico only has a state FIPS code. "
   ]
  },
  {
   "cell_type": "code",
   "execution_count": 15,
   "metadata": {},
   "outputs": [
    {
     "data": {
      "text/plain": [
       "array(['Rhode Island', 'New Jersey', 'Puerto Rico', 'Virgin Islands',\n",
       "       'Guam', 'Maine', 'Massachusetts', 'Louisiana', 'Kentucky',\n",
       "       'Nevada', 'Tennessee', 'Arkansas', 'Georgia', 'Missouri',\n",
       "       'Minnesota', 'California', 'Colorado', 'Florida', 'Hawaii',\n",
       "       'Illinois', 'Vermont', 'Idaho', 'Michigan', 'Ohio', 'Utah',\n",
       "       'Mississippi', 'Northern Mariana Islands', 'Nebraska',\n",
       "       'Connecticut', 'South Dakota', 'Indiana', 'Alaska', 'Arizona',\n",
       "       'New Mexico', 'New York', 'Pennsylvania', 'Virginia',\n",
       "       'New Hampshire', 'Washington', 'Delaware', 'Kansas',\n",
       "       'North Dakota', 'Maryland'], dtype=object)"
      ]
     },
     "execution_count": 15,
     "metadata": {},
     "output_type": "execute_result"
    }
   ],
   "source": [
    "# show unique states for counties coded as \"Unknown\"\n",
    "covid_df[\"o_state\"][covid_df[\"o_county\"] == \"Unknown\"].unique()"
   ]
  },
  {
   "cell_type": "code",
   "execution_count": 16,
   "metadata": {},
   "outputs": [
    {
     "data": {
      "text/plain": [
       "array([nan])"
      ]
     },
     "execution_count": 16,
     "metadata": {},
     "output_type": "execute_result"
    }
   ],
   "source": [
    "# show unique fips codes for counties coded as \"Unknown\"\n",
    "covid_df[\"o_fips\"][covid_df[\"o_county\"] == \"Unknown\"].unique()"
   ]
  },
  {
   "cell_type": "markdown",
   "metadata": {},
   "source": [
    "The missingness in FIPS codes is a major issue since this is the geographic identifier we would use to join these data to other datsets. We will likely need to accurately rectify this missingness in order to accurately combine our data. These don't seem to be erroneous data for the most part. Rather, the missing points reflect when a data point is at the city (rather than county) level and/or if there is no county for that region. "
   ]
  },
  {
   "cell_type": "code",
   "execution_count": 17,
   "metadata": {},
   "outputs": [],
   "source": [
    "# replace rows with missing county with NaN \n",
    "covid_df[\"county\"] = covid_df[\"o_county\"].replace(\"Unknown\", None)"
   ]
  },
  {
   "cell_type": "markdown",
   "metadata": {},
   "source": [
    "The mins and maxes look reasonable for COVID-19 mins and maxes. The distributions are remarkable but also reasonable - we clearly have some outliers on the high end (New York is likely one of those). "
   ]
  },
  {
   "cell_type": "code",
   "execution_count": 18,
   "metadata": {},
   "outputs": [
    {
     "data": {
      "text/html": [
       "<div>\n",
       "<style scoped>\n",
       "    .dataframe tbody tr th:only-of-type {\n",
       "        vertical-align: middle;\n",
       "    }\n",
       "\n",
       "    .dataframe tbody tr th {\n",
       "        vertical-align: top;\n",
       "    }\n",
       "\n",
       "    .dataframe thead th {\n",
       "        text-align: right;\n",
       "    }\n",
       "</style>\n",
       "<table border=\"1\" class=\"dataframe\">\n",
       "  <thead>\n",
       "    <tr style=\"text-align: right;\">\n",
       "      <th></th>\n",
       "      <th>o_fips</th>\n",
       "      <th>o_cases</th>\n",
       "      <th>o_deaths</th>\n",
       "    </tr>\n",
       "  </thead>\n",
       "  <tbody>\n",
       "    <tr>\n",
       "      <td>count</td>\n",
       "      <td>61164.000000</td>\n",
       "      <td>61971.000000</td>\n",
       "      <td>61971.000000</td>\n",
       "    </tr>\n",
       "    <tr>\n",
       "      <td>mean</td>\n",
       "      <td>29601.488980</td>\n",
       "      <td>121.685353</td>\n",
       "      <td>4.025415</td>\n",
       "    </tr>\n",
       "    <tr>\n",
       "      <td>std</td>\n",
       "      <td>15528.488936</td>\n",
       "      <td>1520.051958</td>\n",
       "      <td>82.937968</td>\n",
       "    </tr>\n",
       "    <tr>\n",
       "      <td>min</td>\n",
       "      <td>1001.000000</td>\n",
       "      <td>0.000000</td>\n",
       "      <td>0.000000</td>\n",
       "    </tr>\n",
       "    <tr>\n",
       "      <td>25%</td>\n",
       "      <td>17179.000000</td>\n",
       "      <td>2.000000</td>\n",
       "      <td>0.000000</td>\n",
       "    </tr>\n",
       "    <tr>\n",
       "      <td>50%</td>\n",
       "      <td>28143.000000</td>\n",
       "      <td>6.000000</td>\n",
       "      <td>0.000000</td>\n",
       "    </tr>\n",
       "    <tr>\n",
       "      <td>75%</td>\n",
       "      <td>42131.000000</td>\n",
       "      <td>25.000000</td>\n",
       "      <td>1.000000</td>\n",
       "    </tr>\n",
       "    <tr>\n",
       "      <td>max</td>\n",
       "      <td>56043.000000</td>\n",
       "      <td>118302.000000</td>\n",
       "      <td>8215.000000</td>\n",
       "    </tr>\n",
       "  </tbody>\n",
       "</table>\n",
       "</div>"
      ],
      "text/plain": [
       "             o_fips        o_cases      o_deaths\n",
       "count  61164.000000   61971.000000  61971.000000\n",
       "mean   29601.488980     121.685353      4.025415\n",
       "std    15528.488936    1520.051958     82.937968\n",
       "min     1001.000000       0.000000      0.000000\n",
       "25%    17179.000000       2.000000      0.000000\n",
       "50%    28143.000000       6.000000      0.000000\n",
       "75%    42131.000000      25.000000      1.000000\n",
       "max    56043.000000  118302.000000   8215.000000"
      ]
     },
     "execution_count": 18,
     "metadata": {},
     "output_type": "execute_result"
    }
   ],
   "source": [
    "# display numerical data summary statistics\n",
    "covid_df.describe()"
   ]
  },
  {
   "cell_type": "markdown",
   "metadata": {},
   "source": [
    "We have no missing data in the text columns. We have data for 86 unique days, in 55 \"states\" (so the data also include territories), and 1,627 counties. In the original county column, we see there are 1,628 unique values since the NaNs used to be coded as \"Unknown\"."
   ]
  },
  {
   "cell_type": "code",
   "execution_count": 19,
   "metadata": {
    "scrolled": true
   },
   "outputs": [
    {
     "data": {
      "text/html": [
       "<div>\n",
       "<style scoped>\n",
       "    .dataframe tbody tr th:only-of-type {\n",
       "        vertical-align: middle;\n",
       "    }\n",
       "\n",
       "    .dataframe tbody tr th {\n",
       "        vertical-align: top;\n",
       "    }\n",
       "\n",
       "    .dataframe thead th {\n",
       "        text-align: right;\n",
       "    }\n",
       "</style>\n",
       "<table border=\"1\" class=\"dataframe\">\n",
       "  <thead>\n",
       "    <tr style=\"text-align: right;\">\n",
       "      <th></th>\n",
       "      <th>o_date</th>\n",
       "      <th>o_county</th>\n",
       "      <th>o_state</th>\n",
       "      <th>county</th>\n",
       "    </tr>\n",
       "  </thead>\n",
       "  <tbody>\n",
       "    <tr>\n",
       "      <td>count</td>\n",
       "      <td>61971</td>\n",
       "      <td>61971</td>\n",
       "      <td>61971</td>\n",
       "      <td>61971</td>\n",
       "    </tr>\n",
       "    <tr>\n",
       "      <td>unique</td>\n",
       "      <td>86</td>\n",
       "      <td>1628</td>\n",
       "      <td>55</td>\n",
       "      <td>1627</td>\n",
       "    </tr>\n",
       "    <tr>\n",
       "      <td>top</td>\n",
       "      <td>2020-04-15</td>\n",
       "      <td>Washington</td>\n",
       "      <td>Texas</td>\n",
       "      <td>Washington</td>\n",
       "    </tr>\n",
       "    <tr>\n",
       "      <td>freq</td>\n",
       "      <td>2722</td>\n",
       "      <td>772</td>\n",
       "      <td>3685</td>\n",
       "      <td>777</td>\n",
       "    </tr>\n",
       "  </tbody>\n",
       "</table>\n",
       "</div>"
      ],
      "text/plain": [
       "            o_date    o_county o_state      county\n",
       "count        61971       61971   61971       61971\n",
       "unique          86        1628      55        1627\n",
       "top     2020-04-15  Washington   Texas  Washington\n",
       "freq          2722         772    3685         777"
      ]
     },
     "execution_count": 19,
     "metadata": {},
     "output_type": "execute_result"
    }
   ],
   "source": [
    "# display text data summary statistics\n",
    "covid_df.describe(include=['O'])"
   ]
  },
  {
   "cell_type": "markdown",
   "metadata": {},
   "source": [
    "We can see that we have some missing data in our FIPS codes column and that we have 2,708 unique codes. "
   ]
  },
  {
   "cell_type": "code",
   "execution_count": 20,
   "metadata": {},
   "outputs": [
    {
     "data": {
      "text/html": [
       "<div>\n",
       "<style scoped>\n",
       "    .dataframe tbody tr th:only-of-type {\n",
       "        vertical-align: middle;\n",
       "    }\n",
       "\n",
       "    .dataframe tbody tr th {\n",
       "        vertical-align: top;\n",
       "    }\n",
       "\n",
       "    .dataframe thead th {\n",
       "        text-align: right;\n",
       "    }\n",
       "</style>\n",
       "<table border=\"1\" class=\"dataframe\">\n",
       "  <thead>\n",
       "    <tr style=\"text-align: right;\">\n",
       "      <th></th>\n",
       "      <th>fips</th>\n",
       "    </tr>\n",
       "  </thead>\n",
       "  <tbody>\n",
       "    <tr>\n",
       "      <td>count</td>\n",
       "      <td>61164.0</td>\n",
       "    </tr>\n",
       "    <tr>\n",
       "      <td>unique</td>\n",
       "      <td>2708.0</td>\n",
       "    </tr>\n",
       "    <tr>\n",
       "      <td>top</td>\n",
       "      <td>53061.0</td>\n",
       "    </tr>\n",
       "    <tr>\n",
       "      <td>freq</td>\n",
       "      <td>86.0</td>\n",
       "    </tr>\n",
       "  </tbody>\n",
       "</table>\n",
       "</div>"
      ],
      "text/plain": [
       "           fips\n",
       "count   61164.0\n",
       "unique   2708.0\n",
       "top     53061.0\n",
       "freq       86.0"
      ]
     },
     "execution_count": 20,
     "metadata": {},
     "output_type": "execute_result"
    }
   ],
   "source": [
    "# display text data summary statistics\n",
    "covid_df.describe(include=['category'])"
   ]
  },
  {
   "cell_type": "markdown",
   "metadata": {},
   "source": [
    "Now that we have verified our column conversion worked, we drop the columns for which we had added additional columns with the correct data type and remove the \"o_\" prefix since we no longer need to compare original versus converted columns. Columns are reordered to match the original ordering in the dataset."
   ]
  },
  {
   "cell_type": "code",
   "execution_count": 70,
   "metadata": {},
   "outputs": [
    {
     "data": {
      "text/html": [
       "<div>\n",
       "<style scoped>\n",
       "    .dataframe tbody tr th:only-of-type {\n",
       "        vertical-align: middle;\n",
       "    }\n",
       "\n",
       "    .dataframe tbody tr th {\n",
       "        vertical-align: top;\n",
       "    }\n",
       "\n",
       "    .dataframe thead th {\n",
       "        text-align: right;\n",
       "    }\n",
       "</style>\n",
       "<table border=\"1\" class=\"dataframe\">\n",
       "  <thead>\n",
       "    <tr style=\"text-align: right;\">\n",
       "      <th></th>\n",
       "      <th>date</th>\n",
       "      <th>fips</th>\n",
       "      <th>state_fips</th>\n",
       "      <th>county_fips</th>\n",
       "      <th>county</th>\n",
       "      <th>state</th>\n",
       "      <th>cases</th>\n",
       "      <th>deaths</th>\n",
       "    </tr>\n",
       "  </thead>\n",
       "  <tbody>\n",
       "    <tr>\n",
       "      <td>0</td>\n",
       "      <td>2020-01-21</td>\n",
       "      <td>53061.0</td>\n",
       "      <td>53</td>\n",
       "      <td>061</td>\n",
       "      <td>Snohomish</td>\n",
       "      <td>Washington</td>\n",
       "      <td>1</td>\n",
       "      <td>0</td>\n",
       "    </tr>\n",
       "    <tr>\n",
       "      <td>1</td>\n",
       "      <td>2020-01-22</td>\n",
       "      <td>53061.0</td>\n",
       "      <td>53</td>\n",
       "      <td>061</td>\n",
       "      <td>Snohomish</td>\n",
       "      <td>Washington</td>\n",
       "      <td>1</td>\n",
       "      <td>0</td>\n",
       "    </tr>\n",
       "    <tr>\n",
       "      <td>2</td>\n",
       "      <td>2020-01-23</td>\n",
       "      <td>53061.0</td>\n",
       "      <td>53</td>\n",
       "      <td>061</td>\n",
       "      <td>Snohomish</td>\n",
       "      <td>Washington</td>\n",
       "      <td>1</td>\n",
       "      <td>0</td>\n",
       "    </tr>\n",
       "    <tr>\n",
       "      <td>3</td>\n",
       "      <td>2020-01-24</td>\n",
       "      <td>17031.0</td>\n",
       "      <td>17</td>\n",
       "      <td>031</td>\n",
       "      <td>Cook</td>\n",
       "      <td>Illinois</td>\n",
       "      <td>1</td>\n",
       "      <td>0</td>\n",
       "    </tr>\n",
       "    <tr>\n",
       "      <td>4</td>\n",
       "      <td>2020-01-24</td>\n",
       "      <td>53061.0</td>\n",
       "      <td>53</td>\n",
       "      <td>061</td>\n",
       "      <td>Snohomish</td>\n",
       "      <td>Washington</td>\n",
       "      <td>1</td>\n",
       "      <td>0</td>\n",
       "    </tr>\n",
       "  </tbody>\n",
       "</table>\n",
       "</div>"
      ],
      "text/plain": [
       "        date     fips state_fips county_fips     county       state  cases  \\\n",
       "0 2020-01-21  53061.0         53         061  Snohomish  Washington      1   \n",
       "1 2020-01-22  53061.0         53         061  Snohomish  Washington      1   \n",
       "2 2020-01-23  53061.0         53         061  Snohomish  Washington      1   \n",
       "3 2020-01-24  17031.0         17         031       Cook    Illinois      1   \n",
       "4 2020-01-24  53061.0         53         061  Snohomish  Washington      1   \n",
       "\n",
       "   deaths  \n",
       "0       0  \n",
       "1       0  \n",
       "2       0  \n",
       "3       0  \n",
       "4       0  "
      ]
     },
     "execution_count": 70,
     "metadata": {},
     "output_type": "execute_result"
    }
   ],
   "source": [
    "# drop, rename, and reorder columns\n",
    "converted_covid_df = covid_df.drop(columns = [\"o_date\", \"o_fips\", \"o_county\", \"fips_str\"]).rename(columns = lambda x: x.replace('o_', ''))[[\"date\", \"fips\", \"state_fips\", \"county_fips\",\"county\", \"state\", \"cases\", \"deaths\"]]\n",
    "# visual inspection\n",
    "converted_covid_df.head()"
   ]
  },
  {
   "cell_type": "markdown",
   "metadata": {},
   "source": [
    "#### State FIPS codes and names"
   ]
  },
  {
   "cell_type": "markdown",
   "metadata": {},
   "source": [
    "Our dataset tracking state and county FIPS codes has 50 rows and 10 columns. There is one row for each of the 50 states - we probably would want to merge the above file on this one to obtain the correct state FIPS codes and limit our data to only these 50 states for easier comparison. "
   ]
  },
  {
   "cell_type": "code",
   "execution_count": 22,
   "metadata": {},
   "outputs": [
    {
     "data": {
      "text/plain": [
       "(50, 10)"
      ]
     },
     "execution_count": 22,
     "metadata": {},
     "output_type": "execute_result"
    }
   ],
   "source": [
    "# display rows & columns\n",
    "state_fips_df.shape"
   ]
  },
  {
   "cell_type": "markdown",
   "metadata": {},
   "source": [
    "We have:\n",
    "\n",
    "* 5 string columns tracking the county name, abbreviation, region, and division\n",
    "* 5 integer columns tracking fips codes and tracking identifiers we can use to match to the county file \n",
    "    * These should be converted to categories \n"
   ]
  },
  {
   "cell_type": "code",
   "execution_count": 23,
   "metadata": {},
   "outputs": [
    {
     "data": {
      "text/plain": [
       "o_state_name       object\n",
       "o_state_abbr       object\n",
       "o_long_name        object\n",
       "o_fips              int64\n",
       "o_sumlev            int64\n",
       "o_region            int64\n",
       "o_division          int64\n",
       "o_state             int64\n",
       "o_region_name      object\n",
       "o_division_name    object\n",
       "dtype: object"
      ]
     },
     "execution_count": 23,
     "metadata": {},
     "output_type": "execute_result"
    }
   ],
   "source": [
    "# show data types \n",
    "state_fips_df.dtypes"
   ]
  },
  {
   "cell_type": "code",
   "execution_count": 24,
   "metadata": {
    "scrolled": true
   },
   "outputs": [
    {
     "data": {
      "text/html": [
       "<div>\n",
       "<style scoped>\n",
       "    .dataframe tbody tr th:only-of-type {\n",
       "        vertical-align: middle;\n",
       "    }\n",
       "\n",
       "    .dataframe tbody tr th {\n",
       "        vertical-align: top;\n",
       "    }\n",
       "\n",
       "    .dataframe thead th {\n",
       "        text-align: right;\n",
       "    }\n",
       "</style>\n",
       "<table border=\"1\" class=\"dataframe\">\n",
       "  <thead>\n",
       "    <tr style=\"text-align: right;\">\n",
       "      <th></th>\n",
       "      <th>o_state_name</th>\n",
       "      <th>o_state_abbr</th>\n",
       "      <th>o_long_name</th>\n",
       "      <th>o_fips</th>\n",
       "      <th>o_sumlev</th>\n",
       "      <th>o_region</th>\n",
       "      <th>o_division</th>\n",
       "      <th>o_state</th>\n",
       "      <th>o_region_name</th>\n",
       "      <th>o_division_name</th>\n",
       "    </tr>\n",
       "  </thead>\n",
       "  <tbody>\n",
       "    <tr>\n",
       "      <td>0</td>\n",
       "      <td>Alabama</td>\n",
       "      <td>AL</td>\n",
       "      <td>Alabama AL</td>\n",
       "      <td>1</td>\n",
       "      <td>40</td>\n",
       "      <td>3</td>\n",
       "      <td>6</td>\n",
       "      <td>1</td>\n",
       "      <td>South</td>\n",
       "      <td>East South Central</td>\n",
       "    </tr>\n",
       "    <tr>\n",
       "      <td>1</td>\n",
       "      <td>Alaska</td>\n",
       "      <td>AK</td>\n",
       "      <td>Alaska AK</td>\n",
       "      <td>2</td>\n",
       "      <td>40</td>\n",
       "      <td>4</td>\n",
       "      <td>9</td>\n",
       "      <td>2</td>\n",
       "      <td>West</td>\n",
       "      <td>Pacific</td>\n",
       "    </tr>\n",
       "    <tr>\n",
       "      <td>2</td>\n",
       "      <td>Arizona</td>\n",
       "      <td>AZ</td>\n",
       "      <td>Arizona AZ</td>\n",
       "      <td>4</td>\n",
       "      <td>40</td>\n",
       "      <td>4</td>\n",
       "      <td>8</td>\n",
       "      <td>4</td>\n",
       "      <td>West</td>\n",
       "      <td>Mountain</td>\n",
       "    </tr>\n",
       "    <tr>\n",
       "      <td>3</td>\n",
       "      <td>Arkansas</td>\n",
       "      <td>AR</td>\n",
       "      <td>Arkansas AR</td>\n",
       "      <td>5</td>\n",
       "      <td>40</td>\n",
       "      <td>3</td>\n",
       "      <td>7</td>\n",
       "      <td>5</td>\n",
       "      <td>South</td>\n",
       "      <td>West South Central</td>\n",
       "    </tr>\n",
       "    <tr>\n",
       "      <td>4</td>\n",
       "      <td>California</td>\n",
       "      <td>CA</td>\n",
       "      <td>California CA</td>\n",
       "      <td>6</td>\n",
       "      <td>40</td>\n",
       "      <td>4</td>\n",
       "      <td>9</td>\n",
       "      <td>6</td>\n",
       "      <td>West</td>\n",
       "      <td>Pacific</td>\n",
       "    </tr>\n",
       "  </tbody>\n",
       "</table>\n",
       "</div>"
      ],
      "text/plain": [
       "  o_state_name o_state_abbr    o_long_name  o_fips  o_sumlev  o_region  \\\n",
       "0      Alabama           AL     Alabama AL       1        40         3   \n",
       "1       Alaska           AK      Alaska AK       2        40         4   \n",
       "2      Arizona           AZ     Arizona AZ       4        40         4   \n",
       "3     Arkansas           AR    Arkansas AR       5        40         3   \n",
       "4   California           CA  California CA       6        40         4   \n",
       "\n",
       "   o_division  o_state o_region_name     o_division_name  \n",
       "0           6        1         South  East South Central  \n",
       "1           9        2          West             Pacific  \n",
       "2           8        4          West            Mountain  \n",
       "3           7        5         South  West South Central  \n",
       "4           9        6          West             Pacific  "
      ]
     },
     "execution_count": 24,
     "metadata": {},
     "output_type": "execute_result"
    }
   ],
   "source": [
    "# visual inspection\n",
    "state_fips_df.head()"
   ]
  },
  {
   "cell_type": "markdown",
   "metadata": {},
   "source": [
    "State FIPS codes range from 1-56. Since there are 50 states in the data, this means that some numbers in this range do not represent FIPS codes. Region IDs range from 1-4. Division names range from 1-9. The o_sumlev column is a constant and is likely not needed. "
   ]
  },
  {
   "cell_type": "code",
   "execution_count": 25,
   "metadata": {},
   "outputs": [
    {
     "data": {
      "text/html": [
       "<div>\n",
       "<style scoped>\n",
       "    .dataframe tbody tr th:only-of-type {\n",
       "        vertical-align: middle;\n",
       "    }\n",
       "\n",
       "    .dataframe tbody tr th {\n",
       "        vertical-align: top;\n",
       "    }\n",
       "\n",
       "    .dataframe thead th {\n",
       "        text-align: right;\n",
       "    }\n",
       "</style>\n",
       "<table border=\"1\" class=\"dataframe\">\n",
       "  <thead>\n",
       "    <tr style=\"text-align: right;\">\n",
       "      <th></th>\n",
       "      <th>o_fips</th>\n",
       "      <th>o_sumlev</th>\n",
       "      <th>o_region</th>\n",
       "      <th>o_division</th>\n",
       "      <th>o_state</th>\n",
       "    </tr>\n",
       "  </thead>\n",
       "  <tbody>\n",
       "    <tr>\n",
       "      <td>count</td>\n",
       "      <td>50.000000</td>\n",
       "      <td>50.0</td>\n",
       "      <td>50.000000</td>\n",
       "      <td>50.000000</td>\n",
       "      <td>50.000000</td>\n",
       "    </tr>\n",
       "    <tr>\n",
       "      <td>mean</td>\n",
       "      <td>29.320000</td>\n",
       "      <td>40.0</td>\n",
       "      <td>2.660000</td>\n",
       "      <td>5.120000</td>\n",
       "      <td>29.320000</td>\n",
       "    </tr>\n",
       "    <tr>\n",
       "      <td>std</td>\n",
       "      <td>15.782243</td>\n",
       "      <td>0.0</td>\n",
       "      <td>1.061574</td>\n",
       "      <td>2.560612</td>\n",
       "      <td>15.782243</td>\n",
       "    </tr>\n",
       "    <tr>\n",
       "      <td>min</td>\n",
       "      <td>1.000000</td>\n",
       "      <td>40.0</td>\n",
       "      <td>1.000000</td>\n",
       "      <td>1.000000</td>\n",
       "      <td>1.000000</td>\n",
       "    </tr>\n",
       "    <tr>\n",
       "      <td>25%</td>\n",
       "      <td>17.250000</td>\n",
       "      <td>40.0</td>\n",
       "      <td>2.000000</td>\n",
       "      <td>3.000000</td>\n",
       "      <td>17.250000</td>\n",
       "    </tr>\n",
       "    <tr>\n",
       "      <td>50%</td>\n",
       "      <td>29.500000</td>\n",
       "      <td>40.0</td>\n",
       "      <td>3.000000</td>\n",
       "      <td>5.000000</td>\n",
       "      <td>29.500000</td>\n",
       "    </tr>\n",
       "    <tr>\n",
       "      <td>75%</td>\n",
       "      <td>41.750000</td>\n",
       "      <td>40.0</td>\n",
       "      <td>3.750000</td>\n",
       "      <td>7.750000</td>\n",
       "      <td>41.750000</td>\n",
       "    </tr>\n",
       "    <tr>\n",
       "      <td>max</td>\n",
       "      <td>56.000000</td>\n",
       "      <td>40.0</td>\n",
       "      <td>4.000000</td>\n",
       "      <td>9.000000</td>\n",
       "      <td>56.000000</td>\n",
       "    </tr>\n",
       "  </tbody>\n",
       "</table>\n",
       "</div>"
      ],
      "text/plain": [
       "          o_fips  o_sumlev   o_region  o_division    o_state\n",
       "count  50.000000      50.0  50.000000   50.000000  50.000000\n",
       "mean   29.320000      40.0   2.660000    5.120000  29.320000\n",
       "std    15.782243       0.0   1.061574    2.560612  15.782243\n",
       "min     1.000000      40.0   1.000000    1.000000   1.000000\n",
       "25%    17.250000      40.0   2.000000    3.000000  17.250000\n",
       "50%    29.500000      40.0   3.000000    5.000000  29.500000\n",
       "75%    41.750000      40.0   3.750000    7.750000  41.750000\n",
       "max    56.000000      40.0   4.000000    9.000000  56.000000"
      ]
     },
     "execution_count": 25,
     "metadata": {},
     "output_type": "execute_result"
    }
   ],
   "source": [
    "# display numerical data summary statistics\n",
    "state_fips_df.describe()"
   ]
  },
  {
   "cell_type": "markdown",
   "metadata": {},
   "source": [
    "We can see that we have 50 states as expected. These are divided into 4 regions and 9 divisions."
   ]
  },
  {
   "cell_type": "code",
   "execution_count": 26,
   "metadata": {
    "scrolled": true
   },
   "outputs": [
    {
     "data": {
      "text/html": [
       "<div>\n",
       "<style scoped>\n",
       "    .dataframe tbody tr th:only-of-type {\n",
       "        vertical-align: middle;\n",
       "    }\n",
       "\n",
       "    .dataframe tbody tr th {\n",
       "        vertical-align: top;\n",
       "    }\n",
       "\n",
       "    .dataframe thead th {\n",
       "        text-align: right;\n",
       "    }\n",
       "</style>\n",
       "<table border=\"1\" class=\"dataframe\">\n",
       "  <thead>\n",
       "    <tr style=\"text-align: right;\">\n",
       "      <th></th>\n",
       "      <th>o_state_name</th>\n",
       "      <th>o_state_abbr</th>\n",
       "      <th>o_long_name</th>\n",
       "      <th>o_region_name</th>\n",
       "      <th>o_division_name</th>\n",
       "    </tr>\n",
       "  </thead>\n",
       "  <tbody>\n",
       "    <tr>\n",
       "      <td>count</td>\n",
       "      <td>50</td>\n",
       "      <td>50</td>\n",
       "      <td>50</td>\n",
       "      <td>50</td>\n",
       "      <td>50</td>\n",
       "    </tr>\n",
       "    <tr>\n",
       "      <td>unique</td>\n",
       "      <td>50</td>\n",
       "      <td>50</td>\n",
       "      <td>50</td>\n",
       "      <td>4</td>\n",
       "      <td>9</td>\n",
       "    </tr>\n",
       "    <tr>\n",
       "      <td>top</td>\n",
       "      <td>Pennsylvania</td>\n",
       "      <td>SD</td>\n",
       "      <td>Kansas KS</td>\n",
       "      <td>South</td>\n",
       "      <td>South Atlantic</td>\n",
       "    </tr>\n",
       "    <tr>\n",
       "      <td>freq</td>\n",
       "      <td>1</td>\n",
       "      <td>1</td>\n",
       "      <td>1</td>\n",
       "      <td>16</td>\n",
       "      <td>8</td>\n",
       "    </tr>\n",
       "  </tbody>\n",
       "</table>\n",
       "</div>"
      ],
      "text/plain": [
       "        o_state_name o_state_abbr o_long_name o_region_name o_division_name\n",
       "count             50           50          50            50              50\n",
       "unique            50           50          50             4               9\n",
       "top     Pennsylvania           SD   Kansas KS         South  South Atlantic\n",
       "freq               1            1           1            16               8"
      ]
     },
     "execution_count": 26,
     "metadata": {},
     "output_type": "execute_result"
    }
   ],
   "source": [
    "# display text data summary statistics\n",
    "state_fips_df.describe(include=['O'])"
   ]
  },
  {
   "cell_type": "markdown",
   "metadata": {},
   "source": [
    "#### State FIPS codes and names"
   ]
  },
  {
   "cell_type": "markdown",
   "metadata": {},
   "source": [
    "Our dataset tracking state and county FIPS codes has 3,146 rows and 13 columns. "
   ]
  },
  {
   "cell_type": "code",
   "execution_count": 27,
   "metadata": {},
   "outputs": [
    {
     "data": {
      "text/plain": [
       "(3146, 13)"
      ]
     },
     "execution_count": 27,
     "metadata": {},
     "output_type": "execute_result"
    }
   ],
   "source": [
    "# display rows & columns\n",
    "fips_df.shape"
   ]
  },
  {
   "cell_type": "markdown",
   "metadata": {},
   "source": [
    "We have:\n",
    "\n",
    "* 6 string columns tracking the county and state name, abbreviation, region, and division\n",
    "* 1 integer column tracking fips codes \n",
    "* 4 float columns tracking identifiers we can use to match to the county file (these need to be converted to integers)\n",
    "* 1 string column that stores an additional format of the integer columns that can be used for matching\n"
   ]
  },
  {
   "cell_type": "code",
   "execution_count": 28,
   "metadata": {},
   "outputs": [
    {
     "data": {
      "text/plain": [
       "o_fips               int64\n",
       "o_county_name       object\n",
       "o_state_abbr        object\n",
       "o_state_name        object\n",
       "o_long_name         object\n",
       "o_sumlev           float64\n",
       "o_region           float64\n",
       "o_division         float64\n",
       "o_state            float64\n",
       "o_county           float64\n",
       "o_crosswalk         object\n",
       "o_region_name       object\n",
       "o_division_name     object\n",
       "dtype: object"
      ]
     },
     "execution_count": 28,
     "metadata": {},
     "output_type": "execute_result"
    }
   ],
   "source": [
    "# show data types\n",
    "fips_df.dtypes"
   ]
  },
  {
   "cell_type": "markdown",
   "metadata": {},
   "source": [
    "Since FIPS codes are stored as integers, we can see that we lose the leading zeros. This is something to be careful with when it comes to matching. These are already split into state and county FIPS codes in the o_state and o_county columns. We could add the county name and FIPS codes to the merged file with COVID-19 and state data. The match would not be perfect given the issues we saw in the COVID-19 data. "
   ]
  },
  {
   "cell_type": "code",
   "execution_count": 29,
   "metadata": {},
   "outputs": [
    {
     "data": {
      "text/html": [
       "<div>\n",
       "<style scoped>\n",
       "    .dataframe tbody tr th:only-of-type {\n",
       "        vertical-align: middle;\n",
       "    }\n",
       "\n",
       "    .dataframe tbody tr th {\n",
       "        vertical-align: top;\n",
       "    }\n",
       "\n",
       "    .dataframe thead th {\n",
       "        text-align: right;\n",
       "    }\n",
       "</style>\n",
       "<table border=\"1\" class=\"dataframe\">\n",
       "  <thead>\n",
       "    <tr style=\"text-align: right;\">\n",
       "      <th></th>\n",
       "      <th>o_fips</th>\n",
       "      <th>o_county_name</th>\n",
       "      <th>o_state_abbr</th>\n",
       "      <th>o_state_name</th>\n",
       "      <th>o_long_name</th>\n",
       "      <th>o_sumlev</th>\n",
       "      <th>o_region</th>\n",
       "      <th>o_division</th>\n",
       "      <th>o_state</th>\n",
       "      <th>o_county</th>\n",
       "      <th>o_crosswalk</th>\n",
       "      <th>o_region_name</th>\n",
       "      <th>o_division_name</th>\n",
       "    </tr>\n",
       "  </thead>\n",
       "  <tbody>\n",
       "    <tr>\n",
       "      <td>0</td>\n",
       "      <td>1001</td>\n",
       "      <td>Autauga County</td>\n",
       "      <td>AL</td>\n",
       "      <td>Alabama</td>\n",
       "      <td>Autauga County AL</td>\n",
       "      <td>50.0</td>\n",
       "      <td>3.0</td>\n",
       "      <td>6.0</td>\n",
       "      <td>1.0</td>\n",
       "      <td>1.0</td>\n",
       "      <td>3-6-1-1</td>\n",
       "      <td>South</td>\n",
       "      <td>East South Central</td>\n",
       "    </tr>\n",
       "    <tr>\n",
       "      <td>1</td>\n",
       "      <td>1003</td>\n",
       "      <td>Baldwin County</td>\n",
       "      <td>AL</td>\n",
       "      <td>Alabama</td>\n",
       "      <td>Baldwin County AL</td>\n",
       "      <td>50.0</td>\n",
       "      <td>3.0</td>\n",
       "      <td>6.0</td>\n",
       "      <td>1.0</td>\n",
       "      <td>3.0</td>\n",
       "      <td>3-6-1-3</td>\n",
       "      <td>South</td>\n",
       "      <td>East South Central</td>\n",
       "    </tr>\n",
       "    <tr>\n",
       "      <td>2</td>\n",
       "      <td>1005</td>\n",
       "      <td>Barbour County</td>\n",
       "      <td>AL</td>\n",
       "      <td>Alabama</td>\n",
       "      <td>Barbour County AL</td>\n",
       "      <td>50.0</td>\n",
       "      <td>3.0</td>\n",
       "      <td>6.0</td>\n",
       "      <td>1.0</td>\n",
       "      <td>5.0</td>\n",
       "      <td>3-6-1-5</td>\n",
       "      <td>South</td>\n",
       "      <td>East South Central</td>\n",
       "    </tr>\n",
       "    <tr>\n",
       "      <td>3</td>\n",
       "      <td>1007</td>\n",
       "      <td>Bibb County</td>\n",
       "      <td>AL</td>\n",
       "      <td>Alabama</td>\n",
       "      <td>Bibb County AL</td>\n",
       "      <td>50.0</td>\n",
       "      <td>3.0</td>\n",
       "      <td>6.0</td>\n",
       "      <td>1.0</td>\n",
       "      <td>7.0</td>\n",
       "      <td>3-6-1-7</td>\n",
       "      <td>South</td>\n",
       "      <td>East South Central</td>\n",
       "    </tr>\n",
       "    <tr>\n",
       "      <td>4</td>\n",
       "      <td>1009</td>\n",
       "      <td>Blount County</td>\n",
       "      <td>AL</td>\n",
       "      <td>Alabama</td>\n",
       "      <td>Blount County AL</td>\n",
       "      <td>50.0</td>\n",
       "      <td>3.0</td>\n",
       "      <td>6.0</td>\n",
       "      <td>1.0</td>\n",
       "      <td>9.0</td>\n",
       "      <td>3-6-1-9</td>\n",
       "      <td>South</td>\n",
       "      <td>East South Central</td>\n",
       "    </tr>\n",
       "  </tbody>\n",
       "</table>\n",
       "</div>"
      ],
      "text/plain": [
       "   o_fips   o_county_name o_state_abbr o_state_name        o_long_name  \\\n",
       "0    1001  Autauga County           AL      Alabama  Autauga County AL   \n",
       "1    1003  Baldwin County           AL      Alabama  Baldwin County AL   \n",
       "2    1005  Barbour County           AL      Alabama  Barbour County AL   \n",
       "3    1007     Bibb County           AL      Alabama     Bibb County AL   \n",
       "4    1009   Blount County           AL      Alabama   Blount County AL   \n",
       "\n",
       "   o_sumlev  o_region  o_division  o_state  o_county o_crosswalk  \\\n",
       "0      50.0       3.0         6.0      1.0       1.0     3-6-1-1   \n",
       "1      50.0       3.0         6.0      1.0       3.0     3-6-1-3   \n",
       "2      50.0       3.0         6.0      1.0       5.0     3-6-1-5   \n",
       "3      50.0       3.0         6.0      1.0       7.0     3-6-1-7   \n",
       "4      50.0       3.0         6.0      1.0       9.0     3-6-1-9   \n",
       "\n",
       "  o_region_name     o_division_name  \n",
       "0         South  East South Central  \n",
       "1         South  East South Central  \n",
       "2         South  East South Central  \n",
       "3         South  East South Central  \n",
       "4         South  East South Central  "
      ]
     },
     "execution_count": 29,
     "metadata": {},
     "output_type": "execute_result"
    }
   ],
   "source": [
    "# visual inspection\n",
    "fips_df.head()"
   ]
  },
  {
   "cell_type": "code",
   "execution_count": 30,
   "metadata": {},
   "outputs": [],
   "source": [
    "# convert floats to integers\n",
    "fips_df[\"state_fips\"] = fips_df[\"o_state\"].astype('category')\n",
    "fips_df[\"county_fips\"] = fips_df[\"o_county\"].astype('category')\n",
    "fips_df[\"region\"] = fips_df[\"o_region\"].astype('category')\n",
    "fips_df[\"division\"] = fips_df[\"o_division\"].astype('category')"
   ]
  },
  {
   "cell_type": "markdown",
   "metadata": {},
   "source": [
    "State FIPS codes range from 1-56, as expected. The county FIPS codes range from 0-840. Region IDs range from 1-4 and division names from 1-9, as expected. The o_sumlev column is not a constant - it seems to take the value of either 40 or 50 (but that 40 is rare). "
   ]
  },
  {
   "cell_type": "code",
   "execution_count": 31,
   "metadata": {},
   "outputs": [
    {
     "data": {
      "text/html": [
       "<div>\n",
       "<style scoped>\n",
       "    .dataframe tbody tr th:only-of-type {\n",
       "        vertical-align: middle;\n",
       "    }\n",
       "\n",
       "    .dataframe tbody tr th {\n",
       "        vertical-align: top;\n",
       "    }\n",
       "\n",
       "    .dataframe thead th {\n",
       "        text-align: right;\n",
       "    }\n",
       "</style>\n",
       "<table border=\"1\" class=\"dataframe\">\n",
       "  <thead>\n",
       "    <tr style=\"text-align: right;\">\n",
       "      <th></th>\n",
       "      <th>o_fips</th>\n",
       "      <th>o_sumlev</th>\n",
       "      <th>o_region</th>\n",
       "      <th>o_division</th>\n",
       "      <th>o_state</th>\n",
       "      <th>o_county</th>\n",
       "    </tr>\n",
       "  </thead>\n",
       "  <tbody>\n",
       "    <tr>\n",
       "      <td>count</td>\n",
       "      <td>3146.000000</td>\n",
       "      <td>3143.000000</td>\n",
       "      <td>3143.000000</td>\n",
       "      <td>3143.000000</td>\n",
       "      <td>3143.000000</td>\n",
       "      <td>3143.000000</td>\n",
       "    </tr>\n",
       "    <tr>\n",
       "      <td>mean</td>\n",
       "      <td>30380.268595</td>\n",
       "      <td>49.996818</td>\n",
       "      <td>2.668788</td>\n",
       "      <td>5.192491</td>\n",
       "      <td>30.273942</td>\n",
       "      <td>103.539930</td>\n",
       "    </tr>\n",
       "    <tr>\n",
       "      <td>std</td>\n",
       "      <td>15172.365155</td>\n",
       "      <td>0.178372</td>\n",
       "      <td>0.803043</td>\n",
       "      <td>1.963750</td>\n",
       "      <td>15.145834</td>\n",
       "      <td>107.702765</td>\n",
       "    </tr>\n",
       "    <tr>\n",
       "      <td>min</td>\n",
       "      <td>1001.000000</td>\n",
       "      <td>40.000000</td>\n",
       "      <td>1.000000</td>\n",
       "      <td>1.000000</td>\n",
       "      <td>1.000000</td>\n",
       "      <td>0.000000</td>\n",
       "    </tr>\n",
       "    <tr>\n",
       "      <td>25%</td>\n",
       "      <td>18175.500000</td>\n",
       "      <td>50.000000</td>\n",
       "      <td>2.000000</td>\n",
       "      <td>4.000000</td>\n",
       "      <td>18.000000</td>\n",
       "      <td>35.000000</td>\n",
       "    </tr>\n",
       "    <tr>\n",
       "      <td>50%</td>\n",
       "      <td>29176.000000</td>\n",
       "      <td>50.000000</td>\n",
       "      <td>3.000000</td>\n",
       "      <td>5.000000</td>\n",
       "      <td>29.000000</td>\n",
       "      <td>79.000000</td>\n",
       "    </tr>\n",
       "    <tr>\n",
       "      <td>75%</td>\n",
       "      <td>45082.500000</td>\n",
       "      <td>50.000000</td>\n",
       "      <td>3.000000</td>\n",
       "      <td>7.000000</td>\n",
       "      <td>45.000000</td>\n",
       "      <td>133.000000</td>\n",
       "    </tr>\n",
       "    <tr>\n",
       "      <td>max</td>\n",
       "      <td>56045.000000</td>\n",
       "      <td>50.000000</td>\n",
       "      <td>4.000000</td>\n",
       "      <td>9.000000</td>\n",
       "      <td>56.000000</td>\n",
       "      <td>840.000000</td>\n",
       "    </tr>\n",
       "  </tbody>\n",
       "</table>\n",
       "</div>"
      ],
      "text/plain": [
       "             o_fips     o_sumlev     o_region   o_division      o_state  \\\n",
       "count   3146.000000  3143.000000  3143.000000  3143.000000  3143.000000   \n",
       "mean   30380.268595    49.996818     2.668788     5.192491    30.273942   \n",
       "std    15172.365155     0.178372     0.803043     1.963750    15.145834   \n",
       "min     1001.000000    40.000000     1.000000     1.000000     1.000000   \n",
       "25%    18175.500000    50.000000     2.000000     4.000000    18.000000   \n",
       "50%    29176.000000    50.000000     3.000000     5.000000    29.000000   \n",
       "75%    45082.500000    50.000000     3.000000     7.000000    45.000000   \n",
       "max    56045.000000    50.000000     4.000000     9.000000    56.000000   \n",
       "\n",
       "          o_county  \n",
       "count  3143.000000  \n",
       "mean    103.539930  \n",
       "std     107.702765  \n",
       "min       0.000000  \n",
       "25%      35.000000  \n",
       "50%      79.000000  \n",
       "75%     133.000000  \n",
       "max     840.000000  "
      ]
     },
     "execution_count": 31,
     "metadata": {},
     "output_type": "execute_result"
    }
   ],
   "source": [
    "# display numerical data summary statistics\n",
    "fips_df.describe()"
   ]
  },
  {
   "cell_type": "markdown",
   "metadata": {},
   "source": [
    "We can see that we have 51 states - 1 more than expected. These are divided into 4 regions and 9 divisions."
   ]
  },
  {
   "cell_type": "code",
   "execution_count": 32,
   "metadata": {
    "scrolled": true
   },
   "outputs": [
    {
     "data": {
      "text/html": [
       "<div>\n",
       "<style scoped>\n",
       "    .dataframe tbody tr th:only-of-type {\n",
       "        vertical-align: middle;\n",
       "    }\n",
       "\n",
       "    .dataframe tbody tr th {\n",
       "        vertical-align: top;\n",
       "    }\n",
       "\n",
       "    .dataframe thead th {\n",
       "        text-align: right;\n",
       "    }\n",
       "</style>\n",
       "<table border=\"1\" class=\"dataframe\">\n",
       "  <thead>\n",
       "    <tr style=\"text-align: right;\">\n",
       "      <th></th>\n",
       "      <th>o_county_name</th>\n",
       "      <th>o_state_abbr</th>\n",
       "      <th>o_state_name</th>\n",
       "      <th>o_long_name</th>\n",
       "      <th>o_crosswalk</th>\n",
       "      <th>o_region_name</th>\n",
       "      <th>o_division_name</th>\n",
       "    </tr>\n",
       "  </thead>\n",
       "  <tbody>\n",
       "    <tr>\n",
       "      <td>count</td>\n",
       "      <td>3146</td>\n",
       "      <td>3146</td>\n",
       "      <td>3146</td>\n",
       "      <td>3146</td>\n",
       "      <td>3146</td>\n",
       "      <td>3143</td>\n",
       "      <td>3143</td>\n",
       "    </tr>\n",
       "    <tr>\n",
       "      <td>unique</td>\n",
       "      <td>1879</td>\n",
       "      <td>51</td>\n",
       "      <td>51</td>\n",
       "      <td>3145</td>\n",
       "      <td>3144</td>\n",
       "      <td>4</td>\n",
       "      <td>9</td>\n",
       "    </tr>\n",
       "    <tr>\n",
       "      <td>top</td>\n",
       "      <td>Washington County</td>\n",
       "      <td>TX</td>\n",
       "      <td>Texas</td>\n",
       "      <td>District of Columbia DC</td>\n",
       "      <td>NA-NA-NA-NA</td>\n",
       "      <td>South</td>\n",
       "      <td>West North Central</td>\n",
       "    </tr>\n",
       "    <tr>\n",
       "      <td>freq</td>\n",
       "      <td>30</td>\n",
       "      <td>254</td>\n",
       "      <td>254</td>\n",
       "      <td>2</td>\n",
       "      <td>3</td>\n",
       "      <td>1423</td>\n",
       "      <td>618</td>\n",
       "    </tr>\n",
       "  </tbody>\n",
       "</table>\n",
       "</div>"
      ],
      "text/plain": [
       "            o_county_name o_state_abbr o_state_name              o_long_name  \\\n",
       "count                3146         3146         3146                     3146   \n",
       "unique               1879           51           51                     3145   \n",
       "top     Washington County           TX        Texas  District of Columbia DC   \n",
       "freq                   30          254          254                        2   \n",
       "\n",
       "        o_crosswalk o_region_name     o_division_name  \n",
       "count          3146          3143                3143  \n",
       "unique         3144             4                   9  \n",
       "top     NA-NA-NA-NA         South  West North Central  \n",
       "freq              3          1423                 618  "
      ]
     },
     "execution_count": 32,
     "metadata": {},
     "output_type": "execute_result"
    }
   ],
   "source": [
    "# display text data summary statistics\n",
    "fips_df.describe(include=['O'])"
   ]
  },
  {
   "cell_type": "code",
   "execution_count": 33,
   "metadata": {},
   "outputs": [
    {
     "data": {
      "text/html": [
       "<div>\n",
       "<style scoped>\n",
       "    .dataframe tbody tr th:only-of-type {\n",
       "        vertical-align: middle;\n",
       "    }\n",
       "\n",
       "    .dataframe tbody tr th {\n",
       "        vertical-align: top;\n",
       "    }\n",
       "\n",
       "    .dataframe thead th {\n",
       "        text-align: right;\n",
       "    }\n",
       "</style>\n",
       "<table border=\"1\" class=\"dataframe\">\n",
       "  <thead>\n",
       "    <tr style=\"text-align: right;\">\n",
       "      <th></th>\n",
       "      <th>state_fips</th>\n",
       "      <th>county_fips</th>\n",
       "      <th>region</th>\n",
       "      <th>division</th>\n",
       "    </tr>\n",
       "  </thead>\n",
       "  <tbody>\n",
       "    <tr>\n",
       "      <td>count</td>\n",
       "      <td>3143.0</td>\n",
       "      <td>3143.0</td>\n",
       "      <td>3143.0</td>\n",
       "      <td>3143.0</td>\n",
       "    </tr>\n",
       "    <tr>\n",
       "      <td>unique</td>\n",
       "      <td>51.0</td>\n",
       "      <td>325.0</td>\n",
       "      <td>4.0</td>\n",
       "      <td>9.0</td>\n",
       "    </tr>\n",
       "    <tr>\n",
       "      <td>top</td>\n",
       "      <td>48.0</td>\n",
       "      <td>1.0</td>\n",
       "      <td>3.0</td>\n",
       "      <td>4.0</td>\n",
       "    </tr>\n",
       "    <tr>\n",
       "      <td>freq</td>\n",
       "      <td>254.0</td>\n",
       "      <td>49.0</td>\n",
       "      <td>1423.0</td>\n",
       "      <td>618.0</td>\n",
       "    </tr>\n",
       "  </tbody>\n",
       "</table>\n",
       "</div>"
      ],
      "text/plain": [
       "        state_fips  county_fips  region  division\n",
       "count       3143.0       3143.0  3143.0    3143.0\n",
       "unique        51.0        325.0     4.0       9.0\n",
       "top           48.0          1.0     3.0       4.0\n",
       "freq         254.0         49.0  1423.0     618.0"
      ]
     },
     "execution_count": 33,
     "metadata": {},
     "output_type": "execute_result"
    }
   ],
   "source": [
    "# display categorical data summary statistics\n",
    "fips_df.describe(include=['category'])"
   ]
  },
  {
   "cell_type": "markdown",
   "metadata": {},
   "source": [
    "The 1 extra state in the county dataset is Washington, D.C. "
   ]
  },
  {
   "cell_type": "code",
   "execution_count": 34,
   "metadata": {},
   "outputs": [
    {
     "data": {
      "text/plain": [
       "array(['Alabama', 'Alaska', 'Arizona', 'Arkansas', 'California',\n",
       "       'Colorado', 'Connecticut', 'Delaware', 'District of Columbia',\n",
       "       'Florida', 'Georgia', 'Hawaii', 'Idaho', 'Illinois', 'Indiana',\n",
       "       'Iowa', 'Kansas', 'Kentucky', 'Louisiana', 'Maine', 'Maryland',\n",
       "       'Massachusetts', 'Michigan', 'Minnesota', 'Mississippi',\n",
       "       'Missouri', 'Montana', 'Nebraska', 'Nevada', 'New Hampshire',\n",
       "       'New Jersey', 'New Mexico', 'New York', 'North Carolina',\n",
       "       'North Dakota', 'Ohio', 'Oklahoma', 'Oregon', 'Pennsylvania',\n",
       "       'Rhode Island', 'South Carolina', 'South Dakota', 'Tennessee',\n",
       "       'Texas', 'Utah', 'Vermont', 'Virginia', 'Washington',\n",
       "       'West Virginia', 'Wisconsin', 'Wyoming'], dtype=object)"
      ]
     },
     "execution_count": 34,
     "metadata": {},
     "output_type": "execute_result"
    }
   ],
   "source": [
    "fips_df[\"o_state_name\"].unique()"
   ]
  },
  {
   "cell_type": "markdown",
   "metadata": {},
   "source": [
    "The additional state FIPS is for Washington, D.C. "
   ]
  },
  {
   "cell_type": "code",
   "execution_count": 35,
   "metadata": {},
   "outputs": [
    {
     "data": {
      "text/plain": [
       "array(['Alabama', 'Alaska', 'Arizona', 'Arkansas', 'California',\n",
       "       'Colorado', 'Connecticut', 'Delaware', 'Florida', 'Georgia',\n",
       "       'Hawaii', 'Idaho', 'Illinois', 'Indiana', 'Iowa', 'Kansas',\n",
       "       'Kentucky', 'Louisiana', 'Maine', 'Maryland', 'Massachusetts',\n",
       "       'Michigan', 'Minnesota', 'Mississippi', 'Missouri', 'Montana',\n",
       "       'Nebraska', 'Nevada', 'New Hampshire', 'New Jersey', 'New Mexico',\n",
       "       'New York', 'North Carolina', 'North Dakota', 'Ohio', 'Oklahoma',\n",
       "       'Oregon', 'Pennsylvania', 'Rhode Island', 'South Carolina',\n",
       "       'South Dakota', 'Tennessee', 'Texas', 'Utah', 'Vermont',\n",
       "       'Virginia', 'Washington', 'West Virginia', 'Wisconsin', 'Wyoming'],\n",
       "      dtype=object)"
      ]
     },
     "execution_count": 35,
     "metadata": {},
     "output_type": "execute_result"
    }
   ],
   "source": [
    "state_fips_df[\"o_state_name\"].unique()"
   ]
  },
  {
   "cell_type": "markdown",
   "metadata": {},
   "source": [
    "Washington, D.C. also accounts for the discrepancy in the o_sumlev column. "
   ]
  },
  {
   "cell_type": "code",
   "execution_count": 69,
   "metadata": {},
   "outputs": [
    {
     "data": {
      "text/plain": [
       "320    District of Columbia\n",
       "Name: o_state_name, dtype: object"
      ]
     },
     "execution_count": 69,
     "metadata": {},
     "output_type": "execute_result"
    }
   ],
   "source": [
    "fips_df[\"o_state_name\"][fips_df[\"o_sumlev\"] == 40]"
   ]
  },
  {
   "cell_type": "code",
   "execution_count": null,
   "metadata": {},
   "outputs": [],
   "source": []
  }
 ],
 "metadata": {
  "kernelspec": {
   "display_name": "Python 3",
   "language": "python",
   "name": "python3"
  },
  "language_info": {
   "codemirror_mode": {
    "name": "ipython",
    "version": 3
   },
   "file_extension": ".py",
   "mimetype": "text/x-python",
   "name": "python",
   "nbconvert_exporter": "python",
   "pygments_lexer": "ipython3",
   "version": "3.7.4"
  }
 },
 "nbformat": 4,
 "nbformat_minor": 2
}
