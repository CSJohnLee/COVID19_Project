{
 "cells": [
  {
   "cell_type": "markdown",
   "metadata": {},
   "source": [
    "# COVID-19 MIDS Collaboration \n",
    "\n",
    "## Data Import: COVID-19 Data\n",
    "\n",
    "This Jupyter Notebook reads in raw data as csv files and exports them as [pickle files for faster loading](https://medium.com/better-programming/load-fast-load-big-with-compressed-pickles-5f311584507e). "
   ]
  },
  {
   "cell_type": "markdown",
   "metadata": {},
   "source": [
    "### Data sources\n",
    "\n",
    "COVID-19 data: "
   ]
  },
  {
   "cell_type": "markdown",
   "metadata": {},
   "source": [
    "### Set up environment "
   ]
  },
  {
   "cell_type": "code",
   "execution_count": 1,
   "metadata": {},
   "outputs": [],
   "source": [
    "# Import packages\n",
    "import pandas as pd # to read in csv\n",
    "import numpy as np # to process data\n",
    "import pickle # to pickle files\n"
   ]
  },
  {
   "cell_type": "markdown",
   "metadata": {},
   "source": [
    "Here, we import our dataset into a pandas dataframe and add a \"o_\" prefix to all columsn to demarcate which columns were the originals. "
   ]
  },
  {
   "cell_type": "code",
   "execution_count": 2,
   "metadata": {},
   "outputs": [],
   "source": [
    "#Read in data & add \"o_\" prefix to demarcate which columns were the originals \n",
    "# covid cases data\n",
    "covid_df = pd.read_csv(\"../Data_raw/us-counties.csv\").add_prefix('o_') \n"
   ]
  },
  {
   "cell_type": "markdown",
   "metadata": {},
   "source": [
    "### Inspect data"
   ]
  },
  {
   "cell_type": "markdown",
   "metadata": {},
   "source": [
    "#### Count records"
   ]
  },
  {
   "cell_type": "markdown",
   "metadata": {},
   "source": [
    "Our dataset tracking COVID-19 cases and deaths by county has 61,971 rows and 6 columns. "
   ]
  },
  {
   "cell_type": "code",
   "execution_count": 3,
   "metadata": {},
   "outputs": [
    {
     "data": {
      "text/plain": [
       "(61971, 6)"
      ]
     },
     "execution_count": 3,
     "metadata": {},
     "output_type": "execute_result"
    }
   ],
   "source": [
    "# count rows and columns\n",
    "covid_df.shape"
   ]
  },
  {
   "cell_type": "markdown",
   "metadata": {},
   "source": [
    "#### Check and convert datatypes"
   ]
  },
  {
   "cell_type": "markdown",
   "metadata": {},
   "source": [
    "We have:\n",
    "\n",
    "* one string column tracking the date (which needs to be converted to a date object)\n",
    "* 3 float columns tracking location \n",
    "    * county and state are correctly stored as strings\n",
    "    * fips is a float and should be converted to a category - it should also be split into county and state codes \n",
    "* 2 integer columns tracking COVID-19 cases and deaths"
   ]
  },
  {
   "cell_type": "code",
   "execution_count": 4,
   "metadata": {},
   "outputs": [
    {
     "data": {
      "text/plain": [
       "o_date       object\n",
       "o_county     object\n",
       "o_state      object\n",
       "o_fips      float64\n",
       "o_cases       int64\n",
       "o_deaths      int64\n",
       "dtype: object"
      ]
     },
     "execution_count": 4,
     "metadata": {},
     "output_type": "execute_result"
    }
   ],
   "source": [
    "# check data types \n",
    "covid_df.dtypes"
   ]
  },
  {
   "cell_type": "code",
   "execution_count": 5,
   "metadata": {},
   "outputs": [
    {
     "data": {
      "text/html": [
       "<div>\n",
       "<style scoped>\n",
       "    .dataframe tbody tr th:only-of-type {\n",
       "        vertical-align: middle;\n",
       "    }\n",
       "\n",
       "    .dataframe tbody tr th {\n",
       "        vertical-align: top;\n",
       "    }\n",
       "\n",
       "    .dataframe thead th {\n",
       "        text-align: right;\n",
       "    }\n",
       "</style>\n",
       "<table border=\"1\" class=\"dataframe\">\n",
       "  <thead>\n",
       "    <tr style=\"text-align: right;\">\n",
       "      <th></th>\n",
       "      <th>o_date</th>\n",
       "      <th>o_county</th>\n",
       "      <th>o_state</th>\n",
       "      <th>o_fips</th>\n",
       "      <th>o_cases</th>\n",
       "      <th>o_deaths</th>\n",
       "    </tr>\n",
       "  </thead>\n",
       "  <tbody>\n",
       "    <tr>\n",
       "      <td>0</td>\n",
       "      <td>2020-01-21</td>\n",
       "      <td>Snohomish</td>\n",
       "      <td>Washington</td>\n",
       "      <td>53061.0</td>\n",
       "      <td>1</td>\n",
       "      <td>0</td>\n",
       "    </tr>\n",
       "    <tr>\n",
       "      <td>1</td>\n",
       "      <td>2020-01-22</td>\n",
       "      <td>Snohomish</td>\n",
       "      <td>Washington</td>\n",
       "      <td>53061.0</td>\n",
       "      <td>1</td>\n",
       "      <td>0</td>\n",
       "    </tr>\n",
       "    <tr>\n",
       "      <td>2</td>\n",
       "      <td>2020-01-23</td>\n",
       "      <td>Snohomish</td>\n",
       "      <td>Washington</td>\n",
       "      <td>53061.0</td>\n",
       "      <td>1</td>\n",
       "      <td>0</td>\n",
       "    </tr>\n",
       "    <tr>\n",
       "      <td>3</td>\n",
       "      <td>2020-01-24</td>\n",
       "      <td>Cook</td>\n",
       "      <td>Illinois</td>\n",
       "      <td>17031.0</td>\n",
       "      <td>1</td>\n",
       "      <td>0</td>\n",
       "    </tr>\n",
       "    <tr>\n",
       "      <td>4</td>\n",
       "      <td>2020-01-24</td>\n",
       "      <td>Snohomish</td>\n",
       "      <td>Washington</td>\n",
       "      <td>53061.0</td>\n",
       "      <td>1</td>\n",
       "      <td>0</td>\n",
       "    </tr>\n",
       "  </tbody>\n",
       "</table>\n",
       "</div>"
      ],
      "text/plain": [
       "       o_date   o_county     o_state   o_fips  o_cases  o_deaths\n",
       "0  2020-01-21  Snohomish  Washington  53061.0        1         0\n",
       "1  2020-01-22  Snohomish  Washington  53061.0        1         0\n",
       "2  2020-01-23  Snohomish  Washington  53061.0        1         0\n",
       "3  2020-01-24       Cook    Illinois  17031.0        1         0\n",
       "4  2020-01-24  Snohomish  Washington  53061.0        1         0"
      ]
     },
     "execution_count": 5,
     "metadata": {},
     "output_type": "execute_result"
    }
   ],
   "source": [
    "covid_df.head()"
   ]
  },
  {
   "cell_type": "code",
   "execution_count": 6,
   "metadata": {},
   "outputs": [
    {
     "data": {
      "text/plain": [
       "o_date              object\n",
       "o_county            object\n",
       "o_state             object\n",
       "o_fips             float64\n",
       "o_cases              int64\n",
       "o_deaths             int64\n",
       "date        datetime64[ns]\n",
       "dtype: object"
      ]
     },
     "execution_count": 6,
     "metadata": {},
     "output_type": "execute_result"
    }
   ],
   "source": [
    "# create new version of column as a datetime object\n",
    "covid_df[\"date\"] = pd.to_datetime(covid_df[\"o_date\"])\n",
    "# check conversion \n",
    "covid_df.dtypes"
   ]
  },
  {
   "cell_type": "code",
   "execution_count": 7,
   "metadata": {},
   "outputs": [
    {
     "data": {
      "text/plain": [
       "o_date              object\n",
       "o_county            object\n",
       "o_state             object\n",
       "o_fips             float64\n",
       "o_cases              int64\n",
       "o_deaths             int64\n",
       "date        datetime64[ns]\n",
       "fips              category\n",
       "fips_str            object\n",
       "dtype: object"
      ]
     },
     "execution_count": 7,
     "metadata": {},
     "output_type": "execute_result"
    }
   ],
   "source": [
    "# create new version of fips column as nullable integer\n",
    "covid_df[\"fips\"] = covid_df[\"o_fips\"].astype('category')\n",
    "# create new version of fips column as string \n",
    "covid_df[\"fips_str\"] = covid_df[\"o_fips\"].astype('Int64').astype('str')\n",
    "# check conversion \n",
    "covid_df.dtypes"
   ]
  },
  {
   "cell_type": "code",
   "execution_count": 8,
   "metadata": {},
   "outputs": [
    {
     "data": {
      "text/plain": [
       "0    53\n",
       "1    53\n",
       "2    53\n",
       "3    17\n",
       "4    53\n",
       "Name: state_fips, dtype: category\n",
       "Categories (52, object): [, 1, 10, 11, ..., 56, 6, 8, 9]"
      ]
     },
     "execution_count": 8,
     "metadata": {},
     "output_type": "execute_result"
    }
   ],
   "source": [
    "# extract state FIPS and convert to category \n",
    "covid_df[\"state_fips\"] = covid_df[\"fips_str\"].apply(lambda x: x[:-3]).astype('category')\n",
    "covid_df[\"state_fips\"].head()"
   ]
  },
  {
   "cell_type": "code",
   "execution_count": 9,
   "metadata": {},
   "outputs": [
    {
     "data": {
      "text/plain": [
       "0    061\n",
       "1    061\n",
       "2    061\n",
       "3    031\n",
       "4    061\n",
       "Name: county_fips, dtype: category\n",
       "Categories (284, object): [001, 003, 005, 006, ..., 820, 830, 840, nan]"
      ]
     },
     "execution_count": 9,
     "metadata": {},
     "output_type": "execute_result"
    }
   ],
   "source": [
    "# extract county FIPS and convert to category \n",
    "covid_df[\"county_fips\"] = covid_df[\"fips_str\"].apply(lambda x: x[-3:]).astype('category')\n",
    "covid_df[\"county_fips\"].head()"
   ]
  },
  {
   "cell_type": "code",
   "execution_count": 10,
   "metadata": {},
   "outputs": [
    {
     "data": {
      "text/html": [
       "<div>\n",
       "<style scoped>\n",
       "    .dataframe tbody tr th:only-of-type {\n",
       "        vertical-align: middle;\n",
       "    }\n",
       "\n",
       "    .dataframe tbody tr th {\n",
       "        vertical-align: top;\n",
       "    }\n",
       "\n",
       "    .dataframe thead th {\n",
       "        text-align: right;\n",
       "    }\n",
       "</style>\n",
       "<table border=\"1\" class=\"dataframe\">\n",
       "  <thead>\n",
       "    <tr style=\"text-align: right;\">\n",
       "      <th></th>\n",
       "      <th>o_date</th>\n",
       "      <th>o_county</th>\n",
       "      <th>o_state</th>\n",
       "      <th>o_fips</th>\n",
       "      <th>o_cases</th>\n",
       "      <th>o_deaths</th>\n",
       "      <th>date</th>\n",
       "      <th>fips</th>\n",
       "      <th>fips_str</th>\n",
       "      <th>state_fips</th>\n",
       "      <th>county_fips</th>\n",
       "    </tr>\n",
       "  </thead>\n",
       "  <tbody>\n",
       "    <tr>\n",
       "      <td>0</td>\n",
       "      <td>2020-01-21</td>\n",
       "      <td>Snohomish</td>\n",
       "      <td>Washington</td>\n",
       "      <td>53061.0</td>\n",
       "      <td>1</td>\n",
       "      <td>0</td>\n",
       "      <td>2020-01-21</td>\n",
       "      <td>53061.0</td>\n",
       "      <td>53061</td>\n",
       "      <td>53</td>\n",
       "      <td>061</td>\n",
       "    </tr>\n",
       "    <tr>\n",
       "      <td>1</td>\n",
       "      <td>2020-01-22</td>\n",
       "      <td>Snohomish</td>\n",
       "      <td>Washington</td>\n",
       "      <td>53061.0</td>\n",
       "      <td>1</td>\n",
       "      <td>0</td>\n",
       "      <td>2020-01-22</td>\n",
       "      <td>53061.0</td>\n",
       "      <td>53061</td>\n",
       "      <td>53</td>\n",
       "      <td>061</td>\n",
       "    </tr>\n",
       "    <tr>\n",
       "      <td>2</td>\n",
       "      <td>2020-01-23</td>\n",
       "      <td>Snohomish</td>\n",
       "      <td>Washington</td>\n",
       "      <td>53061.0</td>\n",
       "      <td>1</td>\n",
       "      <td>0</td>\n",
       "      <td>2020-01-23</td>\n",
       "      <td>53061.0</td>\n",
       "      <td>53061</td>\n",
       "      <td>53</td>\n",
       "      <td>061</td>\n",
       "    </tr>\n",
       "    <tr>\n",
       "      <td>3</td>\n",
       "      <td>2020-01-24</td>\n",
       "      <td>Cook</td>\n",
       "      <td>Illinois</td>\n",
       "      <td>17031.0</td>\n",
       "      <td>1</td>\n",
       "      <td>0</td>\n",
       "      <td>2020-01-24</td>\n",
       "      <td>17031.0</td>\n",
       "      <td>17031</td>\n",
       "      <td>17</td>\n",
       "      <td>031</td>\n",
       "    </tr>\n",
       "    <tr>\n",
       "      <td>4</td>\n",
       "      <td>2020-01-24</td>\n",
       "      <td>Snohomish</td>\n",
       "      <td>Washington</td>\n",
       "      <td>53061.0</td>\n",
       "      <td>1</td>\n",
       "      <td>0</td>\n",
       "      <td>2020-01-24</td>\n",
       "      <td>53061.0</td>\n",
       "      <td>53061</td>\n",
       "      <td>53</td>\n",
       "      <td>061</td>\n",
       "    </tr>\n",
       "  </tbody>\n",
       "</table>\n",
       "</div>"
      ],
      "text/plain": [
       "       o_date   o_county     o_state   o_fips  o_cases  o_deaths       date  \\\n",
       "0  2020-01-21  Snohomish  Washington  53061.0        1         0 2020-01-21   \n",
       "1  2020-01-22  Snohomish  Washington  53061.0        1         0 2020-01-22   \n",
       "2  2020-01-23  Snohomish  Washington  53061.0        1         0 2020-01-23   \n",
       "3  2020-01-24       Cook    Illinois  17031.0        1         0 2020-01-24   \n",
       "4  2020-01-24  Snohomish  Washington  53061.0        1         0 2020-01-24   \n",
       "\n",
       "      fips fips_str state_fips county_fips  \n",
       "0  53061.0    53061         53         061  \n",
       "1  53061.0    53061         53         061  \n",
       "2  53061.0    53061         53         061  \n",
       "3  17031.0    17031         17         031  \n",
       "4  53061.0    53061         53         061  "
      ]
     },
     "execution_count": 10,
     "metadata": {},
     "output_type": "execute_result"
    }
   ],
   "source": [
    "# visual check of column conversions - these worked \n",
    "covid_df.head()"
   ]
  },
  {
   "cell_type": "markdown",
   "metadata": {},
   "source": [
    "### Check missingness"
   ]
  },
  {
   "cell_type": "markdown",
   "metadata": {},
   "source": [
    "We have 807 missing FIPS codes, but no other missing data (at least that is coded as NaNs)."
   ]
  },
  {
   "cell_type": "code",
   "execution_count": 11,
   "metadata": {},
   "outputs": [
    {
     "data": {
      "text/plain": [
       "o_date           0\n",
       "o_county         0\n",
       "o_state          0\n",
       "o_fips         807\n",
       "o_cases          0\n",
       "o_deaths         0\n",
       "date             0\n",
       "fips           807\n",
       "fips_str         0\n",
       "state_fips       0\n",
       "county_fips      0\n",
       "dtype: int64"
      ]
     },
     "execution_count": 11,
     "metadata": {},
     "output_type": "execute_result"
    }
   ],
   "source": [
    "covid_df.isnull().sum(axis = 0)"
   ]
  },
  {
   "cell_type": "markdown",
   "metadata": {},
   "source": [
    "3 counties have missing FIPS codes."
   ]
  },
  {
   "cell_type": "code",
   "execution_count": 12,
   "metadata": {},
   "outputs": [
    {
     "data": {
      "text/plain": [
       "array(['New York City', 'Unknown', 'Kansas City'], dtype=object)"
      ]
     },
     "execution_count": 12,
     "metadata": {},
     "output_type": "execute_result"
    }
   ],
   "source": [
    "covid_df[\"o_county\"][covid_df[\"o_fips\"].isnull()].unique()"
   ]
  },
  {
   "cell_type": "markdown",
   "metadata": {},
   "source": [
    "New York City is comprised of 5 counties (1 for each of the 5 boroughs); these each have their own FIPS codes: New York County (Manhattan), Kings County (Brooklyn), Bronx County (The Bronx), Richmond County (Staten Island), and Queens County (Queens). "
   ]
  },
  {
   "cell_type": "code",
   "execution_count": 13,
   "metadata": {},
   "outputs": [
    {
     "data": {
      "text/plain": [
       "array(['New York'], dtype=object)"
      ]
     },
     "execution_count": 13,
     "metadata": {},
     "output_type": "execute_result"
    }
   ],
   "source": [
    "# show unique state for counties coded as \"Unknown\"\n",
    "covid_df[\"o_state\"][covid_df[\"o_county\"] == \"New York City\"].unique()"
   ]
  },
  {
   "cell_type": "code",
   "execution_count": 14,
   "metadata": {},
   "outputs": [
    {
     "data": {
      "text/plain": [
       "array([nan])"
      ]
     },
     "execution_count": 14,
     "metadata": {},
     "output_type": "execute_result"
    }
   ],
   "source": [
    "# show unique fips codes for counties coded as \"New York City\"\n",
    "covid_df[\"o_fips\"][covid_df[\"o_county\"] == \"New York City\"].unique()"
   ]
  },
  {
   "cell_type": "markdown",
   "metadata": {},
   "source": [
    "Kansas City, Missouri also straddles multiple counties which would explain why it does not have a FIPS code. "
   ]
  },
  {
   "cell_type": "code",
   "execution_count": 15,
   "metadata": {},
   "outputs": [
    {
     "data": {
      "text/plain": [
       "array(['Missouri'], dtype=object)"
      ]
     },
     "execution_count": 15,
     "metadata": {},
     "output_type": "execute_result"
    }
   ],
   "source": [
    "# show unique states for counties coded as \"Kansas City\"\n",
    "covid_df[\"o_state\"][covid_df[\"o_county\"] == \"Kansas City\"].unique()"
   ]
  },
  {
   "cell_type": "code",
   "execution_count": 16,
   "metadata": {},
   "outputs": [
    {
     "data": {
      "text/plain": [
       "array([nan])"
      ]
     },
     "execution_count": 16,
     "metadata": {},
     "output_type": "execute_result"
    }
   ],
   "source": [
    "# show unique fips codes for counties coded as \"Kansas City\"\n",
    "covid_df[\"o_fips\"][covid_df[\"o_county\"] == \"Kansas City\"].unique()"
   ]
  },
  {
   "cell_type": "markdown",
   "metadata": {},
   "source": [
    "Other rows are missing FIPS codes because they lack a county (it is marked as \"Unknown\"). Some would make sense - for example, Puerto Rico only has a state FIPS code. "
   ]
  },
  {
   "cell_type": "code",
   "execution_count": 17,
   "metadata": {},
   "outputs": [
    {
     "data": {
      "text/plain": [
       "array(['Rhode Island', 'New Jersey', 'Puerto Rico', 'Virgin Islands',\n",
       "       'Guam', 'Maine', 'Massachusetts', 'Louisiana', 'Kentucky',\n",
       "       'Nevada', 'Tennessee', 'Arkansas', 'Georgia', 'Missouri',\n",
       "       'Minnesota', 'California', 'Colorado', 'Florida', 'Hawaii',\n",
       "       'Illinois', 'Vermont', 'Idaho', 'Michigan', 'Ohio', 'Utah',\n",
       "       'Mississippi', 'Northern Mariana Islands', 'Nebraska',\n",
       "       'Connecticut', 'South Dakota', 'Indiana', 'Alaska', 'Arizona',\n",
       "       'New Mexico', 'New York', 'Pennsylvania', 'Virginia',\n",
       "       'New Hampshire', 'Washington', 'Delaware', 'Kansas',\n",
       "       'North Dakota', 'Maryland'], dtype=object)"
      ]
     },
     "execution_count": 17,
     "metadata": {},
     "output_type": "execute_result"
    }
   ],
   "source": [
    "# show unique states for counties coded as \"Unknown\"\n",
    "covid_df[\"o_state\"][covid_df[\"o_county\"] == \"Unknown\"].unique()"
   ]
  },
  {
   "cell_type": "code",
   "execution_count": 18,
   "metadata": {},
   "outputs": [
    {
     "data": {
      "text/plain": [
       "array([nan])"
      ]
     },
     "execution_count": 18,
     "metadata": {},
     "output_type": "execute_result"
    }
   ],
   "source": [
    "# show unique fips codes for counties coded as \"Unknown\"\n",
    "covid_df[\"o_fips\"][covid_df[\"o_county\"] == \"Unknown\"].unique()"
   ]
  },
  {
   "cell_type": "markdown",
   "metadata": {},
   "source": [
    "The missingness in FIPS codes is a major issue since this is the geographic identifier we would use to join these data to other datsets. We will likely need to accurately rectify this missingness in order to accurately combine our data. These don't seem to be erroneous data for the most part. Rather, the missing points reflect when a data point is at the city (rather than county) level and/or if there is no county for that region. "
   ]
  },
  {
   "cell_type": "code",
   "execution_count": 19,
   "metadata": {},
   "outputs": [],
   "source": [
    "# replace rows with missing county with NaN \n",
    "covid_df[\"county\"] = covid_df[\"o_county\"].replace(\"Unknown\", None)"
   ]
  },
  {
   "cell_type": "markdown",
   "metadata": {},
   "source": [
    "### Generate summary statistics"
   ]
  },
  {
   "cell_type": "markdown",
   "metadata": {},
   "source": [
    "The mins and maxes look reasonable for COVID-19 mins and maxes. The distributions are remarkable but also reasonable - we clearly have some outliers on the high end (New York is likely one of those). \n",
    "\n",
    "We have no missing data in the text columns. We have data for 86 unique days, in 55 \"states\" (so the data also include territories), and 1,627 counties. In the original county column, we see there are 1,628 unique values since the NaNs used to be coded as \"Unknown\".\n",
    "\n",
    "We can see that we have some missing data in our FIPS codes column and that we have 2,708 unique codes. \n",
    "\n",
    "Our earliest date was January 21st, 2020. Our last was April 15th, 2020. "
   ]
  },
  {
   "cell_type": "code",
   "execution_count": 33,
   "metadata": {},
   "outputs": [
    {
     "data": {
      "text/html": [
       "<div>\n",
       "<style scoped>\n",
       "    .dataframe tbody tr th:only-of-type {\n",
       "        vertical-align: middle;\n",
       "    }\n",
       "\n",
       "    .dataframe tbody tr th {\n",
       "        vertical-align: top;\n",
       "    }\n",
       "\n",
       "    .dataframe thead th {\n",
       "        text-align: right;\n",
       "    }\n",
       "</style>\n",
       "<table border=\"1\" class=\"dataframe\">\n",
       "  <thead>\n",
       "    <tr style=\"text-align: right;\">\n",
       "      <th></th>\n",
       "      <th>o_date</th>\n",
       "      <th>o_county</th>\n",
       "      <th>o_state</th>\n",
       "      <th>o_fips</th>\n",
       "      <th>o_cases</th>\n",
       "      <th>o_deaths</th>\n",
       "      <th>date</th>\n",
       "      <th>fips</th>\n",
       "      <th>fips_str</th>\n",
       "      <th>state_fips</th>\n",
       "      <th>county_fips</th>\n",
       "      <th>county</th>\n",
       "    </tr>\n",
       "  </thead>\n",
       "  <tbody>\n",
       "    <tr>\n",
       "      <td>count</td>\n",
       "      <td>61971</td>\n",
       "      <td>61971</td>\n",
       "      <td>61971</td>\n",
       "      <td>61164.000000</td>\n",
       "      <td>61971.000000</td>\n",
       "      <td>61971.000000</td>\n",
       "      <td>61971</td>\n",
       "      <td>61164.0</td>\n",
       "      <td>61971</td>\n",
       "      <td>61971</td>\n",
       "      <td>61971</td>\n",
       "      <td>61971</td>\n",
       "    </tr>\n",
       "    <tr>\n",
       "      <td>unique</td>\n",
       "      <td>86</td>\n",
       "      <td>1628</td>\n",
       "      <td>55</td>\n",
       "      <td>NaN</td>\n",
       "      <td>NaN</td>\n",
       "      <td>NaN</td>\n",
       "      <td>86</td>\n",
       "      <td>2708.0</td>\n",
       "      <td>2709</td>\n",
       "      <td>52</td>\n",
       "      <td>284</td>\n",
       "      <td>1627</td>\n",
       "    </tr>\n",
       "    <tr>\n",
       "      <td>top</td>\n",
       "      <td>2020-04-15</td>\n",
       "      <td>Washington</td>\n",
       "      <td>Texas</td>\n",
       "      <td>NaN</td>\n",
       "      <td>NaN</td>\n",
       "      <td>NaN</td>\n",
       "      <td>2020-04-15 00:00:00</td>\n",
       "      <td>53061.0</td>\n",
       "      <td>nan</td>\n",
       "      <td>48</td>\n",
       "      <td>001</td>\n",
       "      <td>Washington</td>\n",
       "    </tr>\n",
       "    <tr>\n",
       "      <td>freq</td>\n",
       "      <td>2722</td>\n",
       "      <td>772</td>\n",
       "      <td>3685</td>\n",
       "      <td>NaN</td>\n",
       "      <td>NaN</td>\n",
       "      <td>NaN</td>\n",
       "      <td>2722</td>\n",
       "      <td>86.0</td>\n",
       "      <td>807</td>\n",
       "      <td>3685</td>\n",
       "      <td>1119</td>\n",
       "      <td>777</td>\n",
       "    </tr>\n",
       "    <tr>\n",
       "      <td>first</td>\n",
       "      <td>NaN</td>\n",
       "      <td>NaN</td>\n",
       "      <td>NaN</td>\n",
       "      <td>NaN</td>\n",
       "      <td>NaN</td>\n",
       "      <td>NaN</td>\n",
       "      <td>2020-01-21 00:00:00</td>\n",
       "      <td>NaN</td>\n",
       "      <td>NaN</td>\n",
       "      <td>NaN</td>\n",
       "      <td>NaN</td>\n",
       "      <td>NaN</td>\n",
       "    </tr>\n",
       "    <tr>\n",
       "      <td>last</td>\n",
       "      <td>NaN</td>\n",
       "      <td>NaN</td>\n",
       "      <td>NaN</td>\n",
       "      <td>NaN</td>\n",
       "      <td>NaN</td>\n",
       "      <td>NaN</td>\n",
       "      <td>2020-04-15 00:00:00</td>\n",
       "      <td>NaN</td>\n",
       "      <td>NaN</td>\n",
       "      <td>NaN</td>\n",
       "      <td>NaN</td>\n",
       "      <td>NaN</td>\n",
       "    </tr>\n",
       "    <tr>\n",
       "      <td>mean</td>\n",
       "      <td>NaN</td>\n",
       "      <td>NaN</td>\n",
       "      <td>NaN</td>\n",
       "      <td>29601.488980</td>\n",
       "      <td>121.685353</td>\n",
       "      <td>4.025415</td>\n",
       "      <td>NaN</td>\n",
       "      <td>NaN</td>\n",
       "      <td>NaN</td>\n",
       "      <td>NaN</td>\n",
       "      <td>NaN</td>\n",
       "      <td>NaN</td>\n",
       "    </tr>\n",
       "    <tr>\n",
       "      <td>std</td>\n",
       "      <td>NaN</td>\n",
       "      <td>NaN</td>\n",
       "      <td>NaN</td>\n",
       "      <td>15528.488936</td>\n",
       "      <td>1520.051958</td>\n",
       "      <td>82.937968</td>\n",
       "      <td>NaN</td>\n",
       "      <td>NaN</td>\n",
       "      <td>NaN</td>\n",
       "      <td>NaN</td>\n",
       "      <td>NaN</td>\n",
       "      <td>NaN</td>\n",
       "    </tr>\n",
       "    <tr>\n",
       "      <td>min</td>\n",
       "      <td>NaN</td>\n",
       "      <td>NaN</td>\n",
       "      <td>NaN</td>\n",
       "      <td>1001.000000</td>\n",
       "      <td>0.000000</td>\n",
       "      <td>0.000000</td>\n",
       "      <td>NaN</td>\n",
       "      <td>NaN</td>\n",
       "      <td>NaN</td>\n",
       "      <td>NaN</td>\n",
       "      <td>NaN</td>\n",
       "      <td>NaN</td>\n",
       "    </tr>\n",
       "    <tr>\n",
       "      <td>25%</td>\n",
       "      <td>NaN</td>\n",
       "      <td>NaN</td>\n",
       "      <td>NaN</td>\n",
       "      <td>17179.000000</td>\n",
       "      <td>2.000000</td>\n",
       "      <td>0.000000</td>\n",
       "      <td>NaN</td>\n",
       "      <td>NaN</td>\n",
       "      <td>NaN</td>\n",
       "      <td>NaN</td>\n",
       "      <td>NaN</td>\n",
       "      <td>NaN</td>\n",
       "    </tr>\n",
       "    <tr>\n",
       "      <td>50%</td>\n",
       "      <td>NaN</td>\n",
       "      <td>NaN</td>\n",
       "      <td>NaN</td>\n",
       "      <td>28143.000000</td>\n",
       "      <td>6.000000</td>\n",
       "      <td>0.000000</td>\n",
       "      <td>NaN</td>\n",
       "      <td>NaN</td>\n",
       "      <td>NaN</td>\n",
       "      <td>NaN</td>\n",
       "      <td>NaN</td>\n",
       "      <td>NaN</td>\n",
       "    </tr>\n",
       "    <tr>\n",
       "      <td>75%</td>\n",
       "      <td>NaN</td>\n",
       "      <td>NaN</td>\n",
       "      <td>NaN</td>\n",
       "      <td>42131.000000</td>\n",
       "      <td>25.000000</td>\n",
       "      <td>1.000000</td>\n",
       "      <td>NaN</td>\n",
       "      <td>NaN</td>\n",
       "      <td>NaN</td>\n",
       "      <td>NaN</td>\n",
       "      <td>NaN</td>\n",
       "      <td>NaN</td>\n",
       "    </tr>\n",
       "    <tr>\n",
       "      <td>max</td>\n",
       "      <td>NaN</td>\n",
       "      <td>NaN</td>\n",
       "      <td>NaN</td>\n",
       "      <td>56043.000000</td>\n",
       "      <td>118302.000000</td>\n",
       "      <td>8215.000000</td>\n",
       "      <td>NaN</td>\n",
       "      <td>NaN</td>\n",
       "      <td>NaN</td>\n",
       "      <td>NaN</td>\n",
       "      <td>NaN</td>\n",
       "      <td>NaN</td>\n",
       "    </tr>\n",
       "  </tbody>\n",
       "</table>\n",
       "</div>"
      ],
      "text/plain": [
       "            o_date    o_county o_state        o_fips        o_cases  \\\n",
       "count        61971       61971   61971  61164.000000   61971.000000   \n",
       "unique          86        1628      55           NaN            NaN   \n",
       "top     2020-04-15  Washington   Texas           NaN            NaN   \n",
       "freq          2722         772    3685           NaN            NaN   \n",
       "first          NaN         NaN     NaN           NaN            NaN   \n",
       "last           NaN         NaN     NaN           NaN            NaN   \n",
       "mean           NaN         NaN     NaN  29601.488980     121.685353   \n",
       "std            NaN         NaN     NaN  15528.488936    1520.051958   \n",
       "min            NaN         NaN     NaN   1001.000000       0.000000   \n",
       "25%            NaN         NaN     NaN  17179.000000       2.000000   \n",
       "50%            NaN         NaN     NaN  28143.000000       6.000000   \n",
       "75%            NaN         NaN     NaN  42131.000000      25.000000   \n",
       "max            NaN         NaN     NaN  56043.000000  118302.000000   \n",
       "\n",
       "            o_deaths                 date     fips fips_str state_fips  \\\n",
       "count   61971.000000                61971  61164.0    61971      61971   \n",
       "unique           NaN                   86   2708.0     2709         52   \n",
       "top              NaN  2020-04-15 00:00:00  53061.0      nan         48   \n",
       "freq             NaN                 2722     86.0      807       3685   \n",
       "first            NaN  2020-01-21 00:00:00      NaN      NaN        NaN   \n",
       "last             NaN  2020-04-15 00:00:00      NaN      NaN        NaN   \n",
       "mean        4.025415                  NaN      NaN      NaN        NaN   \n",
       "std        82.937968                  NaN      NaN      NaN        NaN   \n",
       "min         0.000000                  NaN      NaN      NaN        NaN   \n",
       "25%         0.000000                  NaN      NaN      NaN        NaN   \n",
       "50%         0.000000                  NaN      NaN      NaN        NaN   \n",
       "75%         1.000000                  NaN      NaN      NaN        NaN   \n",
       "max      8215.000000                  NaN      NaN      NaN        NaN   \n",
       "\n",
       "       county_fips      county  \n",
       "count        61971       61971  \n",
       "unique         284        1627  \n",
       "top            001  Washington  \n",
       "freq          1119         777  \n",
       "first          NaN         NaN  \n",
       "last           NaN         NaN  \n",
       "mean           NaN         NaN  \n",
       "std            NaN         NaN  \n",
       "min            NaN         NaN  \n",
       "25%            NaN         NaN  \n",
       "50%            NaN         NaN  \n",
       "75%            NaN         NaN  \n",
       "max            NaN         NaN  "
      ]
     },
     "execution_count": 33,
     "metadata": {},
     "output_type": "execute_result"
    }
   ],
   "source": [
    "# display summary statistics\n",
    "covid_df.describe(include = 'all')"
   ]
  },
  {
   "cell_type": "markdown",
   "metadata": {},
   "source": [
    "Now that we have verified our column conversion worked, we drop the columns for which we had added additional columns with the correct data type and remove the \"o_\" prefix since we no longer need to compare original versus converted columns. Columns are reordered to match the original ordering in the dataset."
   ]
  },
  {
   "cell_type": "code",
   "execution_count": 23,
   "metadata": {},
   "outputs": [
    {
     "data": {
      "text/html": [
       "<div>\n",
       "<style scoped>\n",
       "    .dataframe tbody tr th:only-of-type {\n",
       "        vertical-align: middle;\n",
       "    }\n",
       "\n",
       "    .dataframe tbody tr th {\n",
       "        vertical-align: top;\n",
       "    }\n",
       "\n",
       "    .dataframe thead th {\n",
       "        text-align: right;\n",
       "    }\n",
       "</style>\n",
       "<table border=\"1\" class=\"dataframe\">\n",
       "  <thead>\n",
       "    <tr style=\"text-align: right;\">\n",
       "      <th></th>\n",
       "      <th>date</th>\n",
       "      <th>fips</th>\n",
       "      <th>state_fips</th>\n",
       "      <th>county_fips</th>\n",
       "      <th>county</th>\n",
       "      <th>state</th>\n",
       "      <th>cases</th>\n",
       "      <th>deaths</th>\n",
       "    </tr>\n",
       "  </thead>\n",
       "  <tbody>\n",
       "    <tr>\n",
       "      <td>0</td>\n",
       "      <td>2020-01-21</td>\n",
       "      <td>53061.0</td>\n",
       "      <td>53</td>\n",
       "      <td>061</td>\n",
       "      <td>Snohomish</td>\n",
       "      <td>Washington</td>\n",
       "      <td>1</td>\n",
       "      <td>0</td>\n",
       "    </tr>\n",
       "    <tr>\n",
       "      <td>1</td>\n",
       "      <td>2020-01-22</td>\n",
       "      <td>53061.0</td>\n",
       "      <td>53</td>\n",
       "      <td>061</td>\n",
       "      <td>Snohomish</td>\n",
       "      <td>Washington</td>\n",
       "      <td>1</td>\n",
       "      <td>0</td>\n",
       "    </tr>\n",
       "    <tr>\n",
       "      <td>2</td>\n",
       "      <td>2020-01-23</td>\n",
       "      <td>53061.0</td>\n",
       "      <td>53</td>\n",
       "      <td>061</td>\n",
       "      <td>Snohomish</td>\n",
       "      <td>Washington</td>\n",
       "      <td>1</td>\n",
       "      <td>0</td>\n",
       "    </tr>\n",
       "    <tr>\n",
       "      <td>3</td>\n",
       "      <td>2020-01-24</td>\n",
       "      <td>17031.0</td>\n",
       "      <td>17</td>\n",
       "      <td>031</td>\n",
       "      <td>Cook</td>\n",
       "      <td>Illinois</td>\n",
       "      <td>1</td>\n",
       "      <td>0</td>\n",
       "    </tr>\n",
       "    <tr>\n",
       "      <td>4</td>\n",
       "      <td>2020-01-24</td>\n",
       "      <td>53061.0</td>\n",
       "      <td>53</td>\n",
       "      <td>061</td>\n",
       "      <td>Snohomish</td>\n",
       "      <td>Washington</td>\n",
       "      <td>1</td>\n",
       "      <td>0</td>\n",
       "    </tr>\n",
       "  </tbody>\n",
       "</table>\n",
       "</div>"
      ],
      "text/plain": [
       "        date     fips state_fips county_fips     county       state  cases  \\\n",
       "0 2020-01-21  53061.0         53         061  Snohomish  Washington      1   \n",
       "1 2020-01-22  53061.0         53         061  Snohomish  Washington      1   \n",
       "2 2020-01-23  53061.0         53         061  Snohomish  Washington      1   \n",
       "3 2020-01-24  17031.0         17         031       Cook    Illinois      1   \n",
       "4 2020-01-24  53061.0         53         061  Snohomish  Washington      1   \n",
       "\n",
       "   deaths  \n",
       "0       0  \n",
       "1       0  \n",
       "2       0  \n",
       "3       0  \n",
       "4       0  "
      ]
     },
     "execution_count": 23,
     "metadata": {},
     "output_type": "execute_result"
    }
   ],
   "source": [
    "# drop, rename, and reorder columns\n",
    "converted_covid_df = covid_df.drop(columns = [\"o_date\", \"o_fips\", \"o_county\", \"fips_str\"]).rename(columns = lambda x: x.replace('o_', ''))[[\"date\", \"fips\", \"state_fips\", \"county_fips\",\"county\", \"state\", \"cases\", \"deaths\"]]\n",
    "# visual inspection\n",
    "converted_covid_df.head()"
   ]
  },
  {
   "cell_type": "markdown",
   "metadata": {},
   "source": [
    "### Check duplicates"
   ]
  },
  {
   "cell_type": "markdown",
   "metadata": {},
   "source": [
    "There are no perfectly duplicated rows. "
   ]
  },
  {
   "cell_type": "code",
   "execution_count": 24,
   "metadata": {},
   "outputs": [
    {
     "data": {
      "text/plain": [
       "0"
      ]
     },
     "execution_count": 24,
     "metadata": {},
     "output_type": "execute_result"
    }
   ],
   "source": [
    "sum(converted_covid_df.duplicated())"
   ]
  },
  {
   "cell_type": "markdown",
   "metadata": {},
   "source": [
    "There are 2,721 unique county-state pairs. "
   ]
  },
  {
   "cell_type": "code",
   "execution_count": 25,
   "metadata": {},
   "outputs": [
    {
     "data": {
      "text/plain": [
       "2721"
      ]
     },
     "execution_count": 25,
     "metadata": {},
     "output_type": "execute_result"
    }
   ],
   "source": [
    "# create column to store county-state pairs\n",
    "converted_covid_df[\"county_state\"] = (converted_covid_df[\"county\"] + \", \" + converted_covid_df[\"state\"])\n",
    "# count unique county-state pairs\n",
    "len(converted_covid_df[\"county_state\"].unique())"
   ]
  },
  {
   "cell_type": "markdown",
   "metadata": {},
   "source": [
    "Suffolk, Massachusetts appears the most frequently, which is unexpected. It has 20 more entries than there are days in the dataset. The next county is Snohomish, Washington occurs 86 times, which could represent one record per day. Some areas appear only once. "
   ]
  },
  {
   "cell_type": "code",
   "execution_count": 26,
   "metadata": {},
   "outputs": [
    {
     "data": {
      "text/plain": [
       "Suffolk, Massachusetts     106\n",
       "Snohomish, Washington       86\n",
       "Cook, Illinois              83\n",
       "Orange, California          82\n",
       "Los Angeles, California     81\n",
       "                          ... \n",
       "Butte, South Dakota          1\n",
       "Smith, Kansas                1\n",
       "Harrison, Ohio               1\n",
       "Washita, Oklahoma            1\n",
       "Boundary, Idaho              1\n",
       "Name: county_state, Length: 2721, dtype: int64"
      ]
     },
     "execution_count": 26,
     "metadata": {},
     "output_type": "execute_result"
    }
   ],
   "source": [
    "converted_covid_df[\"county_state\"].value_counts()"
   ]
  },
  {
   "cell_type": "markdown",
   "metadata": {},
   "source": [
    "Suffolk, Massachusettes has only 75 reported days. "
   ]
  },
  {
   "cell_type": "code",
   "execution_count": 27,
   "metadata": {},
   "outputs": [
    {
     "data": {
      "text/plain": [
       "75"
      ]
     },
     "execution_count": 27,
     "metadata": {},
     "output_type": "execute_result"
    }
   ],
   "source": [
    "len(converted_covid_df[\"date\"][converted_covid_df[\"county_state\"] == \"Suffolk, Massachusetts\"].unique())"
   ]
  },
  {
   "cell_type": "markdown",
   "metadata": {},
   "source": [
    "We can see that the maximum number of unique dates is for Snohomish, Washington (86). We will need to flatten our file so that it is at the date level - so that there is one date per county/state pair. "
   ]
  },
  {
   "cell_type": "code",
   "execution_count": 28,
   "metadata": {},
   "outputs": [
    {
     "data": {
      "text/html": [
       "<div>\n",
       "<style scoped>\n",
       "    .dataframe tbody tr th:only-of-type {\n",
       "        vertical-align: middle;\n",
       "    }\n",
       "\n",
       "    .dataframe tbody tr th {\n",
       "        vertical-align: top;\n",
       "    }\n",
       "\n",
       "    .dataframe thead th {\n",
       "        text-align: right;\n",
       "    }\n",
       "</style>\n",
       "<table border=\"1\" class=\"dataframe\">\n",
       "  <thead>\n",
       "    <tr style=\"text-align: right;\">\n",
       "      <th></th>\n",
       "      <th>county_state</th>\n",
       "      <th>date</th>\n",
       "    </tr>\n",
       "  </thead>\n",
       "  <tbody>\n",
       "    <tr>\n",
       "      <td>2255</td>\n",
       "      <td>Snohomish, Washington</td>\n",
       "      <td>86</td>\n",
       "    </tr>\n",
       "    <tr>\n",
       "      <td>548</td>\n",
       "      <td>Cook, Illinois</td>\n",
       "      <td>83</td>\n",
       "    </tr>\n",
       "    <tr>\n",
       "      <td>1845</td>\n",
       "      <td>Orange, California</td>\n",
       "      <td>82</td>\n",
       "    </tr>\n",
       "    <tr>\n",
       "      <td>1462</td>\n",
       "      <td>Los Angeles, California</td>\n",
       "      <td>81</td>\n",
       "    </tr>\n",
       "    <tr>\n",
       "      <td>1528</td>\n",
       "      <td>Maricopa, Arizona</td>\n",
       "      <td>81</td>\n",
       "    </tr>\n",
       "  </tbody>\n",
       "</table>\n",
       "</div>"
      ],
      "text/plain": [
       "                 county_state  date\n",
       "2255    Snohomish, Washington    86\n",
       "548            Cook, Illinois    83\n",
       "1845       Orange, California    82\n",
       "1462  Los Angeles, California    81\n",
       "1528        Maricopa, Arizona    81"
      ]
     },
     "execution_count": 28,
     "metadata": {},
     "output_type": "execute_result"
    }
   ],
   "source": [
    "# show first 5 rows of dataframe\n",
    "converted_covid_df.groupby('county_state').date.nunique().reset_index().sort_values('date', ascending = 0).head(5)"
   ]
  },
  {
   "cell_type": "code",
   "execution_count": 29,
   "metadata": {},
   "outputs": [
    {
     "data": {
      "text/html": [
       "<div>\n",
       "<style scoped>\n",
       "    .dataframe tbody tr th:only-of-type {\n",
       "        vertical-align: middle;\n",
       "    }\n",
       "\n",
       "    .dataframe tbody tr th {\n",
       "        vertical-align: top;\n",
       "    }\n",
       "\n",
       "    .dataframe thead th {\n",
       "        text-align: right;\n",
       "    }\n",
       "</style>\n",
       "<table border=\"1\" class=\"dataframe\">\n",
       "  <thead>\n",
       "    <tr style=\"text-align: right;\">\n",
       "      <th></th>\n",
       "      <th>county_state</th>\n",
       "      <th>date</th>\n",
       "    </tr>\n",
       "  </thead>\n",
       "  <tbody>\n",
       "    <tr>\n",
       "      <td>1799</td>\n",
       "      <td>Nome Census Area, Alaska</td>\n",
       "      <td>1</td>\n",
       "    </tr>\n",
       "    <tr>\n",
       "      <td>27</td>\n",
       "      <td>Alcona, Michigan</td>\n",
       "      <td>1</td>\n",
       "    </tr>\n",
       "    <tr>\n",
       "      <td>1731</td>\n",
       "      <td>Morrill, Nebraska</td>\n",
       "      <td>1</td>\n",
       "    </tr>\n",
       "    <tr>\n",
       "      <td>1802</td>\n",
       "      <td>Norman, Minnesota</td>\n",
       "      <td>1</td>\n",
       "    </tr>\n",
       "    <tr>\n",
       "      <td>210</td>\n",
       "      <td>Boundary, Idaho</td>\n",
       "      <td>1</td>\n",
       "    </tr>\n",
       "  </tbody>\n",
       "</table>\n",
       "</div>"
      ],
      "text/plain": [
       "                  county_state  date\n",
       "1799  Nome Census Area, Alaska     1\n",
       "27            Alcona, Michigan     1\n",
       "1731         Morrill, Nebraska     1\n",
       "1802         Norman, Minnesota     1\n",
       "210            Boundary, Idaho     1"
      ]
     },
     "execution_count": 29,
     "metadata": {},
     "output_type": "execute_result"
    }
   ],
   "source": [
    "# show first 5 rows of dataframe\n",
    "converted_covid_df.groupby('county_state').date.nunique().reset_index().sort_values('date', ascending = 0).tail(5)"
   ]
  },
  {
   "cell_type": "markdown",
   "metadata": {},
   "source": [
    "### Convert to appropriate level"
   ]
  },
  {
   "cell_type": "markdown",
   "metadata": {},
   "source": [
    "Here, we flatten the file so that there is one row per county-state pair for each day. We sum over the cases and deaths for that day to generate a new cases and deaths column. "
   ]
  },
  {
   "cell_type": "code",
   "execution_count": 30,
   "metadata": {},
   "outputs": [],
   "source": [
    "# create new dataframe flattened to county-state pair and date level \n",
    "flattened_covid_df = converted_covid_df.groupby(['county_state', 'date']).agg(\n",
    "    {\n",
    "     'state': 'first',\n",
    "     'county': 'first',\n",
    "     'fips': np.unique,\n",
    "     'county_fips': np.unique,\n",
    "     'state_fips':np.unique,\n",
    "     'cases':np.sum, \n",
    "     'deaths':np.sum\n",
    "    }).reset_index().explode('fips').explode('county_fips')"
   ]
  },
  {
   "cell_type": "code",
   "execution_count": 31,
   "metadata": {},
   "outputs": [
    {
     "data": {
      "text/html": [
       "<div>\n",
       "<style scoped>\n",
       "    .dataframe tbody tr th:only-of-type {\n",
       "        vertical-align: middle;\n",
       "    }\n",
       "\n",
       "    .dataframe tbody tr th {\n",
       "        vertical-align: top;\n",
       "    }\n",
       "\n",
       "    .dataframe thead th {\n",
       "        text-align: right;\n",
       "    }\n",
       "</style>\n",
       "<table border=\"1\" class=\"dataframe\">\n",
       "  <thead>\n",
       "    <tr style=\"text-align: right;\">\n",
       "      <th></th>\n",
       "      <th>county_state</th>\n",
       "      <th>date</th>\n",
       "      <th>state</th>\n",
       "      <th>county</th>\n",
       "      <th>fips</th>\n",
       "      <th>county_fips</th>\n",
       "      <th>state_fips</th>\n",
       "      <th>cases</th>\n",
       "      <th>deaths</th>\n",
       "    </tr>\n",
       "  </thead>\n",
       "  <tbody>\n",
       "    <tr>\n",
       "      <td>0</td>\n",
       "      <td>Abbeville, South Carolina</td>\n",
       "      <td>2020-03-19</td>\n",
       "      <td>South Carolina</td>\n",
       "      <td>Abbeville</td>\n",
       "      <td>45001</td>\n",
       "      <td>001</td>\n",
       "      <td>[45]</td>\n",
       "      <td>1</td>\n",
       "      <td>0</td>\n",
       "    </tr>\n",
       "    <tr>\n",
       "      <td>1</td>\n",
       "      <td>Abbeville, South Carolina</td>\n",
       "      <td>2020-03-20</td>\n",
       "      <td>South Carolina</td>\n",
       "      <td>Abbeville</td>\n",
       "      <td>45001</td>\n",
       "      <td>001</td>\n",
       "      <td>[45]</td>\n",
       "      <td>1</td>\n",
       "      <td>0</td>\n",
       "    </tr>\n",
       "    <tr>\n",
       "      <td>2</td>\n",
       "      <td>Abbeville, South Carolina</td>\n",
       "      <td>2020-03-21</td>\n",
       "      <td>South Carolina</td>\n",
       "      <td>Abbeville</td>\n",
       "      <td>45001</td>\n",
       "      <td>001</td>\n",
       "      <td>[45]</td>\n",
       "      <td>1</td>\n",
       "      <td>0</td>\n",
       "    </tr>\n",
       "    <tr>\n",
       "      <td>3</td>\n",
       "      <td>Abbeville, South Carolina</td>\n",
       "      <td>2020-03-22</td>\n",
       "      <td>South Carolina</td>\n",
       "      <td>Abbeville</td>\n",
       "      <td>45001</td>\n",
       "      <td>001</td>\n",
       "      <td>[45]</td>\n",
       "      <td>1</td>\n",
       "      <td>0</td>\n",
       "    </tr>\n",
       "    <tr>\n",
       "      <td>4</td>\n",
       "      <td>Abbeville, South Carolina</td>\n",
       "      <td>2020-03-23</td>\n",
       "      <td>South Carolina</td>\n",
       "      <td>Abbeville</td>\n",
       "      <td>45001</td>\n",
       "      <td>001</td>\n",
       "      <td>[45]</td>\n",
       "      <td>1</td>\n",
       "      <td>0</td>\n",
       "    </tr>\n",
       "  </tbody>\n",
       "</table>\n",
       "</div>"
      ],
      "text/plain": [
       "                county_state       date           state     county   fips  \\\n",
       "0  Abbeville, South Carolina 2020-03-19  South Carolina  Abbeville  45001   \n",
       "1  Abbeville, South Carolina 2020-03-20  South Carolina  Abbeville  45001   \n",
       "2  Abbeville, South Carolina 2020-03-21  South Carolina  Abbeville  45001   \n",
       "3  Abbeville, South Carolina 2020-03-22  South Carolina  Abbeville  45001   \n",
       "4  Abbeville, South Carolina 2020-03-23  South Carolina  Abbeville  45001   \n",
       "\n",
       "  county_fips state_fips  cases  deaths  \n",
       "0         001       [45]      1       0  \n",
       "1         001       [45]      1       0  \n",
       "2         001       [45]      1       0  \n",
       "3         001       [45]      1       0  \n",
       "4         001       [45]      1       0  "
      ]
     },
     "execution_count": 31,
     "metadata": {},
     "output_type": "execute_result"
    }
   ],
   "source": [
    "# check new dataframe \n",
    "flattened_covid_df.head()"
   ]
  },
  {
   "cell_type": "code",
   "execution_count": 34,
   "metadata": {},
   "outputs": [
    {
     "data": {
      "text/html": [
       "<div>\n",
       "<style scoped>\n",
       "    .dataframe tbody tr th:only-of-type {\n",
       "        vertical-align: middle;\n",
       "    }\n",
       "\n",
       "    .dataframe tbody tr th {\n",
       "        vertical-align: top;\n",
       "    }\n",
       "\n",
       "    .dataframe thead th {\n",
       "        text-align: right;\n",
       "    }\n",
       "</style>\n",
       "<table border=\"1\" class=\"dataframe\">\n",
       "  <thead>\n",
       "    <tr style=\"text-align: right;\">\n",
       "      <th></th>\n",
       "      <th>county_state</th>\n",
       "      <th>date</th>\n",
       "      <th>state</th>\n",
       "      <th>county</th>\n",
       "      <th>fips</th>\n",
       "      <th>county_fips</th>\n",
       "      <th>state_fips</th>\n",
       "      <th>cases</th>\n",
       "      <th>deaths</th>\n",
       "    </tr>\n",
       "  </thead>\n",
       "  <tbody>\n",
       "    <tr>\n",
       "      <td>count</td>\n",
       "      <td>65523</td>\n",
       "      <td>65523</td>\n",
       "      <td>65523</td>\n",
       "      <td>65523</td>\n",
       "      <td>62940.0</td>\n",
       "      <td>65523</td>\n",
       "      <td>65523</td>\n",
       "      <td>65523.000000</td>\n",
       "      <td>65523.000000</td>\n",
       "    </tr>\n",
       "    <tr>\n",
       "      <td>unique</td>\n",
       "      <td>2721</td>\n",
       "      <td>86</td>\n",
       "      <td>55</td>\n",
       "      <td>1627</td>\n",
       "      <td>2708.0</td>\n",
       "      <td>284</td>\n",
       "      <td>644</td>\n",
       "      <td>NaN</td>\n",
       "      <td>NaN</td>\n",
       "    </tr>\n",
       "    <tr>\n",
       "      <td>top</td>\n",
       "      <td>Suffolk, Massachusetts</td>\n",
       "      <td>2020-04-15 00:00:00</td>\n",
       "      <td>Georgia</td>\n",
       "      <td>Union</td>\n",
       "      <td>25025.0</td>\n",
       "      <td>nan</td>\n",
       "      <td>[48]</td>\n",
       "      <td>NaN</td>\n",
       "      <td>NaN</td>\n",
       "    </tr>\n",
       "    <tr>\n",
       "      <td>freq</td>\n",
       "      <td>292</td>\n",
       "      <td>2866</td>\n",
       "      <td>3818</td>\n",
       "      <td>1409</td>\n",
       "      <td>168.0</td>\n",
       "      <td>2583</td>\n",
       "      <td>3685</td>\n",
       "      <td>NaN</td>\n",
       "      <td>NaN</td>\n",
       "    </tr>\n",
       "    <tr>\n",
       "      <td>first</td>\n",
       "      <td>NaN</td>\n",
       "      <td>2020-01-21 00:00:00</td>\n",
       "      <td>NaN</td>\n",
       "      <td>NaN</td>\n",
       "      <td>NaN</td>\n",
       "      <td>NaN</td>\n",
       "      <td>NaN</td>\n",
       "      <td>NaN</td>\n",
       "      <td>NaN</td>\n",
       "    </tr>\n",
       "    <tr>\n",
       "      <td>last</td>\n",
       "      <td>NaN</td>\n",
       "      <td>2020-04-15 00:00:00</td>\n",
       "      <td>NaN</td>\n",
       "      <td>NaN</td>\n",
       "      <td>NaN</td>\n",
       "      <td>NaN</td>\n",
       "      <td>NaN</td>\n",
       "      <td>NaN</td>\n",
       "      <td>NaN</td>\n",
       "    </tr>\n",
       "    <tr>\n",
       "      <td>mean</td>\n",
       "      <td>NaN</td>\n",
       "      <td>NaN</td>\n",
       "      <td>NaN</td>\n",
       "      <td>NaN</td>\n",
       "      <td>NaN</td>\n",
       "      <td>NaN</td>\n",
       "      <td>NaN</td>\n",
       "      <td>144.773652</td>\n",
       "      <td>4.658761</td>\n",
       "    </tr>\n",
       "    <tr>\n",
       "      <td>std</td>\n",
       "      <td>NaN</td>\n",
       "      <td>NaN</td>\n",
       "      <td>NaN</td>\n",
       "      <td>NaN</td>\n",
       "      <td>NaN</td>\n",
       "      <td>NaN</td>\n",
       "      <td>NaN</td>\n",
       "      <td>1521.337131</td>\n",
       "      <td>81.936473</td>\n",
       "    </tr>\n",
       "    <tr>\n",
       "      <td>min</td>\n",
       "      <td>NaN</td>\n",
       "      <td>NaN</td>\n",
       "      <td>NaN</td>\n",
       "      <td>NaN</td>\n",
       "      <td>NaN</td>\n",
       "      <td>NaN</td>\n",
       "      <td>NaN</td>\n",
       "      <td>1.000000</td>\n",
       "      <td>0.000000</td>\n",
       "    </tr>\n",
       "    <tr>\n",
       "      <td>25%</td>\n",
       "      <td>NaN</td>\n",
       "      <td>NaN</td>\n",
       "      <td>NaN</td>\n",
       "      <td>NaN</td>\n",
       "      <td>NaN</td>\n",
       "      <td>NaN</td>\n",
       "      <td>NaN</td>\n",
       "      <td>2.000000</td>\n",
       "      <td>0.000000</td>\n",
       "    </tr>\n",
       "    <tr>\n",
       "      <td>50%</td>\n",
       "      <td>NaN</td>\n",
       "      <td>NaN</td>\n",
       "      <td>NaN</td>\n",
       "      <td>NaN</td>\n",
       "      <td>NaN</td>\n",
       "      <td>NaN</td>\n",
       "      <td>NaN</td>\n",
       "      <td>7.000000</td>\n",
       "      <td>0.000000</td>\n",
       "    </tr>\n",
       "    <tr>\n",
       "      <td>75%</td>\n",
       "      <td>NaN</td>\n",
       "      <td>NaN</td>\n",
       "      <td>NaN</td>\n",
       "      <td>NaN</td>\n",
       "      <td>NaN</td>\n",
       "      <td>NaN</td>\n",
       "      <td>NaN</td>\n",
       "      <td>29.000000</td>\n",
       "      <td>1.000000</td>\n",
       "    </tr>\n",
       "    <tr>\n",
       "      <td>max</td>\n",
       "      <td>NaN</td>\n",
       "      <td>NaN</td>\n",
       "      <td>NaN</td>\n",
       "      <td>NaN</td>\n",
       "      <td>NaN</td>\n",
       "      <td>NaN</td>\n",
       "      <td>NaN</td>\n",
       "      <td>118302.000000</td>\n",
       "      <td>8215.000000</td>\n",
       "    </tr>\n",
       "  </tbody>\n",
       "</table>\n",
       "</div>"
      ],
      "text/plain": [
       "                  county_state                 date    state county     fips  \\\n",
       "count                    65523                65523    65523  65523  62940.0   \n",
       "unique                    2721                   86       55   1627   2708.0   \n",
       "top     Suffolk, Massachusetts  2020-04-15 00:00:00  Georgia  Union  25025.0   \n",
       "freq                       292                 2866     3818   1409    168.0   \n",
       "first                      NaN  2020-01-21 00:00:00      NaN    NaN      NaN   \n",
       "last                       NaN  2020-04-15 00:00:00      NaN    NaN      NaN   \n",
       "mean                       NaN                  NaN      NaN    NaN      NaN   \n",
       "std                        NaN                  NaN      NaN    NaN      NaN   \n",
       "min                        NaN                  NaN      NaN    NaN      NaN   \n",
       "25%                        NaN                  NaN      NaN    NaN      NaN   \n",
       "50%                        NaN                  NaN      NaN    NaN      NaN   \n",
       "75%                        NaN                  NaN      NaN    NaN      NaN   \n",
       "max                        NaN                  NaN      NaN    NaN      NaN   \n",
       "\n",
       "       county_fips state_fips          cases        deaths  \n",
       "count        65523      65523   65523.000000  65523.000000  \n",
       "unique         284        644            NaN           NaN  \n",
       "top            nan       [48]            NaN           NaN  \n",
       "freq          2583       3685            NaN           NaN  \n",
       "first          NaN        NaN            NaN           NaN  \n",
       "last           NaN        NaN            NaN           NaN  \n",
       "mean           NaN        NaN     144.773652      4.658761  \n",
       "std            NaN        NaN    1521.337131     81.936473  \n",
       "min            NaN        NaN       1.000000      0.000000  \n",
       "25%            NaN        NaN       2.000000      0.000000  \n",
       "50%            NaN        NaN       7.000000      0.000000  \n",
       "75%            NaN        NaN      29.000000      1.000000  \n",
       "max            NaN        NaN  118302.000000   8215.000000  "
      ]
     },
     "execution_count": 34,
     "metadata": {},
     "output_type": "execute_result"
    }
   ],
   "source": [
    "flattened_covid_df.describe(include = 'all')"
   ]
  },
  {
   "cell_type": "markdown",
   "metadata": {},
   "source": [
    "### Pickle data"
   ]
  },
  {
   "cell_type": "code",
   "execution_count": 32,
   "metadata": {},
   "outputs": [],
   "source": [
    "pickle.dump(flattened_covid_df, open( \"../Data_pkl/flattened_covid_df.pkl\", \"wb\" ) )"
   ]
  },
  {
   "cell_type": "code",
   "execution_count": null,
   "metadata": {},
   "outputs": [],
   "source": []
  }
 ],
 "metadata": {
  "kernelspec": {
   "display_name": "Python 3",
   "language": "python",
   "name": "python3"
  },
  "language_info": {
   "codemirror_mode": {
    "name": "ipython",
    "version": 3
   },
   "file_extension": ".py",
   "mimetype": "text/x-python",
   "name": "python",
   "nbconvert_exporter": "python",
   "pygments_lexer": "ipython3",
   "version": "3.7.4"
  }
 },
 "nbformat": 4,
 "nbformat_minor": 2
}
